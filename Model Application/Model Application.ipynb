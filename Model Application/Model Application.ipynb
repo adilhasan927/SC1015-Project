{
 "cells": [
  {
   "cell_type": "markdown",
   "id": "5f0e5ae6",
   "metadata": {},
   "source": [
    "# Model Application\n",
    "\n",
    "Finally, time to actually solve our problem!\n",
    "\n",
    "Our problem statement: Recommend restaurants which are in some important way *different*, but otherwise *similar* to the restaurants a user has already been to, such that by following our recommendation system users will end up having novel experiences which are nevertheless somewhat familiar to them.\n",
    "\n",
    "How do we find restaurants which are \"different in an important way\"? That is what our clustering did, and we ended up with some very clearly distinct clusters with large gaps between them, as shown by the UMAP visualisation and the high CV F1 score of the classifier.\n",
    "\n",
    "How do we quantify being *otherwise similar*? Just the normal K-Prototypes distance metric, but constrained by the previous step of restricting ourselves to the furthest-away cluster.\n",
    "\n",
    "There is one kink in this, and that is that as a user's history grows it will become harder for any new history items (that is to say, restaurants) to have a signficant effect on their aggregate distances to restaurants in the data set. The solution we choose is to apply some kind of scaling factor, let's say 0.75, such that each history item's contribution to distance is 0.75 of the next history item's contribution, such that by the eight history item its contribution is reduced to (0.75)^7 ~ 1/10th of what it would otherwise be. With this in mind, we'll cap the length of history at 10 history items."
   ]
  },
  {
   "cell_type": "markdown",
   "id": "1a620484",
   "metadata": {},
   "source": [
    "Our proposed procedure, then, will be to find the \"important difference\" (far-away clusters), and then finding the \"otherwise similar\" points to recommend (close points within the cluster). In the case of the user providing multiple points, we will sum the distance from each point scaled according to the age of the user's history items, with the history capped at a certain length.  "
   ]
  },
  {
   "cell_type": "markdown",
   "id": "07c502dd",
   "metadata": {},
   "source": [
    "## Initialising libraries"
   ]
  },
  {
   "cell_type": "code",
   "execution_count": 1,
   "id": "d86001ff",
   "metadata": {},
   "outputs": [],
   "source": [
    "import warnings\n",
    "warnings.simplefilter(action='ignore', category=FutureWarning)\n",
    "\n",
    "import numpy as np\n",
    "import pandas as pd\n",
    "\n",
    "import matplotlib.pyplot as plt\n",
    "import seaborn as sns\n",
    "%matplotlib inline\n",
    "\n",
    "from kmodes.kprototypes import KPrototypes\n",
    "import pickle"
   ]
  },
  {
   "cell_type": "markdown",
   "id": "646a4187",
   "metadata": {},
   "source": [
    "## Importing dataset and models"
   ]
  },
  {
   "cell_type": "code",
   "execution_count": 2,
   "id": "d7e6af28",
   "metadata": {},
   "outputs": [
    {
     "data": {
      "text/html": [
       "<div>\n",
       "<style scoped>\n",
       "    .dataframe tbody tr th:only-of-type {\n",
       "        vertical-align: middle;\n",
       "    }\n",
       "\n",
       "    .dataframe tbody tr th {\n",
       "        vertical-align: top;\n",
       "    }\n",
       "\n",
       "    .dataframe thead th {\n",
       "        text-align: right;\n",
       "    }\n",
       "</style>\n",
       "<table border=\"1\" class=\"dataframe\">\n",
       "  <thead>\n",
       "    <tr style=\"text-align: right;\">\n",
       "      <th></th>\n",
       "      <th>name</th>\n",
       "      <th>rating</th>\n",
       "      <th>latitude</th>\n",
       "      <th>longitude</th>\n",
       "      <th>price</th>\n",
       "      <th>cuisine_cats</th>\n",
       "      <th>mult_cuisines</th>\n",
       "      <th>Asian Variety</th>\n",
       "      <th>Multi-Cuisine</th>\n",
       "      <th>Korean</th>\n",
       "      <th>...</th>\n",
       "      <th>Western Variety</th>\n",
       "      <th>Vietnamese</th>\n",
       "      <th>Beijing</th>\n",
       "      <th>Russian</th>\n",
       "      <th>Foochow</th>\n",
       "      <th>Hakka</th>\n",
       "      <th>Caribbean</th>\n",
       "      <th>Filipino</th>\n",
       "      <th>Irish</th>\n",
       "      <th>Dong Bei</th>\n",
       "    </tr>\n",
       "  </thead>\n",
       "  <tbody>\n",
       "    <tr>\n",
       "      <th>0</th>\n",
       "      <td>1-V:U</td>\n",
       "      <td>3.5</td>\n",
       "      <td>1.252299</td>\n",
       "      <td>103.820211</td>\n",
       "      <td>40.5</td>\n",
       "      <td>[0]</td>\n",
       "      <td>0</td>\n",
       "      <td>1</td>\n",
       "      <td>0</td>\n",
       "      <td>0</td>\n",
       "      <td>...</td>\n",
       "      <td>0</td>\n",
       "      <td>0</td>\n",
       "      <td>0</td>\n",
       "      <td>0</td>\n",
       "      <td>0</td>\n",
       "      <td>0</td>\n",
       "      <td>0</td>\n",
       "      <td>0</td>\n",
       "      <td>0</td>\n",
       "      <td>0</td>\n",
       "    </tr>\n",
       "    <tr>\n",
       "      <th>1</th>\n",
       "      <td>10 At Claymore</td>\n",
       "      <td>4.0</td>\n",
       "      <td>1.307401</td>\n",
       "      <td>103.829904</td>\n",
       "      <td>65.5</td>\n",
       "      <td>[1]</td>\n",
       "      <td>0</td>\n",
       "      <td>0</td>\n",
       "      <td>1</td>\n",
       "      <td>0</td>\n",
       "      <td>...</td>\n",
       "      <td>0</td>\n",
       "      <td>0</td>\n",
       "      <td>0</td>\n",
       "      <td>0</td>\n",
       "      <td>0</td>\n",
       "      <td>0</td>\n",
       "      <td>0</td>\n",
       "      <td>0</td>\n",
       "      <td>0</td>\n",
       "      <td>0</td>\n",
       "    </tr>\n",
       "  </tbody>\n",
       "</table>\n",
       "<p>2 rows × 59 columns</p>\n",
       "</div>"
      ],
      "text/plain": [
       "             name  rating  latitude   longitude  price cuisine_cats  \\\n",
       "0           1-V:U     3.5  1.252299  103.820211   40.5          [0]   \n",
       "1  10 At Claymore     4.0  1.307401  103.829904   65.5          [1]   \n",
       "\n",
       "   mult_cuisines  Asian Variety  Multi-Cuisine  Korean  ...  Western Variety  \\\n",
       "0              0              1              0       0  ...                0   \n",
       "1              0              0              1       0  ...                0   \n",
       "\n",
       "   Vietnamese  Beijing  Russian  Foochow  Hakka  Caribbean  Filipino  Irish  \\\n",
       "0           0        0        0        0      0          0         0      0   \n",
       "1           0        0        0        0      0          0         0      0   \n",
       "\n",
       "   Dong Bei  \n",
       "0         0  \n",
       "1         0  \n",
       "\n",
       "[2 rows x 59 columns]"
      ]
     },
     "execution_count": 2,
     "metadata": {},
     "output_type": "execute_result"
    }
   ],
   "source": [
    "#Initialise dataset\n",
    "restaurant_data = pd.read_csv('../Data/cleaned_onehotted.csv').iloc[: , 1:]\n",
    "cuisines = pd.read_csv('../Data/cuisines.csv')\n",
    "restaurant_data.head(2)"
   ]
  },
  {
   "cell_type": "code",
   "execution_count": 3,
   "id": "baef25ec",
   "metadata": {},
   "outputs": [],
   "source": [
    "with open('..\\Data\\models.pickle', 'rb') as handle:\n",
    "    models = pickle.load(handle)\n",
    "with open('..\\Data\\df_K_clusters.pickle', 'rb') as handle:\n",
    "    df_K_clusters = pickle.load(handle)"
   ]
  },
  {
   "cell_type": "code",
   "execution_count": 4,
   "id": "37b7cb93",
   "metadata": {},
   "outputs": [],
   "source": [
    "kprototype = models[10]"
   ]
  },
  {
   "cell_type": "code",
   "execution_count": 5,
   "id": "23d0c492",
   "metadata": {},
   "outputs": [],
   "source": [
    "from sklearn.preprocessing import MinMaxScaler\n",
    "scaler = MinMaxScaler()\n",
    "scaler.fit(restaurant_data[['latitude', 'longitude', 'price']])\n",
    "restaurant_data[['latitude', 'longitude', 'price']] = scaler.transform(restaurant_data[['latitude', 'longitude', 'price']])"
   ]
  },
  {
   "cell_type": "markdown",
   "id": "86bec542",
   "metadata": {},
   "source": [
    "## Processing user input"
   ]
  },
  {
   "cell_type": "markdown",
   "id": "c97eb238",
   "metadata": {},
   "source": [
    "For the sake of completeness, first we'll make a function to input a user's past restaurants."
   ]
  },
  {
   "cell_type": "code",
   "execution_count": 6,
   "id": "4c43a0a9",
   "metadata": {},
   "outputs": [],
   "source": [
    "def input_restaurant_data():\n",
    "    num_rows = int(input(\"How many restaurants have you been to?\"))\n",
    "    rows = []\n",
    "    for i in range(num_rows):\n",
    "        print(\"Restaurant #{}\".format(i+1))\n",
    "        r_data = [0 for i in range(3+len(cuisines))]\n",
    "        r_data[0] = int(input(\"Latitude?\"))\n",
    "        r_data[1] = int(input(\"Longitude?\"))\n",
    "        r_data[2] = int(input(\"Price?\"))\n",
    "        cuisines_list = list(cuisines.iloc[:,0])\n",
    "        print(\"Cuisines understood: {}\".format(cuisines_list))\n",
    "        cuisine_num = int(input(\"How many cuisines did the restaurant serve?\"))\n",
    "        for j in range(cuisine_num):\n",
    "            while True:\n",
    "                cuisine = input(\"Cuisine #{}:\".format(j+1))\n",
    "                if cuisine in cuisines_list:\n",
    "                    r_data[3+cuisines_list.index(cuisine)] = 1\n",
    "                    break\n",
    "                else:\n",
    "                    print(\"Cuisine not recognised, try again\")\n",
    "        rows.append(r_data)\n",
    "    return pd.DataFrame(rows, columns=['latitude', 'longitude', 'price', *cuisines_list])"
   ]
  },
  {
   "cell_type": "markdown",
   "id": "2315dd40",
   "metadata": {},
   "source": [
    "Next we make a function to collapse a dataframe of multiple restaurants into one. We won't be doing this for our cluster recomendations, its just for utility. The rule we follow is that for features we treat as numeric in our clustering, like price, latitude, and longitude, we will take the mean. Meanwhile, for our categorical features (our one-hotted cuisines), we will use boolean or."
   ]
  },
  {
   "cell_type": "code",
   "execution_count": 7,
   "id": "1907b511",
   "metadata": {},
   "outputs": [],
   "source": [
    "cuisines_list= list(cuisines.iloc[:,0])\n",
    "def collapse_restaurants(df):\n",
    "    df = df[['latitude', 'longitude', 'price'] + cuisines_list]\n",
    "    averaged = list(df[['latitude', 'longitude', 'price']].apply(lambda x: x.mean()))\n",
    "    averaged += list(df[cuisines_list].apply('any'))\n",
    "    new_df = pd.DataFrame([averaged], columns=['latitude', 'longitude', 'price'] + cuisines_list)\n",
    "    return new_df\n",
    "example = collapse_restaurants(restaurant_data.iloc[:10,:])"
   ]
  },
  {
   "cell_type": "markdown",
   "id": "5dec82f7",
   "metadata": {},
   "source": [
    "Lastly, for later convenience we make a function which takes a dataframe of restaurants (with unscaled longitude, latitude, and price), and labels it with cluster labels, although we will be computing the far-away clusters from our provided restaurants directly."
   ]
  },
  {
   "cell_type": "code",
   "execution_count": 9,
   "id": "699b5d41",
   "metadata": {},
   "outputs": [
    {
     "data": {
      "text/html": [
       "<div>\n",
       "<style scoped>\n",
       "    .dataframe tbody tr th:only-of-type {\n",
       "        vertical-align: middle;\n",
       "    }\n",
       "\n",
       "    .dataframe tbody tr th {\n",
       "        vertical-align: top;\n",
       "    }\n",
       "\n",
       "    .dataframe thead th {\n",
       "        text-align: right;\n",
       "    }\n",
       "</style>\n",
       "<table border=\"1\" class=\"dataframe\">\n",
       "  <thead>\n",
       "    <tr style=\"text-align: right;\">\n",
       "      <th></th>\n",
       "      <th>latitude</th>\n",
       "      <th>longitude</th>\n",
       "      <th>price</th>\n",
       "      <th>label</th>\n",
       "      <th>Asian Variety</th>\n",
       "      <th>Multi-Cuisine</th>\n",
       "      <th>Korean</th>\n",
       "      <th>Belgian</th>\n",
       "      <th>Singaporean</th>\n",
       "      <th>Chinese</th>\n",
       "      <th>...</th>\n",
       "      <th>Western Variety</th>\n",
       "      <th>Vietnamese</th>\n",
       "      <th>Beijing</th>\n",
       "      <th>Russian</th>\n",
       "      <th>Foochow</th>\n",
       "      <th>Hakka</th>\n",
       "      <th>Caribbean</th>\n",
       "      <th>Filipino</th>\n",
       "      <th>Irish</th>\n",
       "      <th>Dong Bei</th>\n",
       "    </tr>\n",
       "  </thead>\n",
       "  <tbody>\n",
       "    <tr>\n",
       "      <th>0</th>\n",
       "      <td>0.24614</td>\n",
       "      <td>0.56532</td>\n",
       "      <td>0.040909</td>\n",
       "      <td>8</td>\n",
       "      <td>True</td>\n",
       "      <td>True</td>\n",
       "      <td>True</td>\n",
       "      <td>True</td>\n",
       "      <td>True</td>\n",
       "      <td>True</td>\n",
       "      <td>...</td>\n",
       "      <td>False</td>\n",
       "      <td>False</td>\n",
       "      <td>False</td>\n",
       "      <td>False</td>\n",
       "      <td>False</td>\n",
       "      <td>False</td>\n",
       "      <td>False</td>\n",
       "      <td>False</td>\n",
       "      <td>False</td>\n",
       "      <td>False</td>\n",
       "    </tr>\n",
       "  </tbody>\n",
       "</table>\n",
       "<p>1 rows × 56 columns</p>\n",
       "</div>"
      ],
      "text/plain": [
       "   latitude  longitude     price  label  Asian Variety  Multi-Cuisine  Korean  \\\n",
       "0   0.24614    0.56532  0.040909      8           True           True    True   \n",
       "\n",
       "   Belgian  Singaporean  Chinese  ...  Western Variety  Vietnamese  Beijing  \\\n",
       "0     True         True     True  ...            False       False    False   \n",
       "\n",
       "   Russian  Foochow  Hakka  Caribbean  Filipino  Irish  Dong Bei  \n",
       "0    False    False  False      False     False  False     False  \n",
       "\n",
       "[1 rows x 56 columns]"
      ]
     },
     "execution_count": 9,
     "metadata": {},
     "output_type": "execute_result"
    }
   ],
   "source": [
    "def label_restaurants(df):\n",
    "    df_array = df[['latitude', 'longitude', 'price'] + cuisines_list].to_numpy(dtype=float)\n",
    "    categorical_index = [i for i in range(3, 3+len(cuisines_list))]\n",
    "    df.insert(3, 'label', kprototype.predict(df_array, categorical=categorical_index))\n",
    "    return df\n",
    "\n",
    "def label_restaurants_no_mut(df):\n",
    "    df_copy = df.copy()\n",
    "    df_array = df_copy[['latitude', 'longitude', 'price'] + cuisines_list].to_numpy(dtype=float)\n",
    "    categorical_index = [i for i in range(3, 3+len(cuisines_list))]\n",
    "    return kprototype.predict(df_array, categorical=categorical_index)\n",
    "\n",
    "label_restaurants(example)"
   ]
  },
  {
   "cell_type": "markdown",
   "id": "e2713119",
   "metadata": {},
   "source": [
    "## Computing clusters to recommend\n",
    "\n",
    "We calculate dissimilarity the same way K-Prototypes does, by finding the numerical dissimilarity (Euclidean distance) and the categorical dissimilarity (number of non-matching categories), then computing `tot_costs = num_costs + gamma * cat_costs`.\n",
    "\n",
    "We then pick the three most dissimilar clusters as the recommendations for our input points.\n",
    "\n",
    "Here we compute the clusters to recommend for each row in our dataset, treating it as a row of users, each of whom have one restaurant in their history."
   ]
  },
  {
   "cell_type": "code",
   "execution_count": 10,
   "id": "4b635a30",
   "metadata": {
    "scrolled": false
   },
   "outputs": [],
   "source": [
    "import math\n",
    "import tqdm.notebook\n",
    "from numba import jit\n",
    "\n",
    "history_scaling_factor = 0.75\n",
    "\n",
    "def sort_idx(lst, rev=True):\n",
    "    index = range(len(lst))\n",
    "    s = sorted(index, reverse=rev, key=lambda i: lst[i])\n",
    "    return s\n",
    "\n",
    "# for recommendations, takes all rows as belonging to one user \n",
    "def find_centroid_assoc_for_all_rows(df, skiptrans=False):\n",
    "    df = pd.DataFrame(df[['latitude', 'longitude', 'price'] + cuisines_list])\n",
    "\n",
    "    #the distances to the centroids\n",
    "    distances = [0 for i in range(len(kprototype.cluster_centroids_))]\n",
    "    \n",
    "    for i in range(df.shape[0]):\n",
    "        #current point\n",
    "        our_point = df.iloc[[i]].to_numpy()[0]\n",
    "\n",
    "        for j in range(len(kprototype.cluster_centroids_)):\n",
    "            centroid = kprototype.cluster_centroids_[j]\n",
    "            num_dissim = np.sum((our_point[:3]-centroid[:3])**2)\n",
    "            cat_dissim = np.sum(np.logical_xor(our_point[3:], centroid[3:]))\n",
    "            dissim = num_dissim + kprototype.gamma * cat_dissim\n",
    "            distances[j] += dissim * history_scaling_factor ** i\n",
    "\n",
    "    return sort_idx(distances)[:3]\n",
    "\n",
    "# for testing, each user has 1 restaurant they've been to\n",
    "def find_centroid_assocs_for_each_row(df):\n",
    "    df = pd.DataFrame(df[['latitude', 'longitude', 'price'] + cuisines_list])\n",
    "    centroid_assocs = []\n",
    "    \n",
    "    for i in tqdm.notebook.tqdm(range(df.shape[0])):\n",
    "        #current point\n",
    "        our_point = df.iloc[[i]]\n",
    "        centroid_assocs.append(find_centroid_assoc_for_all_rows(our_point))\n",
    "\n",
    "    df.insert(3, 'centroid_assocs', centroid_assocs)\n",
    "    df = label_restaurants(df)\n",
    "    return df"
   ]
  },
  {
   "cell_type": "code",
   "execution_count": 11,
   "id": "ad2d7607",
   "metadata": {},
   "outputs": [
    {
     "data": {
      "application/vnd.jupyter.widget-view+json": {
       "model_id": "7332d556bca049bfbd15821bcb5cbc14",
       "version_major": 2,
       "version_minor": 0
      },
      "text/plain": [
       "  0%|          | 0/2833 [00:00<?, ?it/s]"
      ]
     },
     "metadata": {},
     "output_type": "display_data"
    },
    {
     "data": {
      "text/html": [
       "<div>\n",
       "<style scoped>\n",
       "    .dataframe tbody tr th:only-of-type {\n",
       "        vertical-align: middle;\n",
       "    }\n",
       "\n",
       "    .dataframe tbody tr th {\n",
       "        vertical-align: top;\n",
       "    }\n",
       "\n",
       "    .dataframe thead th {\n",
       "        text-align: right;\n",
       "    }\n",
       "</style>\n",
       "<table border=\"1\" class=\"dataframe\">\n",
       "  <thead>\n",
       "    <tr style=\"text-align: right;\">\n",
       "      <th></th>\n",
       "      <th>latitude</th>\n",
       "      <th>longitude</th>\n",
       "      <th>price</th>\n",
       "      <th>label</th>\n",
       "      <th>centroid_assocs</th>\n",
       "      <th>Asian Variety</th>\n",
       "      <th>Multi-Cuisine</th>\n",
       "      <th>Korean</th>\n",
       "      <th>Belgian</th>\n",
       "      <th>Singaporean</th>\n",
       "      <th>...</th>\n",
       "      <th>Western Variety</th>\n",
       "      <th>Vietnamese</th>\n",
       "      <th>Beijing</th>\n",
       "      <th>Russian</th>\n",
       "      <th>Foochow</th>\n",
       "      <th>Hakka</th>\n",
       "      <th>Caribbean</th>\n",
       "      <th>Filipino</th>\n",
       "      <th>Irish</th>\n",
       "      <th>Dong Bei</th>\n",
       "    </tr>\n",
       "  </thead>\n",
       "  <tbody>\n",
       "    <tr>\n",
       "      <th>0</th>\n",
       "      <td>0.040402</td>\n",
       "      <td>0.452707</td>\n",
       "      <td>0.090909</td>\n",
       "      <td>2</td>\n",
       "      <td>[9, 1, 11]</td>\n",
       "      <td>1</td>\n",
       "      <td>0</td>\n",
       "      <td>0</td>\n",
       "      <td>0</td>\n",
       "      <td>0</td>\n",
       "      <td>...</td>\n",
       "      <td>0</td>\n",
       "      <td>0</td>\n",
       "      <td>0</td>\n",
       "      <td>0</td>\n",
       "      <td>0</td>\n",
       "      <td>0</td>\n",
       "      <td>0</td>\n",
       "      <td>0</td>\n",
       "      <td>0</td>\n",
       "      <td>0</td>\n",
       "    </tr>\n",
       "    <tr>\n",
       "      <th>1</th>\n",
       "      <td>0.286747</td>\n",
       "      <td>0.483832</td>\n",
       "      <td>0.154040</td>\n",
       "      <td>2</td>\n",
       "      <td>[1, 9, 8]</td>\n",
       "      <td>0</td>\n",
       "      <td>1</td>\n",
       "      <td>0</td>\n",
       "      <td>0</td>\n",
       "      <td>0</td>\n",
       "      <td>...</td>\n",
       "      <td>0</td>\n",
       "      <td>0</td>\n",
       "      <td>0</td>\n",
       "      <td>0</td>\n",
       "      <td>0</td>\n",
       "      <td>0</td>\n",
       "      <td>0</td>\n",
       "      <td>0</td>\n",
       "      <td>0</td>\n",
       "      <td>0</td>\n",
       "    </tr>\n",
       "    <tr>\n",
       "      <th>2</th>\n",
       "      <td>0.170052</td>\n",
       "      <td>0.539025</td>\n",
       "      <td>0.053030</td>\n",
       "      <td>2</td>\n",
       "      <td>[9, 1, 8]</td>\n",
       "      <td>0</td>\n",
       "      <td>0</td>\n",
       "      <td>1</td>\n",
       "      <td>0</td>\n",
       "      <td>0</td>\n",
       "      <td>...</td>\n",
       "      <td>0</td>\n",
       "      <td>0</td>\n",
       "      <td>0</td>\n",
       "      <td>0</td>\n",
       "      <td>0</td>\n",
       "      <td>0</td>\n",
       "      <td>0</td>\n",
       "      <td>0</td>\n",
       "      <td>0</td>\n",
       "      <td>0</td>\n",
       "    </tr>\n",
       "    <tr>\n",
       "      <th>3</th>\n",
       "      <td>0.251147</td>\n",
       "      <td>0.556079</td>\n",
       "      <td>0.027778</td>\n",
       "      <td>2</td>\n",
       "      <td>[1, 8, 9]</td>\n",
       "      <td>0</td>\n",
       "      <td>0</td>\n",
       "      <td>0</td>\n",
       "      <td>1</td>\n",
       "      <td>0</td>\n",
       "      <td>...</td>\n",
       "      <td>0</td>\n",
       "      <td>0</td>\n",
       "      <td>0</td>\n",
       "      <td>0</td>\n",
       "      <td>0</td>\n",
       "      <td>0</td>\n",
       "      <td>0</td>\n",
       "      <td>0</td>\n",
       "      <td>0</td>\n",
       "      <td>0</td>\n",
       "    </tr>\n",
       "    <tr>\n",
       "      <th>4</th>\n",
       "      <td>0.174796</td>\n",
       "      <td>0.527638</td>\n",
       "      <td>0.000000</td>\n",
       "      <td>1</td>\n",
       "      <td>[9, 8, 0]</td>\n",
       "      <td>0</td>\n",
       "      <td>0</td>\n",
       "      <td>0</td>\n",
       "      <td>0</td>\n",
       "      <td>1</td>\n",
       "      <td>...</td>\n",
       "      <td>0</td>\n",
       "      <td>0</td>\n",
       "      <td>0</td>\n",
       "      <td>0</td>\n",
       "      <td>0</td>\n",
       "      <td>0</td>\n",
       "      <td>0</td>\n",
       "      <td>0</td>\n",
       "      <td>0</td>\n",
       "      <td>0</td>\n",
       "    </tr>\n",
       "  </tbody>\n",
       "</table>\n",
       "<p>5 rows × 57 columns</p>\n",
       "</div>"
      ],
      "text/plain": [
       "   latitude  longitude     price  label centroid_assocs  Asian Variety  \\\n",
       "0  0.040402   0.452707  0.090909      2      [9, 1, 11]              1   \n",
       "1  0.286747   0.483832  0.154040      2       [1, 9, 8]              0   \n",
       "2  0.170052   0.539025  0.053030      2       [9, 1, 8]              0   \n",
       "3  0.251147   0.556079  0.027778      2       [1, 8, 9]              0   \n",
       "4  0.174796   0.527638  0.000000      1       [9, 8, 0]              0   \n",
       "\n",
       "   Multi-Cuisine  Korean  Belgian  Singaporean  ...  Western Variety  \\\n",
       "0              0       0        0            0  ...                0   \n",
       "1              1       0        0            0  ...                0   \n",
       "2              0       1        0            0  ...                0   \n",
       "3              0       0        1            0  ...                0   \n",
       "4              0       0        0            1  ...                0   \n",
       "\n",
       "   Vietnamese  Beijing  Russian  Foochow  Hakka  Caribbean  Filipino  Irish  \\\n",
       "0           0        0        0        0      0          0         0      0   \n",
       "1           0        0        0        0      0          0         0      0   \n",
       "2           0        0        0        0      0          0         0      0   \n",
       "3           0        0        0        0      0          0         0      0   \n",
       "4           0        0        0        0      0          0         0      0   \n",
       "\n",
       "   Dong Bei  \n",
       "0         0  \n",
       "1         0  \n",
       "2         0  \n",
       "3         0  \n",
       "4         0  \n",
       "\n",
       "[5 rows x 57 columns]"
      ]
     },
     "execution_count": 11,
     "metadata": {},
     "output_type": "execute_result"
    }
   ],
   "source": [
    "df = find_centroid_assocs_for_each_row(restaurant_data)\n",
    "df.head()"
   ]
  },
  {
   "cell_type": "markdown",
   "id": "56898f93",
   "metadata": {},
   "source": [
    "### Plotting the clusters recommended\n",
    "\n",
    "We will draw a histogram of the clusters recommended by our procedure when we take each row/restaurant of our dataset as the one-element history of a different user, versus those present in our data."
   ]
  },
  {
   "cell_type": "code",
   "execution_count": 12,
   "id": "70e2864a",
   "metadata": {},
   "outputs": [
    {
     "data": {
      "image/png": "[encoded data removed]",
      "text/plain": [
       "<Figure size 432x288 with 1 Axes>"
      ]
     },
     "metadata": {
      "needs_background": "light"
     },
     "output_type": "display_data"
    }
   ],
   "source": [
    "from collections import Counter\n",
    "\n",
    "counter_assocs = Counter(list(df['centroid_assocs'].explode()))\n",
    "counter_labels = Counter(list(df['label']))\n",
    "\n",
    "assoc_counts = []\n",
    "label_counts = []\n",
    "for i in range(len(kprototype.cluster_centroids_)):\n",
    "    if i not in counter_assocs:\n",
    "        assoc_counts.append(0)\n",
    "    else:\n",
    "        assoc_counts.append(counter_assocs[i])\n",
    "    if i not in counter_labels:\n",
    "        label_counts.append(0)\n",
    "    else:\n",
    "        label_counts.append(counter_labels[i])\n",
    "\n",
    "fig, ax = plt.subplots()\n",
    "\n",
    "width = 0.35  # the width of the bars\n",
    "x = np.arange(len(kprototype.cluster_centroids_))\n",
    "rects1 = ax.bar(x - width/2, assoc_counts, width, label='assoc counts')\n",
    "rects2 = ax.bar(x + width/2, label_counts, width, label='label counts')\n",
    "\n",
    "plt.legend([\"assoc counts\", \"label counts\"])\n",
    "\n",
    "fig.tight_layout()\n",
    "\n",
    "plt.show()\n",
    "\n",
    "df1 = pd.DataFrame.copy(df)"
   ]
  },
  {
   "cell_type": "markdown",
   "id": "1e6f203f",
   "metadata": {},
   "source": [
    "There is a strong bias towards four or so clusters which are far from the rest of the clusters, which is to be expected as we are running our cluster recommender procedure with each user corresponding to a single row in our dataset, having only one restaurant in our history, thus it gravitates simply to clusters far away from the rest of the dataset.\n",
    "\n",
    "Let's try simulating each user taking the centerpoints of one (random choice) of the three clusters we have recommended them and adding them to their history, and see how our distribution of cluster recommendations changes."
   ]
  },
  {
   "cell_type": "code",
   "execution_count": 13,
   "id": "b1b64285",
   "metadata": {},
   "outputs": [
    {
     "data": {
      "application/vnd.jupyter.widget-view+json": {
       "model_id": "8c30b96261314776a9878904095e10e4",
       "version_major": 2,
       "version_minor": 0
      },
      "text/plain": [
       "  0%|          | 0/2833 [00:00<?, ?it/s]"
      ]
     },
     "metadata": {},
     "output_type": "display_data"
    }
   ],
   "source": [
    "import random\n",
    "\n",
    "centroid_assocs = []\n",
    "second_choices = []\n",
    "\n",
    "for i in tqdm.notebook.tqdm(range(df.shape[0])):\n",
    "    our_point = df.iloc[[i]]\n",
    "\n",
    "    our_point_transformed = pd.DataFrame(our_point)\n",
    "    our_point_transformed = our_point_transformed[['latitude', 'longitude', 'price'] + cuisines_list].to_numpy()[0]\n",
    "        \n",
    "    other_points = []\n",
    "        \n",
    "    for j in random.choices(list(our_point['centroid_assocs'])[0], k=1):\n",
    "        other_points.append(kprototype.cluster_centroids_[j])\n",
    "        second_choices.append([j])\n",
    "    \n",
    "    points = other_points\n",
    "    points.append(our_point_transformed)\n",
    "    \n",
    "    pointsDF = pd.DataFrame(points, columns = ['latitude', 'longitude', 'price'] + cuisines_list)\n",
    "\n",
    "    centroid_assocs.append(find_centroid_assoc_for_all_rows(pointsDF, skiptrans=True))\n",
    "    \n",
    "df['centroid_assocs'] = centroid_assocs\n",
    "df.insert(5, 'second_choices', second_choices)"
   ]
  },
  {
   "cell_type": "code",
   "execution_count": 14,
   "id": "8204864e",
   "metadata": {},
   "outputs": [
    {
     "data": {
      "text/html": [
       "<div>\n",
       "<style scoped>\n",
       "    .dataframe tbody tr th:only-of-type {\n",
       "        vertical-align: middle;\n",
       "    }\n",
       "\n",
       "    .dataframe tbody tr th {\n",
       "        vertical-align: top;\n",
       "    }\n",
       "\n",
       "    .dataframe thead th {\n",
       "        text-align: right;\n",
       "    }\n",
       "</style>\n",
       "<table border=\"1\" class=\"dataframe\">\n",
       "  <thead>\n",
       "    <tr style=\"text-align: right;\">\n",
       "      <th></th>\n",
       "      <th>latitude</th>\n",
       "      <th>longitude</th>\n",
       "      <th>price</th>\n",
       "      <th>label</th>\n",
       "      <th>centroid_assocs</th>\n",
       "      <th>second_choices</th>\n",
       "      <th>Asian Variety</th>\n",
       "      <th>Multi-Cuisine</th>\n",
       "      <th>Korean</th>\n",
       "      <th>Belgian</th>\n",
       "      <th>...</th>\n",
       "      <th>Western Variety</th>\n",
       "      <th>Vietnamese</th>\n",
       "      <th>Beijing</th>\n",
       "      <th>Russian</th>\n",
       "      <th>Foochow</th>\n",
       "      <th>Hakka</th>\n",
       "      <th>Caribbean</th>\n",
       "      <th>Filipino</th>\n",
       "      <th>Irish</th>\n",
       "      <th>Dong Bei</th>\n",
       "    </tr>\n",
       "  </thead>\n",
       "  <tbody>\n",
       "    <tr>\n",
       "      <th>0</th>\n",
       "      <td>0.040402</td>\n",
       "      <td>0.452707</td>\n",
       "      <td>0.090909</td>\n",
       "      <td>2</td>\n",
       "      <td>[9, 8, 0]</td>\n",
       "      <td>[1]</td>\n",
       "      <td>1</td>\n",
       "      <td>0</td>\n",
       "      <td>0</td>\n",
       "      <td>0</td>\n",
       "      <td>...</td>\n",
       "      <td>0</td>\n",
       "      <td>0</td>\n",
       "      <td>0</td>\n",
       "      <td>0</td>\n",
       "      <td>0</td>\n",
       "      <td>0</td>\n",
       "      <td>0</td>\n",
       "      <td>0</td>\n",
       "      <td>0</td>\n",
       "      <td>0</td>\n",
       "    </tr>\n",
       "    <tr>\n",
       "      <th>1</th>\n",
       "      <td>0.286747</td>\n",
       "      <td>0.483832</td>\n",
       "      <td>0.154040</td>\n",
       "      <td>2</td>\n",
       "      <td>[1, 9, 4]</td>\n",
       "      <td>[8]</td>\n",
       "      <td>0</td>\n",
       "      <td>1</td>\n",
       "      <td>0</td>\n",
       "      <td>0</td>\n",
       "      <td>...</td>\n",
       "      <td>0</td>\n",
       "      <td>0</td>\n",
       "      <td>0</td>\n",
       "      <td>0</td>\n",
       "      <td>0</td>\n",
       "      <td>0</td>\n",
       "      <td>0</td>\n",
       "      <td>0</td>\n",
       "      <td>0</td>\n",
       "      <td>0</td>\n",
       "    </tr>\n",
       "    <tr>\n",
       "      <th>2</th>\n",
       "      <td>0.170052</td>\n",
       "      <td>0.539025</td>\n",
       "      <td>0.053030</td>\n",
       "      <td>2</td>\n",
       "      <td>[8, 1, 0]</td>\n",
       "      <td>[9]</td>\n",
       "      <td>0</td>\n",
       "      <td>0</td>\n",
       "      <td>1</td>\n",
       "      <td>0</td>\n",
       "      <td>...</td>\n",
       "      <td>0</td>\n",
       "      <td>0</td>\n",
       "      <td>0</td>\n",
       "      <td>0</td>\n",
       "      <td>0</td>\n",
       "      <td>0</td>\n",
       "      <td>0</td>\n",
       "      <td>0</td>\n",
       "      <td>0</td>\n",
       "      <td>0</td>\n",
       "    </tr>\n",
       "    <tr>\n",
       "      <th>3</th>\n",
       "      <td>0.251147</td>\n",
       "      <td>0.556079</td>\n",
       "      <td>0.027778</td>\n",
       "      <td>2</td>\n",
       "      <td>[1, 9, 0]</td>\n",
       "      <td>[8]</td>\n",
       "      <td>0</td>\n",
       "      <td>0</td>\n",
       "      <td>0</td>\n",
       "      <td>1</td>\n",
       "      <td>...</td>\n",
       "      <td>0</td>\n",
       "      <td>0</td>\n",
       "      <td>0</td>\n",
       "      <td>0</td>\n",
       "      <td>0</td>\n",
       "      <td>0</td>\n",
       "      <td>0</td>\n",
       "      <td>0</td>\n",
       "      <td>0</td>\n",
       "      <td>0</td>\n",
       "    </tr>\n",
       "    <tr>\n",
       "      <th>4</th>\n",
       "      <td>0.174796</td>\n",
       "      <td>0.527638</td>\n",
       "      <td>0.000000</td>\n",
       "      <td>1</td>\n",
       "      <td>[8, 0, 3]</td>\n",
       "      <td>[9]</td>\n",
       "      <td>0</td>\n",
       "      <td>0</td>\n",
       "      <td>0</td>\n",
       "      <td>0</td>\n",
       "      <td>...</td>\n",
       "      <td>0</td>\n",
       "      <td>0</td>\n",
       "      <td>0</td>\n",
       "      <td>0</td>\n",
       "      <td>0</td>\n",
       "      <td>0</td>\n",
       "      <td>0</td>\n",
       "      <td>0</td>\n",
       "      <td>0</td>\n",
       "      <td>0</td>\n",
       "    </tr>\n",
       "  </tbody>\n",
       "</table>\n",
       "<p>5 rows × 58 columns</p>\n",
       "</div>"
      ],
      "text/plain": [
       "   latitude  longitude     price  label centroid_assocs second_choices  \\\n",
       "0  0.040402   0.452707  0.090909      2       [9, 8, 0]            [1]   \n",
       "1  0.286747   0.483832  0.154040      2       [1, 9, 4]            [8]   \n",
       "2  0.170052   0.539025  0.053030      2       [8, 1, 0]            [9]   \n",
       "3  0.251147   0.556079  0.027778      2       [1, 9, 0]            [8]   \n",
       "4  0.174796   0.527638  0.000000      1       [8, 0, 3]            [9]   \n",
       "\n",
       "   Asian Variety  Multi-Cuisine  Korean  Belgian  ...  Western Variety  \\\n",
       "0              1              0       0        0  ...                0   \n",
       "1              0              1       0        0  ...                0   \n",
       "2              0              0       1        0  ...                0   \n",
       "3              0              0       0        1  ...                0   \n",
       "4              0              0       0        0  ...                0   \n",
       "\n",
       "   Vietnamese  Beijing  Russian  Foochow  Hakka  Caribbean  Filipino  Irish  \\\n",
       "0           0        0        0        0      0          0         0      0   \n",
       "1           0        0        0        0      0          0         0      0   \n",
       "2           0        0        0        0      0          0         0      0   \n",
       "3           0        0        0        0      0          0         0      0   \n",
       "4           0        0        0        0      0          0         0      0   \n",
       "\n",
       "   Dong Bei  \n",
       "0         0  \n",
       "1         0  \n",
       "2         0  \n",
       "3         0  \n",
       "4         0  \n",
       "\n",
       "[5 rows x 58 columns]"
      ]
     },
     "execution_count": 14,
     "metadata": {},
     "output_type": "execute_result"
    }
   ],
   "source": [
    "df.head()"
   ]
  },
  {
   "cell_type": "markdown",
   "id": "8db3f0db",
   "metadata": {},
   "source": [
    "Now let's plot the distribution of our new recommendations on top of our old chart."
   ]
  },
  {
   "cell_type": "code",
   "execution_count": 15,
   "id": "6e327049",
   "metadata": {},
   "outputs": [
    {
     "data": {
      "image/png": "[encoded data removed]",
      "text/plain": [
       "<Figure size 432x288 with 1 Axes>"
      ]
     },
     "metadata": {
      "needs_background": "light"
     },
     "output_type": "display_data"
    }
   ],
   "source": [
    "from collections import Counter\n",
    "\n",
    "counter_old_assocs = Counter(list(df1['centroid_assocs'].explode()))\n",
    "counter_assocs = Counter(list(df['centroid_assocs'].explode()))\n",
    "counter_labels = Counter(list(df['label']))\n",
    "\n",
    "old_assoc_counts = []\n",
    "assoc_counts = []\n",
    "label_counts = []\n",
    "for i in range(len(kprototype.cluster_centroids_)):\n",
    "    if i not in counter_old_assocs:\n",
    "        old_assoc_counts.append(0)\n",
    "    else:\n",
    "        old_assoc_counts.append(counter_old_assocs[i])\n",
    "    if i not in counter_assocs:\n",
    "        assoc_counts.append(0)\n",
    "    else:\n",
    "        assoc_counts.append(counter_assocs[i])\n",
    "    if i not in counter_labels:\n",
    "        label_counts.append(0)\n",
    "    else:\n",
    "        label_counts.append(counter_labels[i])\n",
    "\n",
    "fig, ax = plt.subplots()\n",
    "\n",
    "width = 0.20  # the width of the bars\n",
    "x = np.arange(len(kprototype.cluster_centroids_))\n",
    "rects1 = ax.bar(x - width, old_assoc_counts, width, label='old assoc counts')\n",
    "rects2 = ax.bar(x, assoc_counts, width, label='assoc counts')\n",
    "rects3 = ax.bar(x + width, label_counts, width, label='label counts')\n",
    "\n",
    "plt.legend([\"old assoc counts\", \"assoc counts\", \"label counts\"])\n",
    "\n",
    "df2 = pd.DataFrame.copy(df)"
   ]
  },
  {
   "cell_type": "markdown",
   "id": "c70a6cd1",
   "metadata": {},
   "source": [
    "As we can see, iterating once and having our customers pick one of our recommendations as their second restaurant  improved our recommendation diversity, bringing it closer to an even spread. Let's try iterating a third time."
   ]
  },
  {
   "cell_type": "code",
   "execution_count": 16,
   "id": "a2814804",
   "metadata": {},
   "outputs": [
    {
     "data": {
      "application/vnd.jupyter.widget-view+json": {
       "model_id": "032823107ca84ae285ff4924ea5e21fe",
       "version_major": 2,
       "version_minor": 0
      },
      "text/plain": [
       "  0%|          | 0/2833 [00:00<?, ?it/s]"
      ]
     },
     "metadata": {},
     "output_type": "display_data"
    }
   ],
   "source": [
    "import random\n",
    "\n",
    "centroid_assocs = []\n",
    "\n",
    "for i in tqdm.notebook.tqdm(range(df.shape[0])):\n",
    "    our_point = df.iloc[[i]]\n",
    "\n",
    "    our_point_transformed = pd.DataFrame(our_point)\n",
    "    our_point_transformed = our_point_transformed[['latitude', 'longitude', 'price'] + cuisines_list].to_numpy()[0]\n",
    "        \n",
    "    other_points = []\n",
    "        \n",
    "    for j in [i for i in random.choices(list(our_point['centroid_assocs'])[0], k=1)]:\n",
    "        other_points.append(kprototype.cluster_centroids_[j])\n",
    "    for j in list(our_point['second_choices'].iloc[0]):\n",
    "        other_points.append(kprototype.cluster_centroids_[int(j)])\n",
    "    \n",
    "    points = other_points\n",
    "    points.append(our_point_transformed)\n",
    "    \n",
    "    pointsDF = pd.DataFrame(points, columns = ['latitude', 'longitude', 'price'] + cuisines_list)\n",
    "\n",
    "    centroid_assocs.append(find_centroid_assoc_for_all_rows(pointsDF, skiptrans=True))\n",
    "    \n",
    "df['centroid_assocs'] = centroid_assocs"
   ]
  },
  {
   "cell_type": "code",
   "execution_count": 17,
   "id": "a4b9c944",
   "metadata": {},
   "outputs": [
    {
     "data": {
      "image/png": "[encoded data removed]",
      "text/plain": [
       "<Figure size 432x288 with 1 Axes>"
      ]
     },
     "metadata": {
      "needs_background": "light"
     },
     "output_type": "display_data"
    }
   ],
   "source": [
    "from collections import Counter\n",
    "\n",
    "counter_old_assocs = Counter(list(df2['centroid_assocs'].explode()))\n",
    "counter_assocs = Counter(list(df['centroid_assocs'].explode()))\n",
    "counter_labels = Counter(list(df['label']))\n",
    "\n",
    "old_assoc_counts = []\n",
    "assoc_counts = []\n",
    "label_counts = []\n",
    "for i in range(len(kprototype.cluster_centroids_)):\n",
    "    if i not in counter_old_assocs:\n",
    "        old_assoc_counts.append(0)\n",
    "    else:\n",
    "        old_assoc_counts.append(counter_old_assocs[i])\n",
    "    if i not in counter_assocs:\n",
    "        assoc_counts.append(0)\n",
    "    else:\n",
    "        assoc_counts.append(counter_assocs[i])\n",
    "    if i not in counter_labels:\n",
    "        label_counts.append(0)\n",
    "    else:\n",
    "        label_counts.append(counter_labels[i])\n",
    "\n",
    "fig, ax = plt.subplots()\n",
    "\n",
    "width = 0.20  # the width of the bars\n",
    "x = np.arange(len(kprototype.cluster_centroids_))\n",
    "rects1 = ax.bar(x - width, old_assoc_counts, width, label='old assoc counts')\n",
    "rects2 = ax.bar(x, assoc_counts, width, label='assoc counts')\n",
    "rects3 = ax.bar(x + width, label_counts, width, label='label counts')\n",
    "\n",
    "plt.legend([\"old assoc counts\", \"assoc counts\", \"label counts\"])\n",
    "\n",
    "df3 = pd.DataFrame.copy(df)"
   ]
  },
  {
   "cell_type": "markdown",
   "id": "66f3550d",
   "metadata": {},
   "source": [
    "Once again, iterating to simulate the users each choosing another restaurant from the list of restaurants (in this case, bringing their history to 3 restaurants) appears to have the effect of increasing the diversity of cluster recommendations. It seems like the robustness of our cluster recommender strongly benefits from our users having multiple restaurants in their histories.\n",
    "\n",
    "Something to note, though: restaurants in the cluster labeled '2' tend to be recommended very rarely?"
   ]
  },
  {
   "cell_type": "markdown",
   "id": "082f470b",
   "metadata": {},
   "source": [
    "## Computing restaurants within a cluster to recommend.\n",
    "\n",
    "So far, we've simply been doing the cluster recommendation (the \"novelty\" step), and then picking the centroid of the cluster as what we recommend. What we should really do is pick the point in the recommended cluster which is \"otherwise similar\" to the restaurants the user has already been to."
   ]
  },
  {
   "cell_type": "markdown",
   "id": "90071d27",
   "metadata": {},
   "source": [
    "Given a list of restaurants and a cluster label, we want a function which finds the restaurant in the cluster indicated with the shortest distance to the input restaurants."
   ]
  },
  {
   "cell_type": "code",
   "execution_count": 191,
   "id": "951af27c",
   "metadata": {},
   "outputs": [
    {
     "data": {
      "text/html": [
       "<div>\n",
       "<style scoped>\n",
       "    .dataframe tbody tr th:only-of-type {\n",
       "        vertical-align: middle;\n",
       "    }\n",
       "\n",
       "    .dataframe tbody tr th {\n",
       "        vertical-align: top;\n",
       "    }\n",
       "\n",
       "    .dataframe thead th {\n",
       "        text-align: right;\n",
       "    }\n",
       "</style>\n",
       "<table border=\"1\" class=\"dataframe\">\n",
       "  <thead>\n",
       "    <tr style=\"text-align: right;\">\n",
       "      <th></th>\n",
       "      <th>name</th>\n",
       "      <th>rating</th>\n",
       "      <th>latitude</th>\n",
       "      <th>longitude</th>\n",
       "      <th>price</th>\n",
       "      <th>cuisine_cats</th>\n",
       "      <th>mult_cuisines</th>\n",
       "      <th>Asian Variety</th>\n",
       "      <th>Multi-Cuisine</th>\n",
       "      <th>Korean</th>\n",
       "      <th>...</th>\n",
       "      <th>Vietnamese</th>\n",
       "      <th>Beijing</th>\n",
       "      <th>Russian</th>\n",
       "      <th>Foochow</th>\n",
       "      <th>Hakka</th>\n",
       "      <th>Caribbean</th>\n",
       "      <th>Filipino</th>\n",
       "      <th>Irish</th>\n",
       "      <th>Dong Bei</th>\n",
       "      <th>label</th>\n",
       "    </tr>\n",
       "  </thead>\n",
       "  <tbody>\n",
       "    <tr>\n",
       "      <th>2700</th>\n",
       "      <td>Woori-Nara Korean Restaurant</td>\n",
       "      <td>3.0</td>\n",
       "      <td>0.436409</td>\n",
       "      <td>0.30584</td>\n",
       "      <td>0.027778</td>\n",
       "      <td>[2]</td>\n",
       "      <td>0</td>\n",
       "      <td>0</td>\n",
       "      <td>0</td>\n",
       "      <td>1</td>\n",
       "      <td>...</td>\n",
       "      <td>0</td>\n",
       "      <td>0</td>\n",
       "      <td>0</td>\n",
       "      <td>0</td>\n",
       "      <td>0</td>\n",
       "      <td>0</td>\n",
       "      <td>0</td>\n",
       "      <td>0</td>\n",
       "      <td>0</td>\n",
       "      <td>0</td>\n",
       "    </tr>\n",
       "  </tbody>\n",
       "</table>\n",
       "<p>1 rows × 60 columns</p>\n",
       "</div>"
      ],
      "text/plain": [
       "                              name  rating  latitude  longitude     price  \\\n",
       "2700  Woori-Nara Korean Restaurant     3.0  0.436409    0.30584  0.027778   \n",
       "\n",
       "     cuisine_cats  mult_cuisines  Asian Variety  Multi-Cuisine  Korean  ...  \\\n",
       "2700          [2]              0              0              0       1  ...   \n",
       "\n",
       "      Vietnamese  Beijing  Russian  Foochow  Hakka  Caribbean  Filipino  \\\n",
       "2700           0        0        0        0      0          0         0   \n",
       "\n",
       "      Irish  Dong Bei  label  \n",
       "2700      0         0      0  \n",
       "\n",
       "[1 rows x 60 columns]"
      ]
     },
     "execution_count": 191,
     "metadata": {},
     "output_type": "execute_result"
    }
   ],
   "source": [
    "restaurant_data['label'] = kprototype.labels_\n",
    "gamma = np.single(kprototype.gamma)\n",
    "def point_dissim(x, y):\n",
    "    x = x[['latitude', 'longitude', 'price'] + cuisines_list].to_numpy()\n",
    "    y = y[['latitude', 'longitude', 'price'] + cuisines_list].to_numpy()\n",
    "    num_dissim = np.sum((x[:3]-y[:3])**2)\n",
    "    cat_dissim = np.sum(np.logical_xor(x[3:] == 1, y[3:] == 1))\n",
    "    return num_dissim + gamma * cat_dissim \n",
    "\n",
    "def pick_restaurant(input_rows, label):\n",
    "    df = restaurant_data\n",
    "    df = df.drop(df[df.label != label].index)\n",
    "    \n",
    "    dissims = df.apply(lambda x:\n",
    "                       input_rows.apply(lambda y:\n",
    "                                        point_dissim(x, y) * history_scaling_factor ** input_rows.index.get_loc(y.name),\n",
    "                                        axis=1).sum(),\n",
    "                       axis=1)\n",
    "    return restaurant_data.iloc[[int(dissims.idxmin())],:]\n",
    "pick_restaurant(restaurant_data.iloc[[2, 3],:], 0)"
   ]
  },
  {
   "cell_type": "markdown",
   "id": "d6cad646",
   "metadata": {},
   "source": [
    "## Putting it all together\n",
    "\n",
    "It's now time to write a procedure which takes a list of restaurants and returns recommendations with the most similar restaurants belonging to the 3 farthest clusters. Moment of truth..."
   ]
  },
  {
   "cell_type": "code",
   "execution_count": 156,
   "id": "d0788959",
   "metadata": {},
   "outputs": [
    {
     "data": {
      "text/html": [
       "<div>\n",
       "<style scoped>\n",
       "    .dataframe tbody tr th:only-of-type {\n",
       "        vertical-align: middle;\n",
       "    }\n",
       "\n",
       "    .dataframe tbody tr th {\n",
       "        vertical-align: top;\n",
       "    }\n",
       "\n",
       "    .dataframe thead th {\n",
       "        text-align: right;\n",
       "    }\n",
       "</style>\n",
       "<table border=\"1\" class=\"dataframe\">\n",
       "  <thead>\n",
       "    <tr style=\"text-align: right;\">\n",
       "      <th></th>\n",
       "      <th>name</th>\n",
       "      <th>rating</th>\n",
       "      <th>latitude</th>\n",
       "      <th>longitude</th>\n",
       "      <th>price</th>\n",
       "      <th>cuisine_cats</th>\n",
       "      <th>mult_cuisines</th>\n",
       "      <th>Asian Variety</th>\n",
       "      <th>Multi-Cuisine</th>\n",
       "      <th>Korean</th>\n",
       "      <th>...</th>\n",
       "      <th>Vietnamese</th>\n",
       "      <th>Beijing</th>\n",
       "      <th>Russian</th>\n",
       "      <th>Foochow</th>\n",
       "      <th>Hakka</th>\n",
       "      <th>Caribbean</th>\n",
       "      <th>Filipino</th>\n",
       "      <th>Irish</th>\n",
       "      <th>Dong Bei</th>\n",
       "      <th>label</th>\n",
       "    </tr>\n",
       "  </thead>\n",
       "  <tbody>\n",
       "    <tr>\n",
       "      <th>2184</th>\n",
       "      <td>Starbucks</td>\n",
       "      <td>3.5</td>\n",
       "      <td>0.475040</td>\n",
       "      <td>0.549901</td>\n",
       "      <td>0.000000</td>\n",
       "      <td>[16]</td>\n",
       "      <td>0</td>\n",
       "      <td>0</td>\n",
       "      <td>0</td>\n",
       "      <td>0</td>\n",
       "      <td>...</td>\n",
       "      <td>0</td>\n",
       "      <td>0</td>\n",
       "      <td>0</td>\n",
       "      <td>0</td>\n",
       "      <td>0</td>\n",
       "      <td>0</td>\n",
       "      <td>0</td>\n",
       "      <td>0</td>\n",
       "      <td>0</td>\n",
       "      <td>9</td>\n",
       "    </tr>\n",
       "    <tr>\n",
       "      <th>2831</th>\n",
       "      <td>Whampoa Keng</td>\n",
       "      <td>3.5</td>\n",
       "      <td>0.373403</td>\n",
       "      <td>0.532156</td>\n",
       "      <td>0.053030</td>\n",
       "      <td>[5]</td>\n",
       "      <td>0</td>\n",
       "      <td>0</td>\n",
       "      <td>0</td>\n",
       "      <td>0</td>\n",
       "      <td>...</td>\n",
       "      <td>0</td>\n",
       "      <td>0</td>\n",
       "      <td>0</td>\n",
       "      <td>0</td>\n",
       "      <td>0</td>\n",
       "      <td>0</td>\n",
       "      <td>0</td>\n",
       "      <td>0</td>\n",
       "      <td>0</td>\n",
       "      <td>1</td>\n",
       "    </tr>\n",
       "    <tr>\n",
       "      <th>1281</th>\n",
       "      <td>Majestic Restaurant</td>\n",
       "      <td>4.0</td>\n",
       "      <td>0.161138</td>\n",
       "      <td>0.517414</td>\n",
       "      <td>0.090909</td>\n",
       "      <td>[6, 7]</td>\n",
       "      <td>1</td>\n",
       "      <td>0</td>\n",
       "      <td>0</td>\n",
       "      <td>0</td>\n",
       "      <td>...</td>\n",
       "      <td>0</td>\n",
       "      <td>0</td>\n",
       "      <td>0</td>\n",
       "      <td>0</td>\n",
       "      <td>0</td>\n",
       "      <td>0</td>\n",
       "      <td>0</td>\n",
       "      <td>0</td>\n",
       "      <td>0</td>\n",
       "      <td>8</td>\n",
       "    </tr>\n",
       "  </tbody>\n",
       "</table>\n",
       "<p>3 rows × 60 columns</p>\n",
       "</div>"
      ],
      "text/plain": [
       "                     name  rating  latitude  longitude     price cuisine_cats  \\\n",
       "2184            Starbucks     3.5  0.475040   0.549901  0.000000         [16]   \n",
       "2831         Whampoa Keng     3.5  0.373403   0.532156  0.053030          [5]   \n",
       "1281  Majestic Restaurant     4.0  0.161138   0.517414  0.090909       [6, 7]   \n",
       "\n",
       "      mult_cuisines  Asian Variety  Multi-Cuisine  Korean  ...  Vietnamese  \\\n",
       "2184              0              0              0       0  ...           0   \n",
       "2831              0              0              0       0  ...           0   \n",
       "1281              1              0              0       0  ...           0   \n",
       "\n",
       "      Beijing  Russian  Foochow  Hakka  Caribbean  Filipino  Irish  Dong Bei  \\\n",
       "2184        0        0        0      0          0         0      0         0   \n",
       "2831        0        0        0      0          0         0      0         0   \n",
       "1281        0        0        0      0          0         0      0         0   \n",
       "\n",
       "      label  \n",
       "2184      9  \n",
       "2831      1  \n",
       "1281      8  \n",
       "\n",
       "[3 rows x 60 columns]"
      ]
     },
     "execution_count": 156,
     "metadata": {},
     "output_type": "execute_result"
    }
   ],
   "source": [
    "def recommend(input_rows):\n",
    "    labels = find_centroid_assoc_for_all_rows(input_rows)\n",
    "    recs = []\n",
    "    for label in labels:\n",
    "        recs.append(pick_restaurant(input_rows, label))\n",
    "    return pd.concat(recs)\n",
    "recommend(restaurant_data.iloc[[0, 1],:])"
   ]
  },
  {
   "cell_type": "markdown",
   "id": "88b72a24",
   "metadata": {},
   "source": [
    "Seems succesful! Now time for some methodical exploration/analysis of the characteristics of our recommender system."
   ]
  },
  {
   "cell_type": "markdown",
   "id": "4e439ce0",
   "metadata": {},
   "source": [
    "## Solution evaluation and conclusion\n",
    "\n",
    "Now that we've got this nice recommender system built, we want to look at its behaviour. That is to say, does it meet what we want from a recommender system?\n",
    "\n",
    "Firstly, we want our recommender system to provide **varied recommendations** to all of our users, that is to say, our different users should not all get recommended the same things. But how do we judge this?\n",
    "\n",
    "We've already seen that the **variance in recommended clusters**, that is, the clusters the restaurants recommended come from changes in an interesting manner as users use our recommender system. Here, we'll run it for five iterations and use our proper in-cluster recommendations.\n",
    "\n",
    "Second off, we will also look at the **uniqueness** of our recommendations as we iterate, that is to say, what proportion of our recommendations for our users match each other? Since if we're recommending everyone the same restaurants based off of our features like price, location and cuisine, that's a problem... "
   ]
  },
  {
   "cell_type": "markdown",
   "id": "56967974",
   "metadata": {},
   "source": [
    "### Varied recommendations"
   ]
  },
  {
   "cell_type": "markdown",
   "id": "c1637c01",
   "metadata": {},
   "source": [
    "We will start with 250 users, assigning each of them a random restaurant as their history."
   ]
  },
  {
   "cell_type": "code",
   "execution_count": 237,
   "id": "642fb7fa",
   "metadata": {},
   "outputs": [
    {
     "data": {
      "text/plain": [
       "{'history': [627], 'recs': []}"
      ]
     },
     "execution_count": 237,
     "metadata": {},
     "output_type": "execute_result"
    }
   ],
   "source": [
    "import random\n",
    "\n",
    "iters = []\n",
    "iter1 = [{'history': [random.randint(0, restaurant_data.shape[0])], 'recs': []} for i in range(250)]\n",
    "iters.append(iter1)\n",
    "iter1[0]"
   ]
  },
  {
   "cell_type": "markdown",
   "id": "071aecb3",
   "metadata": {},
   "source": [
    "We then define our iteration function, which takes each user in the most recent iteration, recommends them three restaurants, and picks a random restaurant and adds it to their history for the next iteration. Let's iterate 5 times."
   ]
  },
  {
   "cell_type": "code",
   "execution_count": 238,
   "id": "6691121e",
   "metadata": {},
   "outputs": [
    {
     "name": "stdout",
     "output_type": "stream",
     "text": [
      "Iteration #1.\n"
     ]
    },
    {
     "data": {
      "application/vnd.jupyter.widget-view+json": {
       "model_id": "56001587e9c54c9c8e2d6517aed95ecd",
       "version_major": 2,
       "version_minor": 0
      },
      "text/plain": [
       "  0%|          | 0/250 [00:00<?, ?it/s]"
      ]
     },
     "metadata": {},
     "output_type": "display_data"
    },
    {
     "name": "stdout",
     "output_type": "stream",
     "text": [
      "Iteration #2.\n"
     ]
    },
    {
     "data": {
      "application/vnd.jupyter.widget-view+json": {
       "model_id": "abbb56231ee14b7685fbdaee2b86fe59",
       "version_major": 2,
       "version_minor": 0
      },
      "text/plain": [
       "  0%|          | 0/250 [00:00<?, ?it/s]"
      ]
     },
     "metadata": {},
     "output_type": "display_data"
    },
    {
     "name": "stdout",
     "output_type": "stream",
     "text": [
      "Iteration #3.\n"
     ]
    },
    {
     "data": {
      "application/vnd.jupyter.widget-view+json": {
       "model_id": "efc146abfc944f23a2d1c1d67335d5d7",
       "version_major": 2,
       "version_minor": 0
      },
      "text/plain": [
       "  0%|          | 0/250 [00:00<?, ?it/s]"
      ]
     },
     "metadata": {},
     "output_type": "display_data"
    },
    {
     "name": "stdout",
     "output_type": "stream",
     "text": [
      "Iteration #4.\n"
     ]
    },
    {
     "data": {
      "application/vnd.jupyter.widget-view+json": {
       "model_id": "0564151a9406469c9d4394a01dfbe6a5",
       "version_major": 2,
       "version_minor": 0
      },
      "text/plain": [
       "  0%|          | 0/250 [00:00<?, ?it/s]"
      ]
     },
     "metadata": {},
     "output_type": "display_data"
    },
    {
     "name": "stdout",
     "output_type": "stream",
     "text": [
      "Iteration #5.\n"
     ]
    },
    {
     "data": {
      "application/vnd.jupyter.widget-view+json": {
       "model_id": "9d1de44da398495a8f0ed3f5af68dbb5",
       "version_major": 2,
       "version_minor": 0
      },
      "text/plain": [
       "  0%|          | 0/250 [00:00<?, ?it/s]"
      ]
     },
     "metadata": {},
     "output_type": "display_data"
    }
   ],
   "source": [
    "from tqdm.notebook import tqdm\n",
    "import copy\n",
    "import random\n",
    "\n",
    "#Slow due to unoptimized code\n",
    "def iterate():\n",
    "    print(\"Iteration #{}.\".format(len(iters)))\n",
    "    for user in tqdm(iters[-1]):\n",
    "        history = [restaurant_data.loc[[i]] for i in user['history']]\n",
    "        if (len(history) > 1):\n",
    "            history = pd.concat(history)\n",
    "        else:\n",
    "            history = history[0]\n",
    "        recs = list(recommend(history).index)\n",
    "        user['recs'] = recs\n",
    "    \n",
    "    iters.append(copy.deepcopy(iters[-1]))\n",
    "    \n",
    "    for user in iters[-1]:\n",
    "        if (choice := random.choice(user['recs'])) in user['history']:\n",
    "            user['history'].remove(choice)\n",
    "        user['history'].insert(0, choice)\n",
    "        user['recs'] = []\n",
    "\n",
    "for i in range(5):\n",
    "    iterate()"
   ]
  },
  {
   "cell_type": "markdown",
   "id": "e2b8a43d",
   "metadata": {},
   "source": [
    "Time to draw our chart, where we plot the distribution of labels in our recommendations as it changes with our iterations compared to the distribution of labels in our initial dataset of restaurants (scaled to the number of users we used in our simulation)."
   ]
  },
  {
   "cell_type": "code",
   "execution_count": 263,
   "id": "26982f35",
   "metadata": {},
   "outputs": [
    {
     "data": {
      "text/plain": [
       "<AxesSubplot:xlabel='cluster', ylabel='count'>"
      ]
     },
     "execution_count": 263,
     "metadata": {},
     "output_type": "execute_result"
    },
    {
     "data": {
      "image/png": "[encoded data removed]",
      "text/plain": [
       "<Figure size 1008x432 with 1 Axes>"
      ]
     },
     "metadata": {
      "needs_background": "light"
     },
     "output_type": "display_data"
    }
   ],
   "source": [
    "rec_clusters = []\n",
    "for it in iters[:-1]:\n",
    "    iter_list = []\n",
    "    for user in it:\n",
    "        for idx in user['recs']:\n",
    "            iter_list.append(int(restaurant_data.loc[[idx]]['label']))\n",
    "    rec_clusters.append(iter_list)\n",
    "\n",
    "from collections import Counter\n",
    "\n",
    "counters = [Counter(i) for i in rec_clusters]\n",
    "\n",
    "counts = []\n",
    "\n",
    "for counter in counters:\n",
    "    counts_elem = []\n",
    "    for i in range(len(kprototype.cluster_centroids_)):\n",
    "        if i not in counter:\n",
    "            counts_elem.append(0)\n",
    "        else:\n",
    "            counts_elem.append(counter[i])\n",
    "    counts.append(counts_elem)\n",
    "    \n",
    "df = []\n",
    "for counts_elem, i in zip(counts, range(len(counts))):\n",
    "    for count, j in zip(counts_elem, range(len(counts_elem))):\n",
    "        row = [j, count, \"iter {}\".format(i+1)]\n",
    "        df.append(row)\n",
    "for count, j in zip(label_counts, range(len(label_counts))):\n",
    "    df.append([j, count*(250/restaurant_data.shape[0]), \"labels in dataset\"])\n",
    "\n",
    "df = pd.DataFrame(df, columns=['cluster', 'count', 'iter#'])\n",
    "                \n",
    "fig, ax = plt.subplots(figsize=(14,6))\n",
    "sns.barplot(data=df, x='cluster', y='count', hue='iter#')"
   ]
  },
  {
   "cell_type": "markdown",
   "id": "b4bee6c3",
   "metadata": {},
   "source": [
    "The variance of recommendations is relatively low and irregular when user histories are short, but as they grow with diverse restaurants our recommender system becomes somewhat more robust and gives more varied recommendations. However, after 3 iterations (that is, each user has 4 or more restaurants in their history), the variability ceases to increase and the distribution of recommended categories ceases to approach the distribution of categories in our dataset; in fact, some backsliding is seen. Furthermore, recommendations of the variable '2' never materialise."
   ]
  },
  {
   "cell_type": "markdown",
   "id": "a41d3a20",
   "metadata": {},
   "source": [
    "### Uniqueness"
   ]
  },
  {
   "cell_type": "markdown",
   "id": "78e101d6",
   "metadata": {},
   "source": [
    "In each iteration, what proportion of our recommended restaurants are unique?"
   ]
  },
  {
   "cell_type": "code",
   "execution_count": 270,
   "id": "b387ce90",
   "metadata": {},
   "outputs": [
    {
     "data": {
      "text/plain": [
       "<AxesSubplot:xlabel='iteration#', ylabel='% unique'>"
      ]
     },
     "execution_count": 270,
     "metadata": {},
     "output_type": "execute_result"
    },
    {
     "data": {
      "image/png": "[encoded data removed]",
      "text/plain": [
       "<Figure size 432x288 with 1 Axes>"
      ]
     },
     "metadata": {
      "needs_background": "light"
     },
     "output_type": "display_data"
    }
   ],
   "source": [
    "recs_for_iters = []\n",
    "for it in iters[:-1]:\n",
    "    iter_list = []\n",
    "    for user in it:\n",
    "        for idx in user['recs']:\n",
    "            iter_list.append(idx)\n",
    "    recs_for_iters.append(iter_list)\n",
    "\n",
    "df = []\n",
    "for it, i in zip(recs_for_iters, range(len(iters)-1)):\n",
    "    total = len(it)\n",
    "    unique = len(Counter(it).keys())\n",
    "    df.append([unique/total * 100, i+1])\n",
    "df = pd.DataFrame(df, columns=[\"% unique\", 'iteration#'])\n",
    "\n",
    "sns.barplot(data=df, x='iteration#', y='% unique')"
   ]
  },
  {
   "cell_type": "markdown",
   "id": "dd40d7d4",
   "metadata": {},
   "source": [
    "Rather dishearteningly, the uniqueness of our recommended restaurants starts low (~25%) and then seems to go down significantly. What about if we take the combination of restaurants we recommend a user as the unit of uniqueness?"
   ]
  },
  {
   "cell_type": "code",
   "execution_count": 272,
   "id": "2267a536",
   "metadata": {},
   "outputs": [
    {
     "data": {
      "text/plain": [
       "<AxesSubplot:xlabel='iteration#', ylabel='% unique'>"
      ]
     },
     "execution_count": 272,
     "metadata": {},
     "output_type": "execute_result"
    },
    {
     "data": {
      "image/png": "[encoded data removed]",
      "text/plain": [
       "<Figure size 432x288 with 1 Axes>"
      ]
     },
     "metadata": {
      "needs_background": "light"
     },
     "output_type": "display_data"
    }
   ],
   "source": [
    "recs_for_iters = []\n",
    "for it in iters[:-1]:\n",
    "    iter_list = []\n",
    "    for user in it:\n",
    "        iter_list.append(tuple(sorted(user['recs'])))\n",
    "    recs_for_iters.append(iter_list)\n",
    "\n",
    "df = []\n",
    "for it, i in zip(recs_for_iters, range(len(iters)-1)):\n",
    "    total = len(it)\n",
    "    unique = len(Counter(it).keys())\n",
    "    df.append([unique/total * 100, i+1])\n",
    "df = pd.DataFrame(df, columns=[\"% unique\", 'iteration#'])\n",
    "\n",
    "sns.barplot(data=df, x='iteration#', y='% unique')\n",
    "\n",
    "with open(\"..\\Data\\iters1.pickle\", 'wb') as file:\n",
    "    pickle.dump(iters, file, protocol=pickle.HIGHEST_PROTOCOL)"
   ]
  },
  {
   "cell_type": "markdown",
   "id": "de786546",
   "metadata": {},
   "source": [
    "The combination of restaurants we recommend users, at least, seems to be highly unique (~75%), and stays there."
   ]
  },
  {
   "cell_type": "markdown",
   "id": "125699ec",
   "metadata": {},
   "source": [
    "## Insight and recommendation\n",
    "\n",
    "Looking back at our UMAP visualisation and comparing with our cluster recommendation distributions, the problem becomes obvious; the procedure for picking a cluster to recommend seems to strongly bias clusters far from the center, since due to basic mathematics a cluster far from the center of the group of clusters is also further from the rest of the clusters than a cluster close to the centre. It seems like, then, we should drop looking for the furthest-away clusters, a quantitative difference, and simply pick random clusters other than the ones we're given (keeping the cap on the length of history). Because our clusters are highly distinct, that should still fullfill the requirement of being in some way different from what the user has already experienced."
   ]
  },
  {
   "cell_type": "code",
   "execution_count": 283,
   "id": "e2fe14b7",
   "metadata": {},
   "outputs": [],
   "source": [
    "def find_centroid_assoc_for_all_rows_new(df, skiptrans=False):\n",
    "    df = df[['latitude', 'longitude', 'price', 'label'] + cuisines_list].iloc[:10,:]\n",
    "    df_labels = list(df['label'])\n",
    "    return random.choices([i for i in range(12) if i not in df_labels], k=3)\n",
    "def recommend_new(input_rows):\n",
    "    labels = find_centroid_assoc_for_all_rows_new(input_rows)\n",
    "    recs = []\n",
    "    for label in labels:\n",
    "        recs.append(pick_restaurant(input_rows, label))\n",
    "    return pd.concat(recs)"
   ]
  },
  {
   "cell_type": "code",
   "execution_count": 286,
   "id": "1b87cc5c",
   "metadata": {},
   "outputs": [
    {
     "name": "stdout",
     "output_type": "stream",
     "text": [
      "Iteration #1.\n"
     ]
    },
    {
     "data": {
      "application/vnd.jupyter.widget-view+json": {
       "model_id": "37ce961f99534a258ceb73e27a166079",
       "version_major": 2,
       "version_minor": 0
      },
      "text/plain": [
       "  0%|          | 0/250 [00:00<?, ?it/s]"
      ]
     },
     "metadata": {},
     "output_type": "display_data"
    },
    {
     "name": "stdout",
     "output_type": "stream",
     "text": [
      "Iteration #2.\n"
     ]
    },
    {
     "data": {
      "application/vnd.jupyter.widget-view+json": {
       "model_id": "4c7fbd3abba44c74be9ae3c1578a2e21",
       "version_major": 2,
       "version_minor": 0
      },
      "text/plain": [
       "  0%|          | 0/250 [00:00<?, ?it/s]"
      ]
     },
     "metadata": {},
     "output_type": "display_data"
    },
    {
     "name": "stdout",
     "output_type": "stream",
     "text": [
      "Iteration #3.\n"
     ]
    },
    {
     "data": {
      "application/vnd.jupyter.widget-view+json": {
       "model_id": "4601ff13ac3047ff9a0084e34c43a3a4",
       "version_major": 2,
       "version_minor": 0
      },
      "text/plain": [
       "  0%|          | 0/250 [00:00<?, ?it/s]"
      ]
     },
     "metadata": {},
     "output_type": "display_data"
    },
    {
     "name": "stdout",
     "output_type": "stream",
     "text": [
      "Iteration #4.\n"
     ]
    },
    {
     "data": {
      "application/vnd.jupyter.widget-view+json": {
       "model_id": "49d6e75d7a314dcdb73b88215471b12e",
       "version_major": 2,
       "version_minor": 0
      },
      "text/plain": [
       "  0%|          | 0/250 [00:00<?, ?it/s]"
      ]
     },
     "metadata": {},
     "output_type": "display_data"
    },
    {
     "name": "stdout",
     "output_type": "stream",
     "text": [
      "Iteration #5.\n"
     ]
    },
    {
     "data": {
      "application/vnd.jupyter.widget-view+json": {
       "model_id": "dc79c5e234cf47f2928c6d98f7e692a9",
       "version_major": 2,
       "version_minor": 0
      },
      "text/plain": [
       "  0%|          | 0/250 [00:00<?, ?it/s]"
      ]
     },
     "metadata": {},
     "output_type": "display_data"
    }
   ],
   "source": [
    "from tqdm.notebook import tqdm\n",
    "import copy\n",
    "import random\n",
    "\n",
    "iters = []\n",
    "iter1 = [{'history': [random.randint(0, restaurant_data.shape[0])], 'recs': []} for i in range(250)]\n",
    "iters.append(iter1)\n",
    "iter1[0]\n",
    "\n",
    "#Slow due to unoptimized code\n",
    "def iterate():\n",
    "    print(\"Iteration #{}.\".format(len(iters)))\n",
    "    for user in tqdm(iters[-1]):\n",
    "        history = [restaurant_data.loc[[i]] for i in user['history']]\n",
    "        if (len(history) > 1):\n",
    "            history = pd.concat(history)\n",
    "        else:\n",
    "            history = history[0]\n",
    "        recs = list(recommend_new(history).index)\n",
    "        user['recs'] = recs\n",
    "    \n",
    "    iters.append(copy.deepcopy(iters[-1]))\n",
    "    \n",
    "    for user in iters[-1]:\n",
    "        if (choice := random.choice(user['recs'])) in user['history']:\n",
    "            user['history'].remove(choice)\n",
    "        user['history'].insert(0, choice)\n",
    "        user['recs'] = []\n",
    "\n",
    "for i in range(5):\n",
    "    iterate()"
   ]
  },
  {
   "cell_type": "code",
   "execution_count": 287,
   "id": "4731b61f",
   "metadata": {},
   "outputs": [
    {
     "data": {
      "text/plain": [
       "<AxesSubplot:xlabel='cluster', ylabel='count'>"
      ]
     },
     "execution_count": 287,
     "metadata": {},
     "output_type": "execute_result"
    },
    {
     "data": {
      "image/png": "[encoded data removed]",
      "text/plain": [
       "<Figure size 1008x432 with 1 Axes>"
      ]
     },
     "metadata": {
      "needs_background": "light"
     },
     "output_type": "display_data"
    }
   ],
   "source": [
    "rec_clusters = []\n",
    "for it in iters[:-1]:\n",
    "    iter_list = []\n",
    "    for user in it:\n",
    "        for idx in user['recs']:\n",
    "            iter_list.append(int(restaurant_data.loc[[idx]]['label']))\n",
    "    rec_clusters.append(iter_list)\n",
    "\n",
    "from collections import Counter\n",
    "\n",
    "counters = [Counter(i) for i in rec_clusters]\n",
    "\n",
    "counts = []\n",
    "\n",
    "for counter in counters:\n",
    "    counts_elem = []\n",
    "    for i in range(len(kprototype.cluster_centroids_)):\n",
    "        if i not in counter:\n",
    "            counts_elem.append(0)\n",
    "        else:\n",
    "            counts_elem.append(counter[i])\n",
    "    counts.append(counts_elem)\n",
    "    \n",
    "df = []\n",
    "for counts_elem, i in zip(counts, range(len(counts))):\n",
    "    for count, j in zip(counts_elem, range(len(counts_elem))):\n",
    "        row = [j, count, \"iter {}\".format(i+1)]\n",
    "        df.append(row)\n",
    "for count, j in zip(label_counts, range(len(label_counts))):\n",
    "    df.append([j, count*(250/restaurant_data.shape[0]), \"labels in dataset\"])\n",
    "\n",
    "df = pd.DataFrame(df, columns=['cluster', 'count', 'iter#'])\n",
    "                \n",
    "fig, ax = plt.subplots(figsize=(14,6))\n",
    "sns.barplot(data=df, x='cluster', y='count', hue='iter#')"
   ]
  },
  {
   "cell_type": "code",
   "execution_count": 291,
   "id": "0cdc39b4",
   "metadata": {},
   "outputs": [
    {
     "data": {
      "image/png": "[encoded data removed]",
      "text/plain": [
       "<Figure size 432x288 with 1 Axes>"
      ]
     },
     "metadata": {
      "needs_background": "light"
     },
     "output_type": "display_data"
    }
   ],
   "source": [
    "recs_for_iters = []\n",
    "for it in iters[:-1]:\n",
    "    iter_list = []\n",
    "    for user in it:\n",
    "        for idx in user['recs']:\n",
    "            iter_list.append(idx)\n",
    "    recs_for_iters.append(iter_list)\n",
    "\n",
    "df = []\n",
    "for it, i in zip(recs_for_iters, range(len(iters)-1)):\n",
    "    total = len(it)\n",
    "    unique = len(Counter(it).keys())\n",
    "    df.append([unique/total * 100, i+1])\n",
    "df = pd.DataFrame(df, columns=[\"% unique\", 'iteration#'])\n",
    "\n",
    "sns.barplot(data=df, x='iteration#', y='% unique')\n",
    "\n",
    "with open(\"..\\Data\\iters2.pickle\", 'wb') as file:\n",
    "    pickle.dump(iters, file, protocol=pickle.HIGHEST_PROTOCOL)"
   ]
  },
  {
   "cell_type": "markdown",
   "id": "93c88e8d",
   "metadata": {},
   "source": [
    "Success! Distribution of our recommended restaurants across clusters is now pretty close to even. Our uniqueness metric is also way up, with 50% of our recommended restaurants being unique within our recommendations. it does go down from 2-4, but seems to start levelling our 4-5, which makes sense due to our depreciating factor for history items."
   ]
  },
  {
   "cell_type": "markdown",
   "id": "5e1e490c",
   "metadata": {},
   "source": [
    "### Conclusion"
   ]
  },
  {
   "cell_type": "markdown",
   "id": "ad0f1eb8",
   "metadata": {},
   "source": [
    "Our final analysis will go here. "
   ]
  },
  {
   "cell_type": "code",
   "execution_count": null,
   "id": "8f19e8c1",
   "metadata": {},
   "outputs": [],
   "source": []
  }
 ],
 "metadata": {
  "kernelspec": {
   "display_name": "Python 3 (ipykernel)",
   "language": "python",
   "name": "python3"
  },
  "language_info": {
   "codemirror_mode": {
    "name": "ipython",
    "version": 3
   },
   "file_extension": ".py",
   "mimetype": "text/x-python",
   "name": "python",
   "nbconvert_exporter": "python",
   "pygments_lexer": "ipython3",
   "version": "3.8.13"
  }
 },
 "nbformat": 4,
 "nbformat_minor": 5
}
