{
 "cells": [
  {
   "cell_type": "markdown",
   "id": "655a3e4d",
   "metadata": {},
   "source": [
    "# EDA and Visualisation"
   ]
  },
  {
   "cell_type": "markdown",
   "id": "d021d399",
   "metadata": {},
   "source": [
    "### Importing libraries"
   ]
  },
  {
   "cell_type": "code",
   "execution_count": 1,
   "id": "1ddd825b",
   "metadata": {},
   "outputs": [],
   "source": [
    "# Basic Libraries\n",
    "import numpy as np\n",
    "import pandas as pd\n",
    "import seaborn as sb\n",
    "import matplotlib.pyplot as plt\n",
    "sb.set()"
   ]
  },
  {
   "cell_type": "markdown",
   "id": "38113da5",
   "metadata": {},
   "source": [
    "### Importing our cleaned data"
   ]
  },
  {
   "cell_type": "code",
   "execution_count": 26,
   "id": "b40a2e92",
   "metadata": {},
   "outputs": [],
   "source": [
    "cleaned = pd.read_csv(\"cleaned_data.csv\")\n",
    "duped = pd.read_csv(\"duped_data.csv\")\n",
    "cuisines = pd.read_csv(\"cuisines.csv\", squeeze=True)"
   ]
  },
  {
   "cell_type": "code",
   "execution_count": 8,
   "id": "96b8a6fd",
   "metadata": {},
   "outputs": [
    {
     "data": {
      "text/html": [
       "<div>\n",
       "<style scoped>\n",
       "    .dataframe tbody tr th:only-of-type {\n",
       "        vertical-align: middle;\n",
       "    }\n",
       "\n",
       "    .dataframe tbody tr th {\n",
       "        vertical-align: top;\n",
       "    }\n",
       "\n",
       "    .dataframe thead th {\n",
       "        text-align: right;\n",
       "    }\n",
       "</style>\n",
       "<table border=\"1\" class=\"dataframe\">\n",
       "  <thead>\n",
       "    <tr style=\"text-align: right;\">\n",
       "      <th></th>\n",
       "      <th>Unnamed: 0</th>\n",
       "      <th>id</th>\n",
       "      <th>name</th>\n",
       "      <th>street_address</th>\n",
       "      <th>price</th>\n",
       "      <th>cuisine</th>\n",
       "      <th>rating</th>\n",
       "      <th>latitude</th>\n",
       "      <th>longitude</th>\n",
       "      <th>price_mid</th>\n",
       "      <th>cuisine_cats</th>\n",
       "    </tr>\n",
       "  </thead>\n",
       "  <tbody>\n",
       "    <tr>\n",
       "      <th>0</th>\n",
       "      <td>0</td>\n",
       "      <td>0</td>\n",
       "      <td>1-V:U</td>\n",
       "      <td>The Outpost Hotel Sentosa, 10 Artillery Avenue...</td>\n",
       "      <td>$31 - $50</td>\n",
       "      <td>Asian Variety</td>\n",
       "      <td>3.5</td>\n",
       "      <td>1.252299</td>\n",
       "      <td>103.820211</td>\n",
       "      <td>40.5</td>\n",
       "      <td>[0]</td>\n",
       "    </tr>\n",
       "    <tr>\n",
       "      <th>1</th>\n",
       "      <td>1</td>\n",
       "      <td>1</td>\n",
       "      <td>10 At Claymore</td>\n",
       "      <td>Pan Pacific Orchard, 10 Claymore Road Level 2</td>\n",
       "      <td>$51 - $80</td>\n",
       "      <td>Multi-Cuisine</td>\n",
       "      <td>4.0</td>\n",
       "      <td>1.307401</td>\n",
       "      <td>103.829904</td>\n",
       "      <td>65.5</td>\n",
       "      <td>[1]</td>\n",
       "    </tr>\n",
       "  </tbody>\n",
       "</table>\n",
       "</div>"
      ],
      "text/plain": [
       "   Unnamed: 0  id            name  \\\n",
       "0           0   0           1-V:U   \n",
       "1           1   1  10 At Claymore   \n",
       "\n",
       "                                      street_address      price  \\\n",
       "0  The Outpost Hotel Sentosa, 10 Artillery Avenue...  $31 - $50   \n",
       "1      Pan Pacific Orchard, 10 Claymore Road Level 2  $51 - $80   \n",
       "\n",
       "         cuisine  rating  latitude   longitude  price_mid cuisine_cats  \n",
       "0  Asian Variety     3.5  1.252299  103.820211       40.5          [0]  \n",
       "1  Multi-Cuisine     4.0  1.307401  103.829904       65.5          [1]  "
      ]
     },
     "metadata": {},
     "output_type": "display_data"
    },
    {
     "name": "stdout",
     "output_type": "stream",
     "text": [
      "cleaned has 2833 rows\n"
     ]
    }
   ],
   "source": [
    "display(cleaned.head(2))\n",
    "print(\"cleaned has {} rows\".format(len(cleaned)))"
   ]
  },
  {
   "cell_type": "code",
   "execution_count": 9,
   "id": "2ae328fc",
   "metadata": {},
   "outputs": [
    {
     "data": {
      "text/html": [
       "<div>\n",
       "<style scoped>\n",
       "    .dataframe tbody tr th:only-of-type {\n",
       "        vertical-align: middle;\n",
       "    }\n",
       "\n",
       "    .dataframe tbody tr th {\n",
       "        vertical-align: top;\n",
       "    }\n",
       "\n",
       "    .dataframe thead th {\n",
       "        text-align: right;\n",
       "    }\n",
       "</style>\n",
       "<table border=\"1\" class=\"dataframe\">\n",
       "  <thead>\n",
       "    <tr style=\"text-align: right;\">\n",
       "      <th></th>\n",
       "      <th>Unnamed: 0</th>\n",
       "      <th>id</th>\n",
       "      <th>name</th>\n",
       "      <th>street_address</th>\n",
       "      <th>price</th>\n",
       "      <th>cuisine</th>\n",
       "      <th>rating</th>\n",
       "      <th>latitude</th>\n",
       "      <th>longitude</th>\n",
       "      <th>price_mid</th>\n",
       "      <th>cuisine_cat</th>\n",
       "      <th>duplicate</th>\n",
       "    </tr>\n",
       "  </thead>\n",
       "  <tbody>\n",
       "    <tr>\n",
       "      <th>0</th>\n",
       "      <td>0</td>\n",
       "      <td>0</td>\n",
       "      <td>1-V:U</td>\n",
       "      <td>The Outpost Hotel Sentosa, 10 Artillery Avenue...</td>\n",
       "      <td>$31 - $50</td>\n",
       "      <td>Asian Variety</td>\n",
       "      <td>3.5</td>\n",
       "      <td>1.252299</td>\n",
       "      <td>103.820211</td>\n",
       "      <td>40.5</td>\n",
       "      <td>0</td>\n",
       "      <td>0</td>\n",
       "    </tr>\n",
       "    <tr>\n",
       "      <th>1</th>\n",
       "      <td>1</td>\n",
       "      <td>1</td>\n",
       "      <td>10 At Claymore</td>\n",
       "      <td>Pan Pacific Orchard, 10 Claymore Road Level 2</td>\n",
       "      <td>$51 - $80</td>\n",
       "      <td>Multi-Cuisine</td>\n",
       "      <td>4.0</td>\n",
       "      <td>1.307401</td>\n",
       "      <td>103.829904</td>\n",
       "      <td>65.5</td>\n",
       "      <td>1</td>\n",
       "      <td>0</td>\n",
       "    </tr>\n",
       "  </tbody>\n",
       "</table>\n",
       "</div>"
      ],
      "text/plain": [
       "   Unnamed: 0  id            name  \\\n",
       "0           0   0           1-V:U   \n",
       "1           1   1  10 At Claymore   \n",
       "\n",
       "                                      street_address      price  \\\n",
       "0  The Outpost Hotel Sentosa, 10 Artillery Avenue...  $31 - $50   \n",
       "1      Pan Pacific Orchard, 10 Claymore Road Level 2  $51 - $80   \n",
       "\n",
       "         cuisine  rating  latitude   longitude  price_mid  cuisine_cat  \\\n",
       "0  Asian Variety     3.5  1.252299  103.820211       40.5            0   \n",
       "1  Multi-Cuisine     4.0  1.307401  103.829904       65.5            1   \n",
       "\n",
       "   duplicate  \n",
       "0          0  \n",
       "1          0  "
      ]
     },
     "metadata": {},
     "output_type": "display_data"
    },
    {
     "name": "stdout",
     "output_type": "stream",
     "text": [
      "duped has 3772 rows\n"
     ]
    }
   ],
   "source": [
    "display(duped.head(2))\n",
    "print(\"duped has {} rows\".format(len(duped)))"
   ]
  },
  {
   "cell_type": "markdown",
   "id": "3d06414f",
   "metadata": {},
   "source": [
    "`cleaned` is the dataset we produced in [Data Cleaning.ipynb](http://localhost:8888/notebooks/Desktop/SC1015-Project/Data%20Cleaning.ipynb)\n",
    "\n",
    "`duped` is mostly identical in contents to `cleaned`, but with each row containing multiple cuisines turned into multiple rows, each with a single cuisine. `cuisine_cats` is thus renamed to `cuisine_cat`. The `duplicate` column tracks whether the current row belongs to such a restaurant."
   ]
  },
  {
   "cell_type": "code",
   "execution_count": 37,
   "id": "3695000d",
   "metadata": {},
   "outputs": [
    {
     "data": {
      "text/plain": [
       "0    Asian Variety\n",
       "1    Multi-Cuisine\n",
       "Name: 0, dtype: object"
      ]
     },
     "metadata": {},
     "output_type": "display_data"
    },
    {
     "name": "stdout",
     "output_type": "stream",
     "text": [
      "There are 52 cuisines identified.\n"
     ]
    }
   ],
   "source": [
    "display(cuisines.head(2))\n",
    "print(\"There are {} cuisines identified.\".format(len(cuisines)))"
   ]
  },
  {
   "cell_type": "markdown",
   "id": "56ccc91e",
   "metadata": {},
   "source": [
    "`cuisines` is a `Series` representing the cuisine categories. `cuisine_cats` and `cuisine_cat` use its indices."
   ]
  },
  {
   "cell_type": "code",
   "execution_count": null,
   "id": "ed8ead88",
   "metadata": {},
   "outputs": [],
   "source": []
  }
 ],
 "metadata": {
  "kernelspec": {
   "display_name": "Python 3 (ipykernel)",
   "language": "python",
   "name": "python3"
  },
  "language_info": {
   "codemirror_mode": {
    "name": "ipython",
    "version": 3
   },
   "file_extension": ".py",
   "mimetype": "text/x-python",
   "name": "python",
   "nbconvert_exporter": "python",
   "pygments_lexer": "ipython3",
   "version": "3.9.7"
  }
 },
 "nbformat": 4,
 "nbformat_minor": 5
}
