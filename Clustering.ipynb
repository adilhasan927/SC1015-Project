{
 "cells": [
  {
   "cell_type": "markdown",
   "id": "7c3edf7d",
   "metadata": {},
   "source": [
    "# Initialize Libraries\n",
    "\n",
    "For the purposes of our Project, our group decided to apply a clustering model to our dataset. As the dataset comprises of both numerical and categorical data, we needed to use a model that could handle both types of data such as K-Prototypes"
   ]
  },
  {
   "cell_type": "markdown",
   "id": "39d02c9e",
   "metadata": {},
   "source": [
    "Note: You may need to install kmodes if it is not already installed"
   ]
  },
  {
   "cell_type": "code",
   "execution_count": 1,
   "id": "a94dbf04",
   "metadata": {},
   "outputs": [
    {
     "name": "stdout",
     "output_type": "stream",
     "text": [
      "Requirement already satisfied: kmodes in c:\\programdata\\anaconda3\\lib\\site-packages (0.12.0)\n",
      "Requirement already satisfied: scipy>=0.13.3 in c:\\programdata\\anaconda3\\lib\\site-packages (from kmodes) (1.7.1)\n",
      "Requirement already satisfied: numpy>=1.10.4 in c:\\programdata\\anaconda3\\lib\\site-packages (from kmodes) (1.20.3)\n",
      "Requirement already satisfied: joblib>=0.11 in c:\\programdata\\anaconda3\\lib\\site-packages (from kmodes) (1.1.0)\n",
      "Requirement already satisfied: scikit-learn>=0.22.0 in c:\\programdata\\anaconda3\\lib\\site-packages (from kmodes) (0.24.2)\n",
      "Requirement already satisfied: threadpoolctl>=2.0.0 in c:\\programdata\\anaconda3\\lib\\site-packages (from scikit-learn>=0.22.0->kmodes) (2.2.0)\n",
      "Note: you may need to restart the kernel to use updated packages.\n"
     ]
    }
   ],
   "source": [
    "pip install kmodes"
   ]
  },
  {
   "cell_type": "code",
   "execution_count": 2,
   "id": "15c69315",
   "metadata": {},
   "outputs": [
    {
     "name": "stdout",
     "output_type": "stream",
     "text": [
      "Requirement already satisfied: umap-learn in c:\\programdata\\anaconda3\\lib\\site-packages (0.5.2)\n",
      "Requirement already satisfied: scipy>=1.0 in c:\\programdata\\anaconda3\\lib\\site-packages (from umap-learn) (1.7.1)\n",
      "Requirement already satisfied: numpy>=1.17 in c:\\programdata\\anaconda3\\lib\\site-packages (from umap-learn) (1.20.3)\n",
      "Requirement already satisfied: tqdm in c:\\programdata\\anaconda3\\lib\\site-packages (from umap-learn) (4.62.3)\n",
      "Requirement already satisfied: numba>=0.49 in c:\\programdata\\anaconda3\\lib\\site-packages (from umap-learn) (0.54.1)\n",
      "Requirement already satisfied: pynndescent>=0.5 in c:\\programdata\\anaconda3\\lib\\site-packages (from umap-learn) (0.5.6)\n",
      "Requirement already satisfied: scikit-learn>=0.22 in c:\\programdata\\anaconda3\\lib\\site-packages (from umap-learn) (0.24.2)\n",
      "Requirement already satisfied: llvmlite<0.38,>=0.37.0rc1 in c:\\programdata\\anaconda3\\lib\\site-packages (from numba>=0.49->umap-learn) (0.37.0)\n",
      "Requirement already satisfied: setuptools in c:\\programdata\\anaconda3\\lib\\site-packages (from numba>=0.49->umap-learn) (58.0.4)\n",
      "Requirement already satisfied: joblib>=0.11 in c:\\programdata\\anaconda3\\lib\\site-packages (from pynndescent>=0.5->umap-learn) (1.1.0)\n",
      "Requirement already satisfied: threadpoolctl>=2.0.0 in c:\\programdata\\anaconda3\\lib\\site-packages (from scikit-learn>=0.22->umap-learn) (2.2.0)\n",
      "Requirement already satisfied: colorama in c:\\programdata\\anaconda3\\lib\\site-packages (from tqdm->umap-learn) (0.4.4)\n",
      "Note: you may need to restart the kernel to use updated packages.\n"
     ]
    }
   ],
   "source": [
    "pip install umap-learn"
   ]
  },
  {
   "cell_type": "code",
   "execution_count": 3,
   "id": "2cfa5907",
   "metadata": {},
   "outputs": [],
   "source": [
    "import warnings\n",
    "warnings.simplefilter(action='ignore', category=FutureWarning)\n",
    "\n",
    "import numpy as np\n",
    "import pandas as pd\n",
    "\n",
    "import matplotlib.pyplot as plt\n",
    "import seaborn as sns\n",
    "%matplotlib inline"
   ]
  },
  {
   "cell_type": "code",
   "execution_count": 4,
   "id": "9950967e",
   "metadata": {},
   "outputs": [],
   "source": [
    "from kmodes.kprototypes import KPrototypes"
   ]
  },
  {
   "cell_type": "markdown",
   "id": "aff78719",
   "metadata": {},
   "source": [
    "## Loading in dataset\n",
    "\n",
    "We will be using the dataset onehotted.csv that was generated after the data cleaning process and one-hotting of cuisines."
   ]
  },
  {
   "cell_type": "code",
   "execution_count": 19,
   "id": "abbc04db",
   "metadata": {},
   "outputs": [
    {
     "data": {
      "text/html": [
       "<div>\n",
       "<style scoped>\n",
       "    .dataframe tbody tr th:only-of-type {\n",
       "        vertical-align: middle;\n",
       "    }\n",
       "\n",
       "    .dataframe tbody tr th {\n",
       "        vertical-align: top;\n",
       "    }\n",
       "\n",
       "    .dataframe thead th {\n",
       "        text-align: right;\n",
       "    }\n",
       "</style>\n",
       "<table border=\"1\" class=\"dataframe\">\n",
       "  <thead>\n",
       "    <tr style=\"text-align: right;\">\n",
       "      <th></th>\n",
       "      <th>id</th>\n",
       "      <th>name</th>\n",
       "      <th>street_address</th>\n",
       "      <th>price</th>\n",
       "      <th>cuisine</th>\n",
       "      <th>rating</th>\n",
       "      <th>latitude</th>\n",
       "      <th>longitude</th>\n",
       "      <th>price_mid</th>\n",
       "      <th>cuisine_cats</th>\n",
       "      <th>...</th>\n",
       "      <th>Western Variety</th>\n",
       "      <th>Vietnamese</th>\n",
       "      <th>Beijing</th>\n",
       "      <th>Russian</th>\n",
       "      <th>Foochow</th>\n",
       "      <th>Hakka</th>\n",
       "      <th>Caribbean</th>\n",
       "      <th>Filipino</th>\n",
       "      <th>Irish</th>\n",
       "      <th>Dong Bei</th>\n",
       "    </tr>\n",
       "  </thead>\n",
       "  <tbody>\n",
       "    <tr>\n",
       "      <th>0</th>\n",
       "      <td>0</td>\n",
       "      <td>1-V:U</td>\n",
       "      <td>The Outpost Hotel Sentosa, 10 Artillery Avenue...</td>\n",
       "      <td>$31 - $50</td>\n",
       "      <td>Asian Variety</td>\n",
       "      <td>3.5</td>\n",
       "      <td>1.252299</td>\n",
       "      <td>103.820211</td>\n",
       "      <td>40.5</td>\n",
       "      <td>[0]</td>\n",
       "      <td>...</td>\n",
       "      <td>0</td>\n",
       "      <td>0</td>\n",
       "      <td>0</td>\n",
       "      <td>0</td>\n",
       "      <td>0</td>\n",
       "      <td>0</td>\n",
       "      <td>0</td>\n",
       "      <td>0</td>\n",
       "      <td>0</td>\n",
       "      <td>0</td>\n",
       "    </tr>\n",
       "    <tr>\n",
       "      <th>1</th>\n",
       "      <td>1</td>\n",
       "      <td>10 At Claymore</td>\n",
       "      <td>Pan Pacific Orchard, 10 Claymore Road Level 2</td>\n",
       "      <td>$51 - $80</td>\n",
       "      <td>Multi-Cuisine</td>\n",
       "      <td>4.0</td>\n",
       "      <td>1.307401</td>\n",
       "      <td>103.829904</td>\n",
       "      <td>65.5</td>\n",
       "      <td>[1]</td>\n",
       "      <td>...</td>\n",
       "      <td>0</td>\n",
       "      <td>0</td>\n",
       "      <td>0</td>\n",
       "      <td>0</td>\n",
       "      <td>0</td>\n",
       "      <td>0</td>\n",
       "      <td>0</td>\n",
       "      <td>0</td>\n",
       "      <td>0</td>\n",
       "      <td>0</td>\n",
       "    </tr>\n",
       "  </tbody>\n",
       "</table>\n",
       "<p>2 rows × 63 columns</p>\n",
       "</div>"
      ],
      "text/plain": [
       "   id            name                                     street_address  \\\n",
       "0   0           1-V:U  The Outpost Hotel Sentosa, 10 Artillery Avenue...   \n",
       "1   1  10 At Claymore      Pan Pacific Orchard, 10 Claymore Road Level 2   \n",
       "\n",
       "       price        cuisine  rating  latitude   longitude  price_mid  \\\n",
       "0  $31 - $50  Asian Variety     3.5  1.252299  103.820211       40.5   \n",
       "1  $51 - $80  Multi-Cuisine     4.0  1.307401  103.829904       65.5   \n",
       "\n",
       "  cuisine_cats  ...  Western Variety  Vietnamese  Beijing  Russian  Foochow  \\\n",
       "0          [0]  ...                0           0        0        0        0   \n",
       "1          [1]  ...                0           0        0        0        0   \n",
       "\n",
       "   Hakka  Caribbean  Filipino  Irish  Dong Bei  \n",
       "0      0          0         0      0         0  \n",
       "1      0          0         0      0         0  \n",
       "\n",
       "[2 rows x 63 columns]"
      ]
     },
     "execution_count": 19,
     "metadata": {},
     "output_type": "execute_result"
    }
   ],
   "source": [
    "#Initialise dataset\n",
    "restaurant_data = pd.read_csv('onehotted.csv').iloc[: , 1:]\n",
    "restaurant_data.head(2)"
   ]
  },
  {
   "cell_type": "markdown",
   "id": "7a39653f",
   "metadata": {},
   "source": [
    "### Creating a new Dataframe\n",
    "\n",
    "Creation of a new dataframe containing all values relevant to the clustering algorithm.\n",
    "\n",
    "We will also do min-max scaling to normalise our numerical variables."
   ]
  },
  {
   "cell_type": "code",
   "execution_count": 130,
   "id": "941654d3",
   "metadata": {},
   "outputs": [
    {
     "data": {
      "text/html": [
       "<div>\n",
       "<style scoped>\n",
       "    .dataframe tbody tr th:only-of-type {\n",
       "        vertical-align: middle;\n",
       "    }\n",
       "\n",
       "    .dataframe tbody tr th {\n",
       "        vertical-align: top;\n",
       "    }\n",
       "\n",
       "    .dataframe thead th {\n",
       "        text-align: right;\n",
       "    }\n",
       "</style>\n",
       "<table border=\"1\" class=\"dataframe\">\n",
       "  <thead>\n",
       "    <tr style=\"text-align: right;\">\n",
       "      <th></th>\n",
       "      <th>latitude</th>\n",
       "      <th>longitude</th>\n",
       "      <th>price_mid</th>\n",
       "      <th>Asian Variety</th>\n",
       "      <th>Multi-Cuisine</th>\n",
       "      <th>Korean</th>\n",
       "      <th>Belgian</th>\n",
       "      <th>Singaporean</th>\n",
       "      <th>Chinese</th>\n",
       "      <th>Cantonese</th>\n",
       "      <th>...</th>\n",
       "      <th>Western Variety</th>\n",
       "      <th>Vietnamese</th>\n",
       "      <th>Beijing</th>\n",
       "      <th>Russian</th>\n",
       "      <th>Foochow</th>\n",
       "      <th>Hakka</th>\n",
       "      <th>Caribbean</th>\n",
       "      <th>Filipino</th>\n",
       "      <th>Irish</th>\n",
       "      <th>Dong Bei</th>\n",
       "    </tr>\n",
       "  </thead>\n",
       "  <tbody>\n",
       "    <tr>\n",
       "      <th>0</th>\n",
       "      <td>0.040402</td>\n",
       "      <td>0.452707</td>\n",
       "      <td>0.090909</td>\n",
       "      <td>1</td>\n",
       "      <td>0</td>\n",
       "      <td>0</td>\n",
       "      <td>0</td>\n",
       "      <td>0</td>\n",
       "      <td>0</td>\n",
       "      <td>0</td>\n",
       "      <td>...</td>\n",
       "      <td>0</td>\n",
       "      <td>0</td>\n",
       "      <td>0</td>\n",
       "      <td>0</td>\n",
       "      <td>0</td>\n",
       "      <td>0</td>\n",
       "      <td>0</td>\n",
       "      <td>0</td>\n",
       "      <td>0</td>\n",
       "      <td>0</td>\n",
       "    </tr>\n",
       "    <tr>\n",
       "      <th>1</th>\n",
       "      <td>0.286747</td>\n",
       "      <td>0.483832</td>\n",
       "      <td>0.154040</td>\n",
       "      <td>0</td>\n",
       "      <td>1</td>\n",
       "      <td>0</td>\n",
       "      <td>0</td>\n",
       "      <td>0</td>\n",
       "      <td>0</td>\n",
       "      <td>0</td>\n",
       "      <td>...</td>\n",
       "      <td>0</td>\n",
       "      <td>0</td>\n",
       "      <td>0</td>\n",
       "      <td>0</td>\n",
       "      <td>0</td>\n",
       "      <td>0</td>\n",
       "      <td>0</td>\n",
       "      <td>0</td>\n",
       "      <td>0</td>\n",
       "      <td>0</td>\n",
       "    </tr>\n",
       "  </tbody>\n",
       "</table>\n",
       "<p>2 rows × 55 columns</p>\n",
       "</div>"
      ],
      "text/plain": [
       "   latitude  longitude  price_mid  Asian Variety  Multi-Cuisine  Korean  \\\n",
       "0  0.040402   0.452707   0.090909              1              0       0   \n",
       "1  0.286747   0.483832   0.154040              0              1       0   \n",
       "\n",
       "   Belgian  Singaporean  Chinese  Cantonese  ...  Western Variety  Vietnamese  \\\n",
       "0        0            0        0          0  ...                0           0   \n",
       "1        0            0        0          0  ...                0           0   \n",
       "\n",
       "   Beijing  Russian  Foochow  Hakka  Caribbean  Filipino  Irish  Dong Bei  \n",
       "0        0        0        0      0          0         0      0         0  \n",
       "1        0        0        0      0          0         0      0         0  \n",
       "\n",
       "[2 rows x 55 columns]"
      ]
     },
     "execution_count": 130,
     "metadata": {},
     "output_type": "execute_result"
    }
   ],
   "source": [
    "#Group relevant columns for K-Prototype\n",
    "df_K = pd.DataFrame()\n",
    "\n",
    "from sklearn.preprocessing import MinMaxScaler\n",
    "scaler = MinMaxScaler()\n",
    "\n",
    "df_K[['latitude', 'longitude', 'price_mid']] = scaler.fit_transform(\n",
    "    restaurant_data[['latitude', 'longitude', 'price_mid']]\n",
    ")\n",
    "\n",
    "df_K = df_K.join(restaurant_data[restaurant_data.columns[11:]])\n",
    "df_K.head(2)"
   ]
  },
  {
   "cell_type": "markdown",
   "id": "9cba0858",
   "metadata": {},
   "source": [
    "Converting the dataframe to a Numpy array to be fed into the K Prototypes model"
   ]
  },
  {
   "cell_type": "code",
   "execution_count": 136,
   "id": "789fe982",
   "metadata": {},
   "outputs": [
    {
     "data": {
      "text/plain": [
       "0.0"
      ]
     },
     "execution_count": 136,
     "metadata": {},
     "output_type": "execute_result"
    }
   ],
   "source": [
    "#Convert to array\n",
    "array_K = df_K.to_numpy(dtype=float)\n",
    "categorical_index = [i for i in range(3, 3+len(restaurant_data.columns[11:]))]\n",
    "array_K[0][categorical_index[-1]]"
   ]
  },
  {
   "cell_type": "markdown",
   "id": "6addf606",
   "metadata": {},
   "source": [
    "### Plotting the Elbow Curve\n",
    "\n",
    "Below, we will plot the elbow curve graph to find the optimal number of clusters to be applied to the K.Prototypes model"
   ]
  },
  {
   "cell_type": "code",
   "execution_count": 140,
   "id": "aa8872a8",
   "metadata": {
    "scrolled": false
   },
   "outputs": [
    {
     "name": "stdout",
     "output_type": "stream",
     "text": [
      "2 clusters step started\n",
      "2 clusters step done\n",
      "3 clusters step started\n",
      "3 clusters step done\n",
      "4 clusters step started\n",
      "4 clusters step done\n",
      "5 clusters step started\n",
      "5 clusters step done\n",
      "6 clusters step started\n",
      "6 clusters step done\n",
      "7 clusters step started\n",
      "7 clusters step done\n",
      "8 clusters step started\n",
      "8 clusters step done\n",
      "9 clusters step started\n",
      "9 clusters step done\n",
      "10 clusters step started\n",
      "10 clusters step done\n",
      "11 clusters step started\n",
      "11 clusters step done\n",
      "12 clusters step started\n",
      "12 clusters step done\n",
      "13 clusters step started\n",
      "13 clusters step done\n",
      "14 clusters step started\n",
      "14 clusters step done\n",
      "15 clusters step started\n",
      "15 clusters step done\n",
      "16 clusters step started\n",
      "16 clusters step done\n",
      "17 clusters step started\n",
      "17 clusters step done\n",
      "18 clusters step started\n",
      "18 clusters step done\n",
      "19 clusters step started\n",
      "19 clusters step done\n",
      "20 clusters step started\n",
      "20 clusters step done\n"
     ]
    },
    {
     "data": {
      "image/png": "[encoded data removed]",
      "text/plain": [
       "<Figure size 1080x504 with 1 Axes>"
      ]
     },
     "metadata": {},
     "output_type": "display_data"
    }
   ],
   "source": [
    "models = []\n",
    "\n",
    "# Function for plotting elbow curve\n",
    "def plot_elbow_curve(start, end, data):\n",
    "    no_of_clusters = list(range(start, end+1))\n",
    "    \n",
    "    for k in no_of_clusters:\n",
    "        print(\"{} clusters step started\".format(k))\n",
    "        test_model = KPrototypes(n_clusters=k, init='Huang', random_state=42, n_jobs=-1)\n",
    "        test_model.fit_predict(data, categorical=categorical_index)\n",
    "        models.append(test_model)\n",
    "        print(\"{} clusters step done\".format(k))\n",
    "        \n",
    "    cost_values = [i.cost_ for i in models]\n",
    "        \n",
    "    sns.set_theme(style=\"whitegrid\", palette=\"bright\", font_scale=1.2)\n",
    "    \n",
    "    plt.figure(figsize=(15, 7))\n",
    "    ax = sns.lineplot(x=no_of_clusters, y=cost_values, marker=\"o\", dashes=False)\n",
    "    ax.set_title('Elbow curve', fontsize=18)\n",
    "    ax.set_xlabel('No of clusters', fontsize=14)\n",
    "    ax.set_ylabel('Cost', fontsize=14)\n",
    "    ax.set(xlim=(start-0.1, end+0.1))\n",
    "    plt.plot();\n",
    "    \n",
    "# Plotting elbow curve for k=2 to k=20\n",
    "plot_elbow_curve(2,20,df_K[['latitude', 'longitude', 'price_mid', *restaurant_data.columns[11:]]])"
   ]
  },
  {
   "cell_type": "markdown",
   "id": "6b7cee26",
   "metadata": {},
   "source": [
    "### Cluster Analysis\n",
    "\n",
    "We begin by coverting the dataframe to a matrix to facilitate the K-Prototypes modelling "
   ]
  },
  {
   "cell_type": "code",
   "execution_count": 141,
   "id": "dbf2356d",
   "metadata": {},
   "outputs": [],
   "source": [
    "# Get already trained model\n",
    "kprototype = models[10]"
   ]
  },
  {
   "cell_type": "code",
   "execution_count": 160,
   "id": "972c7b5a",
   "metadata": {},
   "outputs": [
    {
     "data": {
      "text/plain": [
       "array([0.40331387, 0.5376101 , 0.00339938, 0.        , 0.        ,\n",
       "       0.        , 0.        , 1.        , 1.        , 0.        ,\n",
       "       0.        , 0.        , 0.        , 0.        , 0.        ,\n",
       "       0.        , 0.        , 0.        , 0.        , 0.        ,\n",
       "       0.        , 0.        , 0.        , 0.        , 0.        ,\n",
       "       0.        , 0.        , 0.        , 0.        , 0.        ,\n",
       "       0.        , 0.        , 0.        , 0.        , 0.        ,\n",
       "       0.        , 0.        , 0.        , 0.        , 0.        ,\n",
       "       0.        , 0.        , 0.        , 0.        , 0.        ,\n",
       "       0.        , 0.        , 0.        , 0.        , 0.        ,\n",
       "       0.        , 0.        , 0.        , 0.        , 0.        ])"
      ]
     },
     "metadata": {},
     "output_type": "display_data"
    },
    {
     "data": {
      "text/plain": [
       "9"
      ]
     },
     "metadata": {},
     "output_type": "display_data"
    },
    {
     "data": {
      "text/plain": [
       "323.30967588614766"
      ]
     },
     "metadata": {},
     "output_type": "display_data"
    }
   ],
   "source": [
    "# Cluster centorid\n",
    "display(kprototype.cluster_centroids_[1])\n",
    "# Check the iteration of the clusters created\n",
    "display(kprototype.n_iter_)\n",
    "# Check the cost of the clusters created\n",
    "display(kprototype.cost_)"
   ]
  },
  {
   "cell_type": "markdown",
   "id": "98ce4728",
   "metadata": {},
   "source": [
    "### Cluster Interpretation\n",
    "\n",
    "Assign the cluster labels to be printed for interpretation.  \n",
    "Finding the mean for numerical values and mode for categorical values in each cluster"
   ]
  },
  {
   "cell_type": "code",
   "execution_count": 146,
   "id": "9c010808",
   "metadata": {},
   "outputs": [
    {
     "data": {
      "text/plain": [
       "array([2, 2, 2, ..., 2, 1, 6], dtype=uint16)"
      ]
     },
     "execution_count": 146,
     "metadata": {},
     "output_type": "execute_result"
    }
   ],
   "source": [
    "kprototype.labels_"
   ]
  },
  {
   "cell_type": "code",
   "execution_count": 200,
   "id": "265434be",
   "metadata": {},
   "outputs": [],
   "source": [
    "def inttoord(n):\n",
    "    return \"%d%s\" % (n+1,\"tsnrhtdd\"[(n//10%10!=1)*(n%10<4)*n%10::4])\n",
    "\n",
    "# For Jupyter convenience\n",
    "todrop=[i for i in ['Labels', 'Segment', 'Total'] if i in df_K.columns]\n",
    "df_K = df_K.drop(todrop,axis=1)\n",
    "# Add the cluster to the dataframe\n",
    "df_K['Labels'] = kprototype.labels_\n",
    "df_K['Segment'] = df_K['Labels'].map(inttoord)"
   ]
  },
  {
   "cell_type": "code",
   "execution_count": 218,
   "id": "212861ed",
   "metadata": {},
   "outputs": [
    {
     "data": {
      "text/plain": [
       "0     [5, 6, 10, 32, 18, 19, 9, 24, 28, 29, 10, 13, ...\n",
       "1     [0, 8, 17, 13, 1, 10, 18, 19, 13, 18, 19, 13, ...\n",
       "2     [4, 13, 5, 8, 7, 10, 13, 5, 6, 17, 0, 8, 17, 5...\n",
       "3     [8, 2, 3, 13, 13, 17, 4, 14, 6, 32, 4, 10, 11,...\n",
       "4     [5, 4, 9, 14, 5, 5, 13, 22, 9, 5, 5, 13, 5, 13...\n",
       "5     [1, 13, 15, 16, 13, 10, 17, 33, 13, 13, 5, 5, ...\n",
       "6     [4, 17, 21, 5, 2, 3, 1, 0, 8, 17, 8, 10, 13, 5...\n",
       "7     [7, 10, 17, 13, 13, 0, 8, 17, 4, 10, 1, 31, 13...\n",
       "8     [1, 1, 8, 20, 23, 5, 10, 18, 19, 7, 21, 8, 5, ...\n",
       "9     [11, 5, 13, 13, 13, 5, 4, 13, 5, 13, 0, 7, 17,...\n",
       "10    [21, 1, 2, 3, 5, 8, 5, 5, 11, 15, 16, 8, 13, 1...\n",
       "11    [11, 0, 8, 17, 13, 5, 10, 5, 5, 14, 17, 6, 8, ...\n",
       "Name: cuisine_cats, dtype: object"
      ]
     },
     "execution_count": 218,
     "metadata": {},
     "output_type": "execute_result"
    }
   ],
   "source": [
    "# Cluster interpretation\n",
    "df_K['Total'] = pd.DataFrame(df_K['Labels'])\n",
    "df_K['cuisine_cats'] = df_K[restaurant_data.columns[11:]].apply(\n",
    "    lambda x: [i for i in range(len(x[11:])) if x[11+i]]\n",
    "    ,axis=1)\n",
    "df_K_dropped = df_K.drop(columns=restaurant_data.columns[11:])\n",
    "from statistics import mode\n",
    "df_K_clusters = df_K_dropped.groupby('Segment').agg(\n",
    "    {\n",
    "        'Labels':'mean',\n",
    "        'Total':'count',\n",
    "        'cuisine_cats': lambda x: [j for i in x.items() for j in i[1]],\n",
    "        'latitude': 'mean',\n",
    "        'longitude': 'mean',\n",
    "        'price_mid': 'mean'\n",
    "    }, axis=1\n",
    ").sort_values(by=['Labels']).reset_index()\n",
    "# We can now analyse the distribution of cuisines in each restaurant in a cluster\n",
    "df_K_clusters['cuisine_cats']"
   ]
  },
  {
   "cell_type": "markdown",
   "id": "c9239b36",
   "metadata": {},
   "source": [
    "### Visualisation\n",
    "Do we actually have clusters? We will use UMAP embedding."
   ]
  },
  {
   "cell_type": "code",
   "execution_count": 121,
   "id": "4ad128d2",
   "metadata": {},
   "outputs": [
    {
     "name": "stdout",
     "output_type": "stream",
     "text": [
      "<class 'pandas.core.frame.DataFrame'>\n",
      "RangeIndex: 2833 entries, 0 to 2832\n",
      "Data columns (total 55 columns):\n",
      " #   Column               Non-Null Count  Dtype  \n",
      "---  ------               --------------  -----  \n",
      " 0   latitude             2833 non-null   float64\n",
      " 1   longitude            2833 non-null   float64\n",
      " 2   price_mid            2833 non-null   float64\n",
      " 3   Asian Variety        2833 non-null   uint8  \n",
      " 4   Multi-Cuisine        2833 non-null   uint8  \n",
      " 5   Korean               2833 non-null   uint8  \n",
      " 6   Belgian              2833 non-null   uint8  \n",
      " 7   Singaporean          2833 non-null   uint8  \n",
      " 8   Chinese              2833 non-null   uint8  \n",
      " 9   Cantonese            2833 non-null   uint8  \n",
      " 10  Hong Kong            2833 non-null   uint8  \n",
      " 11  Teochew              2833 non-null   uint8  \n",
      " 12  Malay                2833 non-null   uint8  \n",
      " 13  Middle Eastern       2833 non-null   uint8  \n",
      " 14  Mediterranean        2833 non-null   uint8  \n",
      " 15  Thai                 2833 non-null   uint8  \n",
      " 16  Peranakan            2833 non-null   uint8  \n",
      " 17   Nonya               2833 non-null   uint8  \n",
      " 18  Singaporean Chinese  2833 non-null   uint8  \n",
      " 19  American             2833 non-null   uint8  \n",
      " 20  Taiwanese            2833 non-null   uint8  \n",
      " 21  French               2833 non-null   uint8  \n",
      " 22  Italian              2833 non-null   uint8  \n",
      " 23  Indian               2833 non-null   uint8  \n",
      " 24  Fusion               2833 non-null   uint8  \n",
      " 25  Hainanese            2833 non-null   uint8  \n",
      " 26  Singaporean Western  2833 non-null   uint8  \n",
      " 27  Japanese             2833 non-null   uint8  \n",
      " 28  Malaysian            2833 non-null   uint8  \n",
      " 29  Fujian               2833 non-null   uint8  \n",
      " 30  Heng Hwa             2833 non-null   uint8  \n",
      " 31  European             2833 non-null   uint8  \n",
      " 32  Australian           2833 non-null   uint8  \n",
      " 33   New Zealand         2833 non-null   uint8  \n",
      " 34  English              2833 non-null   uint8  \n",
      " 35  Shanghainese         2833 non-null   uint8  \n",
      " 36  Indonesian           2833 non-null   uint8  \n",
      " 37  Spanish              2833 non-null   uint8  \n",
      " 38  Mexican              2833 non-null   uint8  \n",
      " 39  Portuguese           2833 non-null   uint8  \n",
      " 40  Sichuan              2833 non-null   uint8  \n",
      " 41  German               2833 non-null   uint8  \n",
      " 42  Latin American       2833 non-null   uint8  \n",
      " 43  South American       2833 non-null   uint8  \n",
      " 44  Swiss                2833 non-null   uint8  \n",
      " 45  Western Variety      2833 non-null   uint8  \n",
      " 46  Vietnamese           2833 non-null   uint8  \n",
      " 47  Beijing              2833 non-null   uint8  \n",
      " 48  Russian              2833 non-null   uint8  \n",
      " 49  Foochow              2833 non-null   uint8  \n",
      " 50  Hakka                2833 non-null   uint8  \n",
      " 51  Caribbean            2833 non-null   uint8  \n",
      " 52  Filipino             2833 non-null   uint8  \n",
      " 53  Irish                2833 non-null   uint8  \n",
      " 54  Dong Bei             2833 non-null   uint8  \n",
      "dtypes: float64(3), uint8(52)\n",
      "memory usage: 210.4 KB\n"
     ]
    }
   ],
   "source": [
    "df_umap = pd.DataFrame()\n",
    "df_umap = restaurant_data[['latitude', 'longitude', 'price_mid']]\\\n",
    "    .join(restaurant_data[restaurant_data.columns[11:]].astype(np.dtype('uint8')))\n",
    "df_umap.info()"
   ]
  },
  {
   "cell_type": "code",
   "execution_count": 74,
   "id": "68b99b3f",
   "metadata": {},
   "outputs": [
    {
     "name": "stderr",
     "output_type": "stream",
     "text": [
      "C:\\ProgramData\\Anaconda3\\lib\\site-packages\\pandas\\core\\indexing.py:1951: SettingWithCopyWarning: \n",
      "A value is trying to be set on a copy of a slice from a DataFrame.\n",
      "Try using .loc[row_indexer,col_indexer] = value instead\n",
      "\n",
      "See the caveats in the documentation: https://pandas.pydata.org/pandas-docs/stable/user_guide/indexing.html#returning-a-view-versus-a-copy\n",
      "  self.obj[selected_item_labels] = value\n",
      "C:\\ProgramData\\Anaconda3\\lib\\site-packages\\pandas\\core\\indexing.py:1951: SettingWithCopyWarning: \n",
      "A value is trying to be set on a copy of a slice from a DataFrame.\n",
      "Try using .loc[row_indexer,col_indexer] = value instead\n",
      "\n",
      "See the caveats in the documentation: https://pandas.pydata.org/pandas-docs/stable/user_guide/indexing.html#returning-a-view-versus-a-copy\n",
      "  self.obj[selected_item_labels] = value\n",
      "C:\\ProgramData\\Anaconda3\\lib\\site-packages\\pandas\\core\\indexing.py:1951: SettingWithCopyWarning: \n",
      "A value is trying to be set on a copy of a slice from a DataFrame.\n",
      "Try using .loc[row_indexer,col_indexer] = value instead\n",
      "\n",
      "See the caveats in the documentation: https://pandas.pydata.org/pandas-docs/stable/user_guide/indexing.html#returning-a-view-versus-a-copy\n",
      "  self.obj[selected_item_labels] = value\n",
      "C:\\ProgramData\\Anaconda3\\lib\\site-packages\\umap\\umap_.py:1802: UserWarning: gradient function is not yet implemented for hamming distance metric; inverse_transform will be unavailable\n",
      "  warn(\n"
     ]
    }
   ],
   "source": [
    "import umap\n",
    "from sklearn.preprocessing import PowerTransformer\n",
    "\n",
    "full_data = df_umap\n",
    "\n",
    "#Preprocessing numerical\n",
    "numerical = full_data.select_dtypes(exclude='uint8')\n",
    "\n",
    "for c in numerical.columns:\n",
    "    pt = PowerTransformer()\n",
    "    numerical.loc[:, c] = pt.fit_transform(np.array(numerical[c]).reshape(-1, 1))\n",
    "    \n",
    "##preprocessing categorical\n",
    "categorical = full_data.select_dtypes(include='uint8')\n",
    "categorical.columns = [\"cuisine_\" + i for i in categorical.columns]\n",
    "#categorical = pd.get_dummies(categorical)\n",
    "\n",
    "#Percentage of columns which are categorical is used as weight parameter in embeddings later\n",
    "categorical_weight = len(full_data.select_dtypes(include='object').columns) / full_data.shape[1]\n",
    "\n",
    "#Embedding numerical & categorical\n",
    "fit1 = umap.UMAP(metric='l2').fit(numerical)\n",
    "fit2 = umap.UMAP(metric='hamming').fit(categorical)\n",
    "\n",
    "#Augmenting the numerical embedding with categorical\n",
    "intersection = umap.umap_.general_simplicial_set_intersection(fit1.graph_, fit2.graph_, weight=categorical_weight)\n",
    "intersection = umap.umap_.reset_local_connectivity(intersection)\n",
    "\n",
    "embedding = umap.umap_.simplicial_set_embedding(fit1._raw_data, intersection, fit1.n_components, \n",
    "                                                fit1._initial_alpha, fit1._a, fit1._b, \n",
    "                                                fit1.repulsion_strength, fit1.negative_sample_rate, \n",
    "                                                200, 'random', np.random, fit1.metric, \n",
    "                                                fit1._metric_kwds, False, {}, False)"
   ]
  },
  {
   "cell_type": "code",
   "execution_count": 80,
   "id": "fc6d6735",
   "metadata": {},
   "outputs": [
    {
     "data": {
      "image/png": "[encoded data removed]",
      "text/plain": [
       "<Figure size 1440x720 with 1 Axes>"
      ]
     },
     "metadata": {},
     "output_type": "display_data"
    }
   ],
   "source": [
    "plt.figure(figsize=(20, 10))\n",
    "plt.scatter(embedding[0][:,0], embedding[0][:,1], s=2, cmap='Spectral', alpha=1.0)\n",
    "gcf = plt.gcf() #so our figure isn't lost\n",
    "plt.show()"
   ]
  },
  {
   "cell_type": "markdown",
   "id": "7ec9b199",
   "metadata": {},
   "source": [
    "### Dumping our data\n",
    "\n",
    "Our machine learning stuff here takes a while to run, so we're going to use Python's pickle functionality to serialise our models to files, so we can avoid rerunning them. Functionality for loading them back not implemented yet... We will also save our visualisation."
   ]
  },
  {
   "cell_type": "code",
   "execution_count": 219,
   "id": "67c4b755",
   "metadata": {},
   "outputs": [],
   "source": [
    "import pickle\n",
    "\n",
    "with open('models.pickle', 'wb') as handle:\n",
    "    pickle.dump(models, handle, protocol=pickle.HIGHEST_PROTOCOL)\n",
    "with open('df_K_clusters.pickle', 'wb') as handle:\n",
    "    pickle.dump(df_K_clusters, handle, protocol=pickle.HIGHEST_PROTOCOL)\n",
    "\n",
    "gcf.savefig('visualisation.png')"
   ]
  },
  {
   "cell_type": "code",
   "execution_count": null,
   "id": "ac8631b7",
   "metadata": {},
   "outputs": [],
   "source": []
  }
 ],
 "metadata": {
  "kernelspec": {
   "display_name": "Python 3 (ipykernel)",
   "language": "python",
   "name": "python3"
  },
  "language_info": {
   "codemirror_mode": {
    "name": "ipython",
    "version": 3
   },
   "file_extension": ".py",
   "mimetype": "text/x-python",
   "name": "python",
   "nbconvert_exporter": "python",
   "pygments_lexer": "ipython3",
   "version": "3.9.7"
  }
 },
 "nbformat": 4,
 "nbformat_minor": 5
}
