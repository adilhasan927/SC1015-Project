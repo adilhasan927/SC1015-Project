{
 "cells": [
  {
   "cell_type": "markdown",
   "id": "0c7f4c4c",
   "metadata": {},
   "source": [
    "### Import our data\n"
   ]
  },
  {
   "cell_type": "code",
   "execution_count": 5,
   "id": "6e23585f",
   "metadata": {},
   "outputs": [
    {
     "name": "stdout",
     "output_type": "stream",
     "text": [
      "<class 'pandas.core.frame.DataFrame'>\n",
      "RangeIndex: 3998 entries, 0 to 3997\n",
      "Data columns (total 7 columns):\n",
      " #   Column          Non-Null Count  Dtype  \n",
      "---  ------          --------------  -----  \n",
      " 0   name            3998 non-null   object \n",
      " 1   street_address  3998 non-null   object \n",
      " 2   price           3992 non-null   object \n",
      " 3   cuisine         2874 non-null   object \n",
      " 4   rating          2287 non-null   float64\n",
      " 5   latitude        3965 non-null   float64\n",
      " 6   longitude       3965 non-null   float64\n",
      "dtypes: float64(3), object(4)\n",
      "memory usage: 218.8+ KB\n"
     ]
    }
   ],
   "source": [
    "import pandas\n",
    "import matplotlib.pyplot as plt\n",
    "data = pandas.read_csv(\"features.csv\")\n",
    "data.info()"
   ]
  },
  {
   "cell_type": "markdown",
   "id": "fa704c23",
   "metadata": {},
   "source": [
    "### Spacial Plot\n",
    "Here we plot our restaurants in a 2d plane using our GPS coordinates."
   ]
  },
  {
   "cell_type": "code",
   "execution_count": 64,
   "id": "e7c6b0f7",
   "metadata": {},
   "outputs": [],
   "source": [
    "# Normalise our coordinates\n",
    "normed = data.assign(\n",
    "    latitude=data['latitude'] - data['latitude'].min(),\n",
    "    longitude=data['longitude'] - data['longitude'].min()\n",
    ")\n",
    "normed = normed.assign(\n",
    "    latitude=data['latitude'] / data['latitude'].max(),\n",
    "    longitude=data['longitude'] / data['longitude'].max()\n",
    ")\n"
   ]
  },
  {
   "cell_type": "code",
   "execution_count": 65,
   "id": "be90f2cc",
   "metadata": {},
   "outputs": [
    {
     "name": "stdout",
     "output_type": "stream",
     "text": [
      "Prices: 9 Cuisines: 52\n"
     ]
    }
   ],
   "source": [
    "# What price and cuisine categories do we have?\n",
    "prices = []\n",
    "cuisines = []\n",
    "for idx, row in normed.iterrows():\n",
    "    if row['price'] not in prices:\n",
    "        prices.append(row['price'])\n",
    "    vals = row['cuisine']\n",
    "    if vals == vals: #test for NaNs\n",
    "        vals = vals.replace('/', ', ')\n",
    "        vals = vals.split(', ')\n",
    "        \n",
    "        for val in vals:\n",
    "            if val not in cuisines:\n",
    "                cuisines.append(val)\n",
    "                \n",
    "print(\"Prices: {} Cuisines: {}\".format(len(prices), len(cuisines)))"
   ]
  },
  {
   "cell_type": "code",
   "execution_count": 66,
   "id": "7a43d123",
   "metadata": {},
   "outputs": [
    {
     "data": {
      "text/html": [
       "<div>\n",
       "<style scoped>\n",
       "    .dataframe tbody tr th:only-of-type {\n",
       "        vertical-align: middle;\n",
       "    }\n",
       "\n",
       "    .dataframe tbody tr th {\n",
       "        vertical-align: top;\n",
       "    }\n",
       "\n",
       "    .dataframe thead th {\n",
       "        text-align: right;\n",
       "    }\n",
       "</style>\n",
       "<table border=\"1\" class=\"dataframe\">\n",
       "  <thead>\n",
       "    <tr style=\"text-align: right;\">\n",
       "      <th></th>\n",
       "      <th>name</th>\n",
       "      <th>street_address</th>\n",
       "      <th>price</th>\n",
       "      <th>cuisine</th>\n",
       "      <th>rating</th>\n",
       "      <th>latitude</th>\n",
       "      <th>longitude</th>\n",
       "    </tr>\n",
       "  </thead>\n",
       "  <tbody>\n",
       "    <tr>\n",
       "      <th>0</th>\n",
       "      <td>1-V:U</td>\n",
       "      <td>The Outpost Hotel Sentosa, 10 Artillery Avenue...</td>\n",
       "      <td>0</td>\n",
       "      <td>[0]</td>\n",
       "      <td>NaN</td>\n",
       "      <td>0.853681</td>\n",
       "      <td>0.998361</td>\n",
       "    </tr>\n",
       "    <tr>\n",
       "      <th>1</th>\n",
       "      <td>10 At Claymore</td>\n",
       "      <td>Pan Pacific Orchard, 10 Claymore Road Level 2</td>\n",
       "      <td>1</td>\n",
       "      <td>[1]</td>\n",
       "      <td>4.0</td>\n",
       "      <td>0.891244</td>\n",
       "      <td>0.998454</td>\n",
       "    </tr>\n",
       "    <tr>\n",
       "      <th>2</th>\n",
       "      <td>10 SCOTTS</td>\n",
       "      <td>Grand Hyatt Singapore, 10 Scotts Road Lobby Level</td>\n",
       "      <td>0</td>\n",
       "      <td>[]</td>\n",
       "      <td>3.5</td>\n",
       "      <td>0.890524</td>\n",
       "      <td>0.998487</td>\n",
       "    </tr>\n",
       "    <tr>\n",
       "      <th>3</th>\n",
       "      <td>100g Korean BBQ</td>\n",
       "      <td>93 Amoy Street</td>\n",
       "      <td>2</td>\n",
       "      <td>[2]</td>\n",
       "      <td>3.5</td>\n",
       "      <td>0.87345</td>\n",
       "      <td>0.99862</td>\n",
       "    </tr>\n",
       "    <tr>\n",
       "      <th>4</th>\n",
       "      <td>10th Chocolate Street</td>\n",
       "      <td>GSM Buidling, 141 Middle Road</td>\n",
       "      <td>3</td>\n",
       "      <td>[3]</td>\n",
       "      <td>NaN</td>\n",
       "      <td>0.885815</td>\n",
       "      <td>0.998671</td>\n",
       "    </tr>\n",
       "  </tbody>\n",
       "</table>\n",
       "</div>"
      ],
      "text/plain": [
       "                    name                                     street_address  \\\n",
       "0                  1-V:U  The Outpost Hotel Sentosa, 10 Artillery Avenue...   \n",
       "1         10 At Claymore      Pan Pacific Orchard, 10 Claymore Road Level 2   \n",
       "2              10 SCOTTS  Grand Hyatt Singapore, 10 Scotts Road Lobby Level   \n",
       "3        100g Korean BBQ                                     93 Amoy Street   \n",
       "4  10th Chocolate Street                      GSM Buidling, 141 Middle Road   \n",
       "\n",
       "  price cuisine rating  latitude longitude  \n",
       "0     0     [0]    NaN  0.853681  0.998361  \n",
       "1     1     [1]    4.0  0.891244  0.998454  \n",
       "2     0      []    3.5  0.890524  0.998487  \n",
       "3     2     [2]    3.5   0.87345   0.99862  \n",
       "4     3     [3]    NaN  0.885815  0.998671  "
      ]
     },
     "execution_count": 66,
     "metadata": {},
     "output_type": "execute_result"
    }
   ],
   "source": [
    "normed = normed.apply(lambda x: [*x[:2], prices.index(x[2]),\n",
    "                                 [] if x[3] != x[3] else\n",
    "                                 [cuisines.index(i) for i in x[3].replace(', ', '/').split('/')],\n",
    "                                 *x[4:]],\n",
    "                      axis=1, result_type='broadcast')\n",
    "normed.head()"
   ]
  },
  {
   "cell_type": "code",
   "execution_count": null,
   "id": "771f011c",
   "metadata": {},
   "outputs": [],
   "source": []
  }
 ],
 "metadata": {
  "kernelspec": {
   "display_name": "Python 3 (ipykernel)",
   "language": "python",
   "name": "python3"
  },
  "language_info": {
   "codemirror_mode": {
    "name": "ipython",
    "version": 3
   },
   "file_extension": ".py",
   "mimetype": "text/x-python",
   "name": "python",
   "nbconvert_exporter": "python",
   "pygments_lexer": "ipython3",
   "version": "3.9.7"
  }
 },
 "nbformat": 4,
 "nbformat_minor": 5
}
