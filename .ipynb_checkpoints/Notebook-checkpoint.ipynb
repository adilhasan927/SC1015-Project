{
 "cells": [
  {
   "cell_type": "markdown",
   "id": "0c7f4c4c",
   "metadata": {},
   "source": [
    "### Import our data\n"
   ]
  },
  {
   "cell_type": "code",
   "execution_count": 26,
   "id": "6e23585f",
   "metadata": {},
   "outputs": [
    {
     "name": "stdout",
     "output_type": "stream",
     "text": [
      "<class 'pandas.core.frame.DataFrame'>\n",
      "RangeIndex: 3998 entries, 0 to 3997\n",
      "Data columns (total 7 columns):\n",
      " #   Column          Non-Null Count  Dtype  \n",
      "---  ------          --------------  -----  \n",
      " 0   name            3998 non-null   object \n",
      " 1   street_address  3998 non-null   object \n",
      " 2   price           3992 non-null   object \n",
      " 3   cuisine         2874 non-null   object \n",
      " 4   rating          2287 non-null   float64\n",
      " 5   latitude        3965 non-null   float64\n",
      " 6   longitude       3965 non-null   float64\n",
      "dtypes: float64(3), object(4)\n",
      "memory usage: 218.8+ KB\n"
     ]
    }
   ],
   "source": [
    "import pandas\n",
    "data = pandas.read_csv(\"features.csv\")\n",
    "data.info()"
   ]
  },
  {
   "cell_type": "markdown",
   "id": "fa704c23",
   "metadata": {},
   "source": [
    "### Spacial Plot\n",
    "Here we plot our restaurants in a 2d plane using our GPS coordinates."
   ]
  },
  {
   "cell_type": "code",
   "execution_count": 24,
   "id": "e7c6b0f7",
   "metadata": {},
   "outputs": [
    {
     "data": {
      "text/html": [
       "<div>\n",
       "<style scoped>\n",
       "    .dataframe tbody tr th:only-of-type {\n",
       "        vertical-align: middle;\n",
       "    }\n",
       "\n",
       "    .dataframe tbody tr th {\n",
       "        vertical-align: top;\n",
       "    }\n",
       "\n",
       "    .dataframe thead th {\n",
       "        text-align: right;\n",
       "    }\n",
       "</style>\n",
       "<table border=\"1\" class=\"dataframe\">\n",
       "  <thead>\n",
       "    <tr style=\"text-align: right;\">\n",
       "      <th></th>\n",
       "      <th>name</th>\n",
       "      <th>street_address</th>\n",
       "      <th>price</th>\n",
       "      <th>cuisine</th>\n",
       "      <th>rating</th>\n",
       "      <th>latitude</th>\n",
       "      <th>longitude</th>\n",
       "    </tr>\n",
       "  </thead>\n",
       "  <tbody>\n",
       "    <tr>\n",
       "      <th>0</th>\n",
       "      <td>1-V:U</td>\n",
       "      <td>The Outpost Hotel Sentosa, 10 Artillery Avenue...</td>\n",
       "      <td>$31 - $50</td>\n",
       "      <td>Asian Variety</td>\n",
       "      <td>NaN</td>\n",
       "      <td>0.009037</td>\n",
       "      <td>0.185121</td>\n",
       "    </tr>\n",
       "    <tr>\n",
       "      <th>1</th>\n",
       "      <td>10 At Claymore</td>\n",
       "      <td>Pan Pacific Orchard, 10 Claymore Road Level 2</td>\n",
       "      <td>$51 - $80</td>\n",
       "      <td>Multi-Cuisine</td>\n",
       "      <td>4.0</td>\n",
       "      <td>0.064139</td>\n",
       "      <td>0.194814</td>\n",
       "    </tr>\n",
       "    <tr>\n",
       "      <th>2</th>\n",
       "      <td>10 SCOTTS</td>\n",
       "      <td>Grand Hyatt Singapore, 10 Scotts Road Lobby Level</td>\n",
       "      <td>$31 - $50</td>\n",
       "      <td>NaN</td>\n",
       "      <td>3.5</td>\n",
       "      <td>0.063083</td>\n",
       "      <td>0.198193</td>\n",
       "    </tr>\n",
       "    <tr>\n",
       "      <th>3</th>\n",
       "      <td>100g Korean BBQ</td>\n",
       "      <td>93 Amoy Street</td>\n",
       "      <td>$21 - $30</td>\n",
       "      <td>Korean</td>\n",
       "      <td>3.5</td>\n",
       "      <td>0.038037</td>\n",
       "      <td>0.212002</td>\n",
       "    </tr>\n",
       "    <tr>\n",
       "      <th>4</th>\n",
       "      <td>10th Chocolate Street</td>\n",
       "      <td>GSM Buidling, 141 Middle Road</td>\n",
       "      <td>$11 - $20</td>\n",
       "      <td>Belgian</td>\n",
       "      <td>NaN</td>\n",
       "      <td>0.056176</td>\n",
       "      <td>0.217313</td>\n",
       "    </tr>\n",
       "  </tbody>\n",
       "</table>\n",
       "</div>"
      ],
      "text/plain": [
       "                    name                                     street_address  \\\n",
       "0                  1-V:U  The Outpost Hotel Sentosa, 10 Artillery Avenue...   \n",
       "1         10 At Claymore      Pan Pacific Orchard, 10 Claymore Road Level 2   \n",
       "2              10 SCOTTS  Grand Hyatt Singapore, 10 Scotts Road Lobby Level   \n",
       "3        100g Korean BBQ                                     93 Amoy Street   \n",
       "4  10th Chocolate Street                      GSM Buidling, 141 Middle Road   \n",
       "\n",
       "       price        cuisine  rating  latitude  longitude  \n",
       "0  $31 - $50  Asian Variety     NaN  0.009037   0.185121  \n",
       "1  $51 - $80  Multi-Cuisine     4.0  0.064139   0.194814  \n",
       "2  $31 - $50            NaN     3.5  0.063083   0.198193  \n",
       "3  $21 - $30         Korean     3.5  0.038037   0.212002  \n",
       "4  $11 - $20        Belgian     NaN  0.056176   0.217313  "
      ]
     },
     "execution_count": 24,
     "metadata": {},
     "output_type": "execute_result"
    }
   ],
   "source": [
    "# Normalise our coordinates\n",
    "lat_min = data['latitude'].min()\n",
    "long_min = data['longitude'].min()\n",
    "normed = data.assign(latitude=data['latitude'] - lat_min,\n",
    "                     longitude=data['longitude'] - long_min)\n",
    "normed.head()"
   ]
  },
  {
   "cell_type": "code",
   "execution_count": null,
   "id": "be90f2cc",
   "metadata": {},
   "outputs": [],
   "source": []
  }
 ],
 "metadata": {
  "kernelspec": {
   "display_name": "Python 3 (ipykernel)",
   "language": "python",
   "name": "python3"
  },
  "language_info": {
   "codemirror_mode": {
    "name": "ipython",
    "version": 3
   },
   "file_extension": ".py",
   "mimetype": "text/x-python",
   "name": "python",
   "nbconvert_exporter": "python",
   "pygments_lexer": "ipython3",
   "version": "3.9.7"
  }
 },
 "nbformat": 4,
 "nbformat_minor": 5
}
