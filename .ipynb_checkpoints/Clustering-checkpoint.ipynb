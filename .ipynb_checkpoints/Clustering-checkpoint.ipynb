{
 "cells": [
  {
   "cell_type": "markdown",
   "id": "7c3edf7d",
   "metadata": {},
   "source": [
    "# Initialize Libraries\n",
    "\n",
    "For the purposes of our Project, our group decided to apply a clustering model to our dataset. As the dataset comprises of both numerical and categorical data, we needed to use a model that could handle both types of data such as K-Prototypes"
   ]
  },
  {
   "cell_type": "markdown",
   "id": "39d02c9e",
   "metadata": {},
   "source": [
    "Note: You may need to install kmodes if it is not already installed"
   ]
  },
  {
   "cell_type": "code",
   "execution_count": 256,
   "id": "a94dbf04",
   "metadata": {},
   "outputs": [
    {
     "name": "stdout",
     "output_type": "stream",
     "text": [
      "Requirement already satisfied: kmodes in c:\\programdata\\anaconda3\\lib\\site-packages (0.12.0)\n",
      "Requirement already satisfied: numpy>=1.10.4 in c:\\programdata\\anaconda3\\lib\\site-packages (from kmodes) (1.20.3)\n",
      "Requirement already satisfied: scipy>=0.13.3 in c:\\programdata\\anaconda3\\lib\\site-packages (from kmodes) (1.7.1)\n",
      "Requirement already satisfied: scikit-learn>=0.22.0 in c:\\programdata\\anaconda3\\lib\\site-packages (from kmodes) (0.24.2)\n",
      "Requirement already satisfied: joblib>=0.11 in c:\\programdata\\anaconda3\\lib\\site-packages (from kmodes) (1.1.0)\n",
      "Requirement already satisfied: threadpoolctl>=2.0.0 in c:\\programdata\\anaconda3\\lib\\site-packages (from scikit-learn>=0.22.0->kmodes) (2.2.0)\n",
      "Note: you may need to restart the kernel to use updated packages.\n"
     ]
    }
   ],
   "source": [
    "pip install kmodes"
   ]
  },
  {
   "cell_type": "code",
   "execution_count": 257,
   "id": "15c69315",
   "metadata": {},
   "outputs": [
    {
     "name": "stdout",
     "output_type": "stream",
     "text": [
      "Collecting umap-learn\n",
      "  Downloading umap-learn-0.5.2.tar.gz (86 kB)\n",
      "Requirement already satisfied: numpy>=1.17 in c:\\programdata\\anaconda3\\lib\\site-packages (from umap-learn) (1.20.3)\n",
      "Requirement already satisfied: scikit-learn>=0.22 in c:\\programdata\\anaconda3\\lib\\site-packages (from umap-learn) (0.24.2)\n",
      "Requirement already satisfied: scipy>=1.0 in c:\\programdata\\anaconda3\\lib\\site-packages (from umap-learn) (1.7.1)\n",
      "Requirement already satisfied: numba>=0.49 in c:\\programdata\\anaconda3\\lib\\site-packages (from umap-learn) (0.54.1)\n",
      "Collecting pynndescent>=0.5\n",
      "  Downloading pynndescent-0.5.6.tar.gz (1.1 MB)\n",
      "Requirement already satisfied: tqdm in c:\\programdata\\anaconda3\\lib\\site-packages (from umap-learn) (4.62.3)\n",
      "Requirement already satisfied: llvmlite<0.38,>=0.37.0rc1 in c:\\programdata\\anaconda3\\lib\\site-packages (from numba>=0.49->umap-learn) (0.37.0)\n",
      "Requirement already satisfied: setuptools in c:\\programdata\\anaconda3\\lib\\site-packages (from numba>=0.49->umap-learn) (58.0.4)\n",
      "Requirement already satisfied: joblib>=0.11 in c:\\programdata\\anaconda3\\lib\\site-packages (from pynndescent>=0.5->umap-learn) (1.1.0)\n",
      "Requirement already satisfied: threadpoolctl>=2.0.0 in c:\\programdata\\anaconda3\\lib\\site-packages (from scikit-learn>=0.22->umap-learn) (2.2.0)\n",
      "Requirement already satisfied: colorama in c:\\programdata\\anaconda3\\lib\\site-packages (from tqdm->umap-learn) (0.4.4)\n",
      "Building wheels for collected packages: umap-learn, pynndescent\n",
      "  Building wheel for umap-learn (setup.py): started\n",
      "  Building wheel for umap-learn (setup.py): finished with status 'done'\n",
      "  Created wheel for umap-learn: filename=umap_learn-0.5.2-py3-none-any.whl size=82709 sha256=64e7b84637d9839ec823bef14c2850cb7b76ef1dd45329fd07ff8a715810558f\n",
      "  Stored in directory: c:\\users\\adil hasan\\appdata\\local\\pip\\cache\\wheels\\4a\\66\\81\\205d77bd58539a1d07fb8b795fcea0b17f4d59912c0f4202b7\n",
      "  Building wheel for pynndescent (setup.py): started\n",
      "  Building wheel for pynndescent (setup.py): finished with status 'done'\n",
      "  Created wheel for pynndescent: filename=pynndescent-0.5.6-py3-none-any.whl size=53945 sha256=6257dd72dbbb6096e337c7b9e05c8859a71f43eaf20eeb3c4262a78666399396\n",
      "  Stored in directory: c:\\users\\adil hasan\\appdata\\local\\pip\\cache\\wheels\\c0\\f0\\1d\\20aa0dcee54ef40c179a4a4f57fad413437864a67757013a99\n",
      "Successfully built umap-learn pynndescent\n",
      "Installing collected packages: pynndescent, umap-learn\n",
      "Successfully installed pynndescent-0.5.6 umap-learn-0.5.2\n",
      "Note: you may need to restart the kernel to use updated packages.\n"
     ]
    }
   ],
   "source": [
    "pip install umap-learn"
   ]
  },
  {
   "cell_type": "code",
   "execution_count": 264,
   "id": "2cfa5907",
   "metadata": {},
   "outputs": [],
   "source": [
    "import warnings\n",
    "warnings.simplefilter(action='ignore', category=FutureWarning)\n",
    "\n",
    "import numpy as np\n",
    "import pandas as pd\n",
    "\n",
    "import matplotlib.pyplot as plt\n",
    "import seaborn as sns\n",
    "%matplotlib inline"
   ]
  },
  {
   "cell_type": "code",
   "execution_count": 12,
   "id": "9950967e",
   "metadata": {},
   "outputs": [],
   "source": [
    "from kmodes.kprototypes import KPrototypes"
   ]
  },
  {
   "cell_type": "markdown",
   "id": "aff78719",
   "metadata": {},
   "source": [
    "## Loading in dataset\n",
    "\n",
    "We will be using the dataset duped_data.csv that was generated after the data cleaning process."
   ]
  },
  {
   "cell_type": "code",
   "execution_count": 15,
   "id": "abbc04db",
   "metadata": {},
   "outputs": [
    {
     "data": {
      "text/html": [
       "<div>\n",
       "<style scoped>\n",
       "    .dataframe tbody tr th:only-of-type {\n",
       "        vertical-align: middle;\n",
       "    }\n",
       "\n",
       "    .dataframe tbody tr th {\n",
       "        vertical-align: top;\n",
       "    }\n",
       "\n",
       "    .dataframe thead th {\n",
       "        text-align: right;\n",
       "    }\n",
       "</style>\n",
       "<table border=\"1\" class=\"dataframe\">\n",
       "  <thead>\n",
       "    <tr style=\"text-align: right;\">\n",
       "      <th></th>\n",
       "      <th>Unnamed: 0</th>\n",
       "      <th>id</th>\n",
       "      <th>name</th>\n",
       "      <th>street_address</th>\n",
       "      <th>price</th>\n",
       "      <th>cuisine</th>\n",
       "      <th>rating</th>\n",
       "      <th>latitude</th>\n",
       "      <th>longitude</th>\n",
       "      <th>price_mid</th>\n",
       "      <th>cuisine_cat</th>\n",
       "      <th>duplicate</th>\n",
       "    </tr>\n",
       "  </thead>\n",
       "  <tbody>\n",
       "    <tr>\n",
       "      <th>0</th>\n",
       "      <td>0</td>\n",
       "      <td>0</td>\n",
       "      <td>1-V:U</td>\n",
       "      <td>The Outpost Hotel Sentosa, 10 Artillery Avenue...</td>\n",
       "      <td>$31 - $50</td>\n",
       "      <td>Asian Variety</td>\n",
       "      <td>3.5</td>\n",
       "      <td>1.252299</td>\n",
       "      <td>103.820211</td>\n",
       "      <td>40.5</td>\n",
       "      <td>0</td>\n",
       "      <td>0</td>\n",
       "    </tr>\n",
       "    <tr>\n",
       "      <th>1</th>\n",
       "      <td>1</td>\n",
       "      <td>1</td>\n",
       "      <td>10 At Claymore</td>\n",
       "      <td>Pan Pacific Orchard, 10 Claymore Road Level 2</td>\n",
       "      <td>$51 - $80</td>\n",
       "      <td>Multi-Cuisine</td>\n",
       "      <td>4.0</td>\n",
       "      <td>1.307401</td>\n",
       "      <td>103.829904</td>\n",
       "      <td>65.5</td>\n",
       "      <td>1</td>\n",
       "      <td>0</td>\n",
       "    </tr>\n",
       "  </tbody>\n",
       "</table>\n",
       "</div>"
      ],
      "text/plain": [
       "   Unnamed: 0  id            name  \\\n",
       "0           0   0           1-V:U   \n",
       "1           1   1  10 At Claymore   \n",
       "\n",
       "                                      street_address      price  \\\n",
       "0  The Outpost Hotel Sentosa, 10 Artillery Avenue...  $31 - $50   \n",
       "1      Pan Pacific Orchard, 10 Claymore Road Level 2  $51 - $80   \n",
       "\n",
       "         cuisine  rating  latitude   longitude  price_mid  cuisine_cat  \\\n",
       "0  Asian Variety     3.5  1.252299  103.820211       40.5            0   \n",
       "1  Multi-Cuisine     4.0  1.307401  103.829904       65.5            1   \n",
       "\n",
       "   duplicate  \n",
       "0          0  \n",
       "1          0  "
      ]
     },
     "execution_count": 15,
     "metadata": {},
     "output_type": "execute_result"
    }
   ],
   "source": [
    "#Initialise dataset\n",
    "restaurant_data = pd.read_csv('duped_data.csv')\n",
    "restaurant_data.head(2)"
   ]
  },
  {
   "cell_type": "markdown",
   "id": "7a39653f",
   "metadata": {},
   "source": [
    "### Creating a new Dataframe\n",
    "\n",
    "Creation of a new dataframe containing all values relevant to the clustering algorithm.\n",
    "\n",
    "We will also do min-max scaling to normalise our numerical variables."
   ]
  },
  {
   "cell_type": "code",
   "execution_count": 195,
   "id": "941654d3",
   "metadata": {},
   "outputs": [
    {
     "data": {
      "text/html": [
       "<div>\n",
       "<style scoped>\n",
       "    .dataframe tbody tr th:only-of-type {\n",
       "        vertical-align: middle;\n",
       "    }\n",
       "\n",
       "    .dataframe tbody tr th {\n",
       "        vertical-align: top;\n",
       "    }\n",
       "\n",
       "    .dataframe thead th {\n",
       "        text-align: right;\n",
       "    }\n",
       "</style>\n",
       "<table border=\"1\" class=\"dataframe\">\n",
       "  <thead>\n",
       "    <tr style=\"text-align: right;\">\n",
       "      <th></th>\n",
       "      <th>cuisine_cat</th>\n",
       "      <th>latitude</th>\n",
       "      <th>longitude</th>\n",
       "      <th>price_mid</th>\n",
       "    </tr>\n",
       "  </thead>\n",
       "  <tbody>\n",
       "    <tr>\n",
       "      <th>0</th>\n",
       "      <td>0</td>\n",
       "      <td>0.040402</td>\n",
       "      <td>0.452707</td>\n",
       "      <td>0.090909</td>\n",
       "    </tr>\n",
       "    <tr>\n",
       "      <th>1</th>\n",
       "      <td>1</td>\n",
       "      <td>0.286747</td>\n",
       "      <td>0.483832</td>\n",
       "      <td>0.154040</td>\n",
       "    </tr>\n",
       "    <tr>\n",
       "      <th>2</th>\n",
       "      <td>2</td>\n",
       "      <td>0.170052</td>\n",
       "      <td>0.539025</td>\n",
       "      <td>0.053030</td>\n",
       "    </tr>\n",
       "    <tr>\n",
       "      <th>3</th>\n",
       "      <td>3</td>\n",
       "      <td>0.251147</td>\n",
       "      <td>0.556079</td>\n",
       "      <td>0.027778</td>\n",
       "    </tr>\n",
       "    <tr>\n",
       "      <th>4</th>\n",
       "      <td>4</td>\n",
       "      <td>0.174796</td>\n",
       "      <td>0.527638</td>\n",
       "      <td>0.000000</td>\n",
       "    </tr>\n",
       "  </tbody>\n",
       "</table>\n",
       "</div>"
      ],
      "text/plain": [
       "   cuisine_cat  latitude  longitude  price_mid\n",
       "0            0  0.040402   0.452707   0.090909\n",
       "1            1  0.286747   0.483832   0.154040\n",
       "2            2  0.170052   0.539025   0.053030\n",
       "3            3  0.251147   0.556079   0.027778\n",
       "4            4  0.174796   0.527638   0.000000"
      ]
     },
     "execution_count": 195,
     "metadata": {},
     "output_type": "execute_result"
    }
   ],
   "source": [
    "#Group relevant columns for K-Prototype\n",
    "df_K = restaurant_data[['cuisine_cat']]\n",
    "\n",
    "from sklearn.preprocessing import MinMaxScaler\n",
    "scaler = MinMaxScaler()\n",
    "\n",
    "# For Jupyter convenience\n",
    "todrop=[i for i in ['latitude', 'longitude', 'price_mid'] if i in df_K.columns]\n",
    "df_K = df_K.drop(todrop,axis=1)\n",
    "\n",
    "df_K[['latitude', 'longitude', 'price_mid']] = scaler.fit_transform(\n",
    "    restaurant_data[['latitude', 'longitude', 'price_mid']]\n",
    ")\n",
    "#df_K[['latitude', 'longitude', 'price_mid']] = restaurant_data[['latitude', 'longitude', 'price_mid']]\n",
    "\n",
    "df_K.head()"
   ]
  },
  {
   "cell_type": "markdown",
   "id": "9cba0858",
   "metadata": {},
   "source": [
    "Converting the dataframe to a Numpy array to be fed into the K Prototypes model"
   ]
  },
  {
   "cell_type": "code",
   "execution_count": 196,
   "id": "789fe982",
   "metadata": {},
   "outputs": [
    {
     "data": {
      "text/plain": [
       "array([[0.00000000e+00, 4.04018276e-02, 4.52706652e-01, 9.09090909e-02],\n",
       "       [1.00000000e+00, 2.86747020e-01, 4.83832020e-01, 1.54040404e-01],\n",
       "       [2.00000000e+00, 1.70052486e-01, 5.39024719e-01, 5.30303030e-02],\n",
       "       ...,\n",
       "       [5.00000000e+00, 3.73402838e-01, 5.32156137e-01, 5.30303030e-02],\n",
       "       [1.60000000e+01, 2.62734824e-01, 5.05468534e-01, 2.77777778e-02],\n",
       "       [4.20000000e+01, 2.62734824e-01, 5.05468534e-01, 2.77777778e-02]])"
      ]
     },
     "execution_count": 196,
     "metadata": {},
     "output_type": "execute_result"
    }
   ],
   "source": [
    "#Convert to array\n",
    "array_K = df_K.to_numpy(dtype=float)\n",
    "categorical_index = [0]\n",
    "array_K"
   ]
  },
  {
   "cell_type": "markdown",
   "id": "6addf606",
   "metadata": {},
   "source": [
    "### Plotting the Elbow Curve\n",
    "\n",
    "Below, we will plot the elbow curve graph to find the optimal number of clusters to be applied to the K.Prototypes model"
   ]
  },
  {
   "cell_type": "code",
   "execution_count": 203,
   "id": "aa8872a8",
   "metadata": {},
   "outputs": [
    {
     "data": {
      "image/png": "[encoded data removed]",
      "text/plain": [
       "<Figure size 1080x504 with 1 Axes>"
      ]
     },
     "metadata": {},
     "output_type": "display_data"
    }
   ],
   "source": [
    "\n",
    "# Function for plotting elbow curve\n",
    "models = []\n",
    "def plot_elbow_curve(start, end, data):\n",
    "    no_of_clusters = list(range(start, end+1))\n",
    "    \n",
    "    for k in no_of_clusters:\n",
    "        test_model = KPrototypes(n_clusters=k, init='Huang', random_state=42, n_jobs=-1)\n",
    "        test_model.fit_predict(data, categorical=categorical_index)\n",
    "        models.append(test_model)\n",
    "        \n",
    "    cost_values = [i.cost_ for i in models]\n",
    "        \n",
    "    sns.set_theme(style=\"whitegrid\", palette=\"bright\", font_scale=1.2)\n",
    "    \n",
    "    plt.figure(figsize=(15, 7))\n",
    "    ax = sns.lineplot(x=no_of_clusters, y=cost_values, marker=\"o\", dashes=False)\n",
    "    ax.set_title('Elbow curve', fontsize=18)\n",
    "    ax.set_xlabel('No of clusters', fontsize=14)\n",
    "    ax.set_ylabel('Cost', fontsize=14)\n",
    "    ax.set(xlim=(start-0.1, end+0.1))\n",
    "    plt.plot();\n",
    "    \n",
    "# Plotting elbow curve for k=2 to k=10\n",
    "plot_elbow_curve(2,20,df_K[['cuisine_cat', 'latitude', 'longitude', 'price_mid']])"
   ]
  },
  {
   "cell_type": "markdown",
   "id": "6b7cee26",
   "metadata": {},
   "source": [
    "### Cluster Analysis\n",
    "\n",
    "We begin by coverting the dataframe to a matrix to facilitate the K-Prototypes modelling "
   ]
  },
  {
   "cell_type": "code",
   "execution_count": 224,
   "id": "dbf2356d",
   "metadata": {},
   "outputs": [],
   "source": [
    "# Get already trained model\n",
    "kprototype = models[5]"
   ]
  },
  {
   "cell_type": "code",
   "execution_count": 225,
   "id": "972c7b5a",
   "metadata": {},
   "outputs": [
    {
     "data": {
      "text/plain": [
       "array([[2.62972846e-01, 5.28902143e-01, 1.14115988e-01, 6.00000000e+00],\n",
       "       [3.10032652e-01, 4.33917987e-01, 3.78406229e-02, 7.00000000e+00],\n",
       "       [2.05420144e-01, 5.13828508e-01, 3.40600380e-02, 1.60000000e+01],\n",
       "       [3.75640413e-01, 6.08192199e-01, 1.56906140e-02, 4.00000000e+00],\n",
       "       [2.68369099e-01, 5.28155968e-01, 4.88850142e-02, 2.40000000e+01],\n",
       "       [4.81665132e-01, 7.72188736e-01, 1.92113883e-02, 5.00000000e+00],\n",
       "       [5.81046970e-01, 2.54131913e-01, 1.42881255e-02, 4.00000000e+00]])"
      ]
     },
     "metadata": {},
     "output_type": "display_data"
    },
    {
     "data": {
      "text/plain": [
       "24"
      ]
     },
     "metadata": {},
     "output_type": "display_data"
    },
    {
     "data": {
      "text/plain": [
       "381.87620433988934"
      ]
     },
     "metadata": {},
     "output_type": "display_data"
    }
   ],
   "source": [
    "# Cluster centorid\n",
    "display(kprototype.cluster_centroids_)\n",
    "# Check the iteration of the clusters created\n",
    "display(kprototype.n_iter_)\n",
    "# Check the cost of the clusters created\n",
    "display(kprototype.cost_)"
   ]
  },
  {
   "cell_type": "markdown",
   "id": "98ce4728",
   "metadata": {},
   "source": [
    "### Cluster Interpretation\n",
    "\n",
    "Assign the cluster labels to be printed for interpretation.  \n",
    "Finding the mean for numerical values and mode for categorical values in each cluster"
   ]
  },
  {
   "cell_type": "code",
   "execution_count": 226,
   "id": "9c010808",
   "metadata": {},
   "outputs": [
    {
     "data": {
      "text/plain": [
       "array([2, 0, 2, ..., 5, 2, 4], dtype=uint16)"
      ]
     },
     "execution_count": 226,
     "metadata": {},
     "output_type": "execute_result"
    }
   ],
   "source": [
    "kprototype.labels_"
   ]
  },
  {
   "cell_type": "code",
   "execution_count": 227,
   "id": "265434be",
   "metadata": {},
   "outputs": [],
   "source": [
    "def inttoord(n):\n",
    "    return \"%d%s\" % (n+1,\"tsnrhtdd\"[(n//10%10!=1)*(n%10<4)*n%10::4])\n",
    "\n",
    "# For Jupyter convenience\n",
    "todrop=[i for i in ['Labels', 'Segment', 'Total'] if i in df_K.columns]\n",
    "df_K = df_K.drop(todrop,axis=1)\n",
    "# Add the cluster to the dataframe\n",
    "df_K['Labels'] = kprototype.labels_\n",
    "df_K['Segment'] = df_K['Labels'].map(inttoord)\n",
    "# Order the cluster\n",
    "df_K = df_K.sort_values(by=['Labels'])"
   ]
  },
  {
   "cell_type": "code",
   "execution_count": 228,
   "id": "212861ed",
   "metadata": {},
   "outputs": [
    {
     "data": {
      "text/html": [
       "<div>\n",
       "<style scoped>\n",
       "    .dataframe tbody tr th:only-of-type {\n",
       "        vertical-align: middle;\n",
       "    }\n",
       "\n",
       "    .dataframe tbody tr th {\n",
       "        vertical-align: top;\n",
       "    }\n",
       "\n",
       "    .dataframe thead th {\n",
       "        text-align: right;\n",
       "    }\n",
       "</style>\n",
       "<table border=\"1\" class=\"dataframe\">\n",
       "  <thead>\n",
       "    <tr style=\"text-align: right;\">\n",
       "      <th></th>\n",
       "      <th>Segment</th>\n",
       "      <th>Total</th>\n",
       "      <th>cuisine_cat</th>\n",
       "      <th>latitude</th>\n",
       "      <th>longitude</th>\n",
       "      <th>price_mid</th>\n",
       "    </tr>\n",
       "  </thead>\n",
       "  <tbody>\n",
       "    <tr>\n",
       "      <th>0</th>\n",
       "      <td>1th</td>\n",
       "      <td>437</td>\n",
       "      <td>16</td>\n",
       "      <td>0.350752</td>\n",
       "      <td>0.511031</td>\n",
       "      <td>0.040340</td>\n",
       "    </tr>\n",
       "    <tr>\n",
       "      <th>1</th>\n",
       "      <td>2st</td>\n",
       "      <td>397</td>\n",
       "      <td>24</td>\n",
       "      <td>0.338335</td>\n",
       "      <td>0.530792</td>\n",
       "      <td>0.040932</td>\n",
       "    </tr>\n",
       "    <tr>\n",
       "      <th>2</th>\n",
       "      <td>3nd</td>\n",
       "      <td>818</td>\n",
       "      <td>24</td>\n",
       "      <td>0.337216</td>\n",
       "      <td>0.519215</td>\n",
       "      <td>0.036480</td>\n",
       "    </tr>\n",
       "    <tr>\n",
       "      <th>3</th>\n",
       "      <td>4rd</td>\n",
       "      <td>534</td>\n",
       "      <td>24</td>\n",
       "      <td>0.333949</td>\n",
       "      <td>0.529699</td>\n",
       "      <td>0.042674</td>\n",
       "    </tr>\n",
       "    <tr>\n",
       "      <th>4</th>\n",
       "      <td>5th</td>\n",
       "      <td>756</td>\n",
       "      <td>24</td>\n",
       "      <td>0.318145</td>\n",
       "      <td>0.539829</td>\n",
       "      <td>0.039836</td>\n",
       "    </tr>\n",
       "    <tr>\n",
       "      <th>5</th>\n",
       "      <td>6th</td>\n",
       "      <td>441</td>\n",
       "      <td>4</td>\n",
       "      <td>0.322509</td>\n",
       "      <td>0.517790</td>\n",
       "      <td>0.042214</td>\n",
       "    </tr>\n",
       "    <tr>\n",
       "      <th>6</th>\n",
       "      <td>7th</td>\n",
       "      <td>389</td>\n",
       "      <td>24</td>\n",
       "      <td>0.317333</td>\n",
       "      <td>0.537488</td>\n",
       "      <td>0.043390</td>\n",
       "    </tr>\n",
       "  </tbody>\n",
       "</table>\n",
       "</div>"
      ],
      "text/plain": [
       "  Segment  Total  cuisine_cat  latitude  longitude  price_mid\n",
       "0     1th    437           16  0.350752   0.511031   0.040340\n",
       "1     2st    397           24  0.338335   0.530792   0.040932\n",
       "2     3nd    818           24  0.337216   0.519215   0.036480\n",
       "3     4rd    534           24  0.333949   0.529699   0.042674\n",
       "4     5th    756           24  0.318145   0.539829   0.039836\n",
       "5     6th    441            4  0.322509   0.517790   0.042214\n",
       "6     7th    389           24  0.317333   0.537488   0.043390"
      ]
     },
     "execution_count": 228,
     "metadata": {},
     "output_type": "execute_result"
    }
   ],
   "source": [
    "# Cluster interpretation\n",
    "df_K.rename(columns = {'Labels':'Total'}, inplace = True)\n",
    "df_K.groupby('Segment').agg(\n",
    "    {\n",
    "        'Total':'count',\n",
    "        'cuisine_cat': lambda x: x.value_counts().index[0],\n",
    "        'latitude': 'mean',\n",
    "        'longitude': 'mean',\n",
    "        'price_mid': 'mean'\n",
    "    }\n",
    ").reset_index()\n"
   ]
  },
  {
   "cell_type": "markdown",
   "id": "c9239b36",
   "metadata": {},
   "source": [
    "### Visualisation\n",
    "Do we actually have clusters? We will use UMAP embedding."
   ]
  },
  {
   "cell_type": "code",
   "execution_count": 254,
   "id": "4ad128d2",
   "metadata": {},
   "outputs": [
    {
     "data": {
      "text/html": [
       "<div>\n",
       "<style scoped>\n",
       "    .dataframe tbody tr th:only-of-type {\n",
       "        vertical-align: middle;\n",
       "    }\n",
       "\n",
       "    .dataframe tbody tr th {\n",
       "        vertical-align: top;\n",
       "    }\n",
       "\n",
       "    .dataframe thead th {\n",
       "        text-align: right;\n",
       "    }\n",
       "</style>\n",
       "<table border=\"1\" class=\"dataframe\">\n",
       "  <thead>\n",
       "    <tr style=\"text-align: right;\">\n",
       "      <th></th>\n",
       "      <th>latitude</th>\n",
       "      <th>longitude</th>\n",
       "      <th>price_mid</th>\n",
       "      <th>cuisine_cat</th>\n",
       "    </tr>\n",
       "  </thead>\n",
       "  <tbody>\n",
       "    <tr>\n",
       "      <th>0</th>\n",
       "      <td>1.252299</td>\n",
       "      <td>103.820211</td>\n",
       "      <td>40.5</td>\n",
       "      <td>0</td>\n",
       "    </tr>\n",
       "    <tr>\n",
       "      <th>1</th>\n",
       "      <td>1.307401</td>\n",
       "      <td>103.829904</td>\n",
       "      <td>65.5</td>\n",
       "      <td>1</td>\n",
       "    </tr>\n",
       "  </tbody>\n",
       "</table>\n",
       "</div>"
      ],
      "text/plain": [
       "   latitude   longitude  price_mid cuisine_cat\n",
       "0  1.252299  103.820211       40.5           0\n",
       "1  1.307401  103.829904       65.5           1"
      ]
     },
     "execution_count": 254,
     "metadata": {},
     "output_type": "execute_result"
    }
   ],
   "source": [
    "df_umap = pd.DataFrame()\n",
    "df_umap = restaurant_data[['latitude', 'longitude', 'price_mid']]\\\n",
    "    .join(restaurant_data['cuisine_cat'].copy().astype(str))\n",
    "df_umap.head(2)"
   ]
  },
  {
   "cell_type": "code",
   "execution_count": 277,
   "id": "68b99b3f",
   "metadata": {},
   "outputs": [
    {
     "name": "stderr",
     "output_type": "stream",
     "text": [
      "C:\\ProgramData\\Anaconda3\\lib\\site-packages\\sklearn\\preprocessing\\_data.py:3237: RuntimeWarning: divide by zero encountered in log\n",
      "  loglike = -n_samples / 2 * np.log(x_trans.var())\n",
      "C:\\ProgramData\\Anaconda3\\lib\\site-packages\\pandas\\core\\indexing.py:1951: SettingWithCopyWarning: \n",
      "A value is trying to be set on a copy of a slice from a DataFrame.\n",
      "Try using .loc[row_indexer,col_indexer] = value instead\n",
      "\n",
      "See the caveats in the documentation: https://pandas.pydata.org/pandas-docs/stable/user_guide/indexing.html#returning-a-view-versus-a-copy\n",
      "  self.obj[selected_item_labels] = value\n",
      "C:\\ProgramData\\Anaconda3\\lib\\site-packages\\pandas\\core\\indexing.py:1951: SettingWithCopyWarning: \n",
      "A value is trying to be set on a copy of a slice from a DataFrame.\n",
      "Try using .loc[row_indexer,col_indexer] = value instead\n",
      "\n",
      "See the caveats in the documentation: https://pandas.pydata.org/pandas-docs/stable/user_guide/indexing.html#returning-a-view-versus-a-copy\n",
      "  self.obj[selected_item_labels] = value\n",
      "C:\\ProgramData\\Anaconda3\\lib\\site-packages\\pandas\\core\\indexing.py:1951: SettingWithCopyWarning: \n",
      "A value is trying to be set on a copy of a slice from a DataFrame.\n",
      "Try using .loc[row_indexer,col_indexer] = value instead\n",
      "\n",
      "See the caveats in the documentation: https://pandas.pydata.org/pandas-docs/stable/user_guide/indexing.html#returning-a-view-versus-a-copy\n",
      "  self.obj[selected_item_labels] = value\n",
      "C:\\ProgramData\\Anaconda3\\lib\\site-packages\\umap\\umap_.py:1802: UserWarning: gradient function is not yet implemented for dice distance metric; inverse_transform will be unavailable\n",
      "  warn(\n",
      "C:\\ProgramData\\Anaconda3\\lib\\site-packages\\umap\\umap_.py:125: UserWarning: A few of your vertices were disconnected from the manifold.  This shouldn't cause problems.\n",
      "Disconnection_distance = 1 has removed 13482072 edges.\n",
      "It has only fully disconnected 4 vertices.\n",
      "Use umap.utils.disconnected_vertices() to identify them.\n",
      "  warn(\n"
     ]
    }
   ],
   "source": [
    "import umap\n",
    "from sklearn.preprocessing import PowerTransformer\n",
    "\n",
    "full_data = df_umap\n",
    "\n",
    "#Preprocessing numerical\n",
    "numerical = full_data.select_dtypes(exclude='object')\n",
    "\n",
    "for c in numerical.columns:\n",
    "    pt = PowerTransformer()\n",
    "    numerical.loc[:, c] = pt.fit_transform(np.array(numerical[c]).reshape(-1, 1))\n",
    "    \n",
    "##preprocessing categorical\n",
    "categorical = full_data.select_dtypes(include='object')\n",
    "categorical = pd.get_dummies(categorical)\n",
    "\n",
    "#Percentage of columns which are categorical is used as weight parameter in embeddings later\n",
    "categorical_weight = len(full_data.select_dtypes(include='object').columns) / full_data.shape[1]\n",
    "\n",
    "#Embedding numerical & categorical\n",
    "fit1 = umap.UMAP(metric='l2').fit(numerical)\n",
    "fit2 = umap.UMAP(metric='dice').fit(categorical)\n",
    "\n",
    "#Augmenting the numerical embedding with categorical\n",
    "intersection = umap.umap_.general_simplicial_set_intersection(fit1.graph_, fit2.graph_, weight=categorical_weight)\n",
    "intersection = umap.umap_.reset_local_connectivity(intersection)\n",
    "embedding = umap.umap_.simplicial_set_embedding(fit1._raw_data, intersection, fit1.n_components, \n",
    "                                                fit1._initial_alpha, fit1._a, fit1._b, \n",
    "                                                fit1.repulsion_strength, fit1.negative_sample_rate, \n",
    "                                                200, 'random', np.random, fit1.metric, \n",
    "                                                fit1._metric_kwds, False, {}, False)"
   ]
  },
  {
   "cell_type": "code",
   "execution_count": 280,
   "id": "fc6d6735",
   "metadata": {},
   "outputs": [
    {
     "data": {
      "image/png": "[encoded data removed]",
      "text/plain": [
       "<Figure size 1440x720 with 1 Axes>"
      ]
     },
     "metadata": {
      "needs_background": "light"
     },
     "output_type": "display_data"
    }
   ],
   "source": [
    "plt.figure(figsize=(20, 10))\n",
    "plt.scatter(embedding[0][:,0], embedding[0][:,1], s=2, cmap='Spectral', alpha=1.0)\n",
    "gcf = plt.gcf() #so our figure isn't lost\n",
    "plt.show()"
   ]
  },
  {
   "cell_type": "markdown",
   "id": "7ec9b199",
   "metadata": {},
   "source": [
    "### Dumping our data\n",
    "\n",
    "Our machine learning stuff here takes a while to run, so we're going to use Python's pickle functionality to serialise our models to files, so we can avoid rerunning them. Functionality for loading them back not implemented yet... We will also save our visualisation."
   ]
  },
  {
   "cell_type": "code",
   "execution_count": 281,
   "id": "67c4b755",
   "metadata": {},
   "outputs": [],
   "source": [
    "import pickle\n",
    "\n",
    "with open('models.pickle', 'wb') as handle:\n",
    "    pickle.dump(models, handle, protocol=pickle.HIGHEST_PROTOCOL)\n",
    "\n",
    "gcf.savefig('visualisation.png')"
   ]
  },
  {
   "cell_type": "code",
   "execution_count": null,
   "id": "ac8631b7",
   "metadata": {},
   "outputs": [],
   "source": []
  }
 ],
 "metadata": {
  "kernelspec": {
   "display_name": "Python 3 (ipykernel)",
   "language": "python",
   "name": "python3"
  },
  "language_info": {
   "codemirror_mode": {
    "name": "ipython",
    "version": 3
   },
   "file_extension": ".py",
   "mimetype": "text/x-python",
   "name": "python",
   "nbconvert_exporter": "python",
   "pygments_lexer": "ipython3",
   "version": "3.9.7"
  }
 },
 "nbformat": 4,
 "nbformat_minor": 5
}
