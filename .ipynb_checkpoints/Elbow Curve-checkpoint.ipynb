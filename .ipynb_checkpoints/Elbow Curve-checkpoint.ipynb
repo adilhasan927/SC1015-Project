{
 "cells": [
  {
   "cell_type": "markdown",
   "id": "7c3edf7d",
   "metadata": {},
   "source": [
    "# Initialize Libraries\n",
    "\n",
    "For the purposes of our Project, our group decided to apply a clustering model to our dataset. As the dataset comprises of both numerical and categorical data, we needed to use a model that could handle both types of data such as K-Prototypes"
   ]
  },
  {
   "cell_type": "markdown",
   "id": "39d02c9e",
   "metadata": {},
   "source": [
    "Note: You may need to install kmodes if it is not already installed"
   ]
  },
  {
   "cell_type": "code",
   "execution_count": 1,
   "id": "a94dbf04",
   "metadata": {},
   "outputs": [
    {
     "name": "stdout",
     "output_type": "stream",
     "text": [
      "Requirement already satisfied: kmodes in c:\\users\\irfan\\anaconda3\\lib\\site-packages (0.11.1)\n",
      "Requirement already satisfied: numpy>=1.10.4 in c:\\users\\irfan\\anaconda3\\lib\\site-packages (from kmodes) (1.20.3)\n",
      "Requirement already satisfied: joblib>=0.11 in c:\\users\\irfan\\anaconda3\\lib\\site-packages (from kmodes) (1.1.0)\n",
      "Requirement already satisfied: scikit-learn>=0.22.0 in c:\\users\\irfan\\anaconda3\\lib\\site-packages (from kmodes) (0.24.2)\n",
      "Requirement already satisfied: scipy>=0.13.3 in c:\\users\\irfan\\anaconda3\\lib\\site-packages (from kmodes) (1.7.1)\n",
      "Requirement already satisfied: threadpoolctl>=2.0.0 in c:\\users\\irfan\\anaconda3\\lib\\site-packages (from scikit-learn>=0.22.0->kmodes) (2.2.0)\n",
      "Note: you may need to restart the kernel to use updated packages.\n"
     ]
    }
   ],
   "source": [
    "pip install kmodes"
   ]
  },
  {
   "cell_type": "code",
   "execution_count": 2,
   "id": "2cfa5907",
   "metadata": {},
   "outputs": [],
   "source": [
    "import numpy as np\n",
    "import pandas as pd\n",
    "\n",
    "import matplotlib.pyplot as plt\n",
    "import seaborn as sns\n",
    "%matplotlib inline\n",
    "\n",
    "import warnings\n",
    "warnings.filterwarnings('ignore')"
   ]
  },
  {
   "cell_type": "code",
   "execution_count": 3,
   "id": "9950967e",
   "metadata": {},
   "outputs": [],
   "source": [
    "from kmodes.kprototypes import KPrototypes"
   ]
  },
  {
   "cell_type": "markdown",
   "id": "aff78719",
   "metadata": {},
   "source": [
    "## Loading in dataset\n",
    "\n",
    "We will be using the dataset duped_data.csv that was generated after the data cleaning process."
   ]
  },
  {
   "cell_type": "code",
   "execution_count": 4,
   "id": "abbc04db",
   "metadata": {},
   "outputs": [
    {
     "name": "stdout",
     "output_type": "stream",
     "text": [
      "<class 'pandas.core.frame.DataFrame'>\n",
      "RangeIndex: 3772 entries, 0 to 3771\n",
      "Data columns (total 12 columns):\n",
      " #   Column          Non-Null Count  Dtype  \n",
      "---  ------          --------------  -----  \n",
      " 0   Unnamed: 0      3772 non-null   int64  \n",
      " 1   id              3772 non-null   int64  \n",
      " 2   name            3772 non-null   object \n",
      " 3   street_address  3772 non-null   object \n",
      " 4   price           3772 non-null   object \n",
      " 5   cuisine         3772 non-null   object \n",
      " 6   rating          3772 non-null   float64\n",
      " 7   latitude        3772 non-null   float64\n",
      " 8   longitude       3772 non-null   float64\n",
      " 9   price_mid       3772 non-null   float64\n",
      " 10  cuisine_cat     3772 non-null   int64  \n",
      " 11  duplicate       3772 non-null   int64  \n",
      "dtypes: float64(4), int64(4), object(4)\n",
      "memory usage: 353.8+ KB\n"
     ]
    }
   ],
   "source": [
    "restaurant_data = pd.read_csv('duped_data.csv')\n",
    "restaurant_data.info()"
   ]
  },
  {
   "cell_type": "markdown",
   "id": "0455f683",
   "metadata": {},
   "source": [
    "## Data Reformatting\n",
    "\n",
    "Before applying the K.Prototype model onto the dataset, reformatting needs to be done.   \n",
    "\n",
    "In particular the following categorical columns:   \n",
    "**'rating'** will be converted from **float** to **object** type   \n",
    "**'cuisine_cat'** will be converted from **int** to **object** type"
   ]
  },
  {
   "cell_type": "code",
   "execution_count": 5,
   "id": "e903a7d7",
   "metadata": {},
   "outputs": [
    {
     "name": "stdout",
     "output_type": "stream",
     "text": [
      "<class 'pandas.core.frame.DataFrame'>\n",
      "RangeIndex: 3772 entries, 0 to 3771\n",
      "Data columns (total 12 columns):\n",
      " #   Column          Non-Null Count  Dtype  \n",
      "---  ------          --------------  -----  \n",
      " 0   Unnamed: 0      3772 non-null   int64  \n",
      " 1   id              3772 non-null   int64  \n",
      " 2   name            3772 non-null   object \n",
      " 3   street_address  3772 non-null   object \n",
      " 4   price           3772 non-null   object \n",
      " 5   cuisine         3772 non-null   object \n",
      " 6   rating          3772 non-null   object \n",
      " 7   latitude        3772 non-null   float64\n",
      " 8   longitude       3772 non-null   float64\n",
      " 9   price_mid       3772 non-null   float64\n",
      " 10  cuisine_cat     3772 non-null   object \n",
      " 11  duplicate       3772 non-null   int64  \n",
      "dtypes: float64(3), int64(3), object(6)\n",
      "memory usage: 353.8+ KB\n"
     ]
    }
   ],
   "source": [
    "restaurant_data['cuisine_cat'] = restaurant_data['cuisine_cat'].astype(str)\n",
    "restaurant_data['rating'] = restaurant_data['rating'].astype(str)\n",
    "restaurant_data.info()"
   ]
  },
  {
   "cell_type": "code",
   "execution_count": 6,
   "id": "ba00e48d",
   "metadata": {},
   "outputs": [
    {
     "data": {
      "text/plain": [
       "name              2194\n",
       "street_address    2717\n",
       "price                8\n",
       "cuisine            189\n",
       "rating               7\n",
       "cuisine_cat         52\n",
       "dtype: int64"
      ]
     },
     "execution_count": 6,
     "metadata": {},
     "output_type": "execute_result"
    }
   ],
   "source": [
    "restaurant_data.select_dtypes('object').nunique()"
   ]
  },
  {
   "cell_type": "markdown",
   "id": "7a39653f",
   "metadata": {},
   "source": [
    "### Creating a new Dataframe\n",
    "\n",
    "Creation of a new dataframe containing all values relevant to the clustering algorithm   "
   ]
  },
  {
   "cell_type": "code",
   "execution_count": 7,
   "id": "941654d3",
   "metadata": {},
   "outputs": [],
   "source": [
    "df_K = restaurant_data[['rating','cuisine_cat','latitude','longitude','price_mid']]"
   ]
  },
  {
   "cell_type": "markdown",
   "id": "9cba0858",
   "metadata": {},
   "source": [
    "Converting the dataframe to an array to be fed into the K.Prototype model"
   ]
  },
  {
   "cell_type": "code",
   "execution_count": 8,
   "id": "789fe982",
   "metadata": {},
   "outputs": [],
   "source": [
    "smart_array = df_K.values\n",
    "\n",
    "smart_array[:, 2] = smart_array[:,2].astype(float)\n",
    "smart_array[:, 3] = smart_array[:,3].astype(float)\n",
    "smart_array[:, 4] = smart_array[:,4].astype(float)\n",
    "\n",
    "categorical_index = list(range(0,1))"
   ]
  },
  {
   "cell_type": "markdown",
   "id": "6addf606",
   "metadata": {},
   "source": [
    "### Plotting the Elbow Curve\n",
    "\n",
    "Below, we will plot the elbow curve graph to find the optimal number of clusters to be applied to the K.Prototypes model"
   ]
  },
  {
   "cell_type": "code",
   "execution_count": null,
   "id": "aa8872a8",
   "metadata": {},
   "outputs": [],
   "source": [
    "\n",
    "# Function for plotting elbow curve\n",
    "def plot_elbow_curve(start, end, data):\n",
    "    no_of_clusters = list(range(start, end+1))\n",
    "    cost_values = []\n",
    "    \n",
    "    for k in no_of_clusters:\n",
    "        test_model = KPrototypes(n_clusters=k, init='Huang', random_state=42)\n",
    "        test_model.fit_predict(data, categorical=categorical_index)\n",
    "        cost_values.append(test_model.cost_)\n",
    "        \n",
    "    sns.set_theme(style=\"whitegrid\", palette=\"bright\", font_scale=1.2)\n",
    "    \n",
    "    plt.figure(figsize=(15, 7))\n",
    "    ax = sns.lineplot(x=no_of_clusters, y=cost_values, marker=\"o\", dashes=False)\n",
    "    ax.set_title('Elbow curve', fontsize=18)\n",
    "    ax.set_xlabel('No of clusters', fontsize=14)\n",
    "    ax.set_ylabel('Cost', fontsize=14)\n",
    "    ax.set(xlim=(start-0.1, end+0.1))\n",
    "    plt.plot();\n",
    "    \n",
    "# Plotting elbow curve for k=2 to k=10\n",
    "plot_elbow_curve(2,8,smart_array)"
   ]
  },
  {
   "cell_type": "code",
   "execution_count": null,
   "id": "55f9f5ca",
   "metadata": {},
   "outputs": [],
   "source": []
  }
 ],
 "metadata": {
  "kernelspec": {
   "display_name": "Python 3 (ipykernel)",
   "language": "python",
   "name": "python3"
  },
  "language_info": {
   "codemirror_mode": {
    "name": "ipython",
    "version": 3
   },
   "file_extension": ".py",
   "mimetype": "text/x-python",
   "name": "python",
   "nbconvert_exporter": "python",
   "pygments_lexer": "ipython3",
   "version": "3.9.7"
  }
 },
 "nbformat": 4,
 "nbformat_minor": 5
}
