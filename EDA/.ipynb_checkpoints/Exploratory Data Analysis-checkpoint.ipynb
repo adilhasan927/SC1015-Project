{
 "cells": [
  {
   "cell_type": "markdown",
   "id": "90ece618",
   "metadata": {},
   "source": [
    "# Exploratory Data Analysis\n",
    "\n",
    "Univariate and bi- or multi-variate analysis of our cleaned data."
   ]
  },
  {
   "cell_type": "markdown",
   "id": "f5f19a9d",
   "metadata": {},
   "source": [
    "## Importing libraries"
   ]
  },
  {
   "cell_type": "code",
   "execution_count": 1,
   "id": "21c49d77",
   "metadata": {},
   "outputs": [],
   "source": [
    "# Basic Libraries\n",
    "import numpy as np\n",
    "import pandas as pd\n",
    "import seaborn as sb\n",
    "import matplotlib.pyplot as plt # we only need pyplot\n",
    "sb.set() # set the default Seaborn style for graphics"
   ]
  },
  {
   "cell_type": "markdown",
   "id": "092ff906",
   "metadata": {},
   "source": [
    "## Import the dataset\n",
    "\n",
    "Let's import our cleaned (but not one-hotted) dataset. The one-hotting will be useful for more complex algorithms later on."
   ]
  },
  {
   "cell_type": "code",
   "execution_count": 25,
   "id": "a6ecc220",
   "metadata": {},
   "outputs": [
    {
     "name": "stdout",
     "output_type": "stream",
     "text": [
      "<class 'pandas.core.frame.DataFrame'>\n",
      "RangeIndex: 2833 entries, 0 to 2832\n",
      "Data columns (total 7 columns):\n",
      " #   Column        Non-Null Count  Dtype  \n",
      "---  ------        --------------  -----  \n",
      " 0   id            2833 non-null   int64  \n",
      " 1   name          2833 non-null   object \n",
      " 2   rating        2833 non-null   float64\n",
      " 3   latitude      2833 non-null   float64\n",
      " 4   longitude     2833 non-null   float64\n",
      " 5   price         2833 non-null   float64\n",
      " 6   cuisine_cats  2833 non-null   object \n",
      "dtypes: float64(4), int64(1), object(2)\n",
      "memory usage: 155.1+ KB\n"
     ]
    }
   ],
   "source": [
    "#converter so that we read as list object and not string\n",
    "from ast import literal_eval\n",
    "dataset = pd.read_csv('../Data/cleaned_data.csv', converters={\"cuisine_cats\": literal_eval})\n",
    "dataset.info()"
   ]
  },
  {
   "cell_type": "code",
   "execution_count": 26,
   "id": "e15d23b2",
   "metadata": {},
   "outputs": [
    {
     "data": {
      "text/html": [
       "<div>\n",
       "<style scoped>\n",
       "    .dataframe tbody tr th:only-of-type {\n",
       "        vertical-align: middle;\n",
       "    }\n",
       "\n",
       "    .dataframe tbody tr th {\n",
       "        vertical-align: top;\n",
       "    }\n",
       "\n",
       "    .dataframe thead th {\n",
       "        text-align: right;\n",
       "    }\n",
       "</style>\n",
       "<table border=\"1\" class=\"dataframe\">\n",
       "  <thead>\n",
       "    <tr style=\"text-align: right;\">\n",
       "      <th></th>\n",
       "      <th>id</th>\n",
       "      <th>name</th>\n",
       "      <th>rating</th>\n",
       "      <th>latitude</th>\n",
       "      <th>longitude</th>\n",
       "      <th>price</th>\n",
       "      <th>cuisine_cats</th>\n",
       "    </tr>\n",
       "  </thead>\n",
       "  <tbody>\n",
       "    <tr>\n",
       "      <th>0</th>\n",
       "      <td>0</td>\n",
       "      <td>1-V:U</td>\n",
       "      <td>3.5</td>\n",
       "      <td>1.252299</td>\n",
       "      <td>103.820211</td>\n",
       "      <td>40.5</td>\n",
       "      <td>[0]</td>\n",
       "    </tr>\n",
       "    <tr>\n",
       "      <th>1</th>\n",
       "      <td>1</td>\n",
       "      <td>10 At Claymore</td>\n",
       "      <td>4.0</td>\n",
       "      <td>1.307401</td>\n",
       "      <td>103.829904</td>\n",
       "      <td>65.5</td>\n",
       "      <td>[1]</td>\n",
       "    </tr>\n",
       "  </tbody>\n",
       "</table>\n",
       "</div>"
      ],
      "text/plain": [
       "   id            name  rating  latitude   longitude  price cuisine_cats\n",
       "0   0           1-V:U     3.5  1.252299  103.820211   40.5          [0]\n",
       "1   1  10 At Claymore     4.0  1.307401  103.829904   65.5          [1]"
      ]
     },
     "execution_count": 26,
     "metadata": {},
     "output_type": "execute_result"
    }
   ],
   "source": [
    "dataset.head(2)"
   ]
  },
  {
   "cell_type": "markdown",
   "id": "337247a2",
   "metadata": {},
   "source": [
    "`id` is just a unique identifier we have for convenience purposes. `name` is the name of each restaurant. `rating` is the average rating users gave a restaurant. `latitude` and `longitude` are the GPS coordinates of the restaurant. `price` is the middle value of the price range we scraped.\n",
    "\n",
    "`cuisine_cats` has the most interesting data-type; it is a list of indices into a separate list of cuisines. Let's import this cuisines list."
   ]
  },
  {
   "cell_type": "code",
   "execution_count": 27,
   "id": "4e53563f",
   "metadata": {},
   "outputs": [
    {
     "data": {
      "text/html": [
       "<div>\n",
       "<style scoped>\n",
       "    .dataframe tbody tr th:only-of-type {\n",
       "        vertical-align: middle;\n",
       "    }\n",
       "\n",
       "    .dataframe tbody tr th {\n",
       "        vertical-align: top;\n",
       "    }\n",
       "\n",
       "    .dataframe thead th {\n",
       "        text-align: right;\n",
       "    }\n",
       "</style>\n",
       "<table border=\"1\" class=\"dataframe\">\n",
       "  <thead>\n",
       "    <tr style=\"text-align: right;\">\n",
       "      <th></th>\n",
       "      <th>0</th>\n",
       "    </tr>\n",
       "  </thead>\n",
       "  <tbody>\n",
       "    <tr>\n",
       "      <th>count</th>\n",
       "      <td>52</td>\n",
       "    </tr>\n",
       "    <tr>\n",
       "      <th>unique</th>\n",
       "      <td>52</td>\n",
       "    </tr>\n",
       "    <tr>\n",
       "      <th>top</th>\n",
       "      <td>Asian Variety</td>\n",
       "    </tr>\n",
       "    <tr>\n",
       "      <th>freq</th>\n",
       "      <td>1</td>\n",
       "    </tr>\n",
       "  </tbody>\n",
       "</table>\n",
       "</div>"
      ],
      "text/plain": [
       "                    0\n",
       "count              52\n",
       "unique             52\n",
       "top     Asian Variety\n",
       "freq                1"
      ]
     },
     "execution_count": 27,
     "metadata": {},
     "output_type": "execute_result"
    }
   ],
   "source": [
    "cuisines = pd.read_csv('../Data/cuisines.csv')\n",
    "cuisines.describe()"
   ]
  },
  {
   "cell_type": "markdown",
   "id": "d1ae23af",
   "metadata": {},
   "source": [
    "We already know some stuff about `cuisine_cats` from our data cleaning, which I will reproduce here."
   ]
  },
  {
   "cell_type": "code",
   "execution_count": 28,
   "id": "0619667b",
   "metadata": {},
   "outputs": [
    {
     "name": "stdout",
     "output_type": "stream",
     "text": [
      "Cuisines: 52\n",
      "The most cuisines in a restaurant: 6\n"
     ]
    }
   ],
   "source": [
    "print(\"Cuisines: {}\".format(len(cuisines)))\n",
    "print(\"The most cuisines in a restaurant: {}\".format(dataset['cuisine_cats'].apply(len).max()))"
   ]
  },
  {
   "cell_type": "markdown",
   "id": "a3cd86e8",
   "metadata": {},
   "source": [
    "## Univariate analyses\n",
    "\n",
    "Let's look at each of our variables."
   ]
  },
  {
   "cell_type": "markdown",
   "id": "a92b4e62",
   "metadata": {},
   "source": [
    "### Univariate analysis of `rating`\n",
    "\n",
    "We'll start by looking at our summary statistics. Rating is in the form of discrete categories; however, there isa clear numerical ordering, and thus we can to an extent treat it as numerical data."
   ]
  },
  {
   "cell_type": "code",
   "execution_count": 29,
   "id": "ba121966",
   "metadata": {},
   "outputs": [
    {
     "data": {
      "text/plain": [
       "count    2833.000000\n",
       "mean        3.623014\n",
       "std         0.311548\n",
       "min         2.000000\n",
       "25%         3.500000\n",
       "50%         3.500000\n",
       "75%         4.000000\n",
       "max         5.000000\n",
       "Name: rating, dtype: float64"
      ]
     },
     "execution_count": 29,
     "metadata": {},
     "output_type": "execute_result"
    }
   ],
   "source": [
    "dataset['rating'].describe()"
   ]
  },
  {
   "cell_type": "markdown",
   "id": "49a196ed",
   "metadata": {},
   "source": [
    "Mean rating is a 3.6, with a standard deviation of 0.31. That means that at least 68% of our restaurants will fall in the 3.0-4.0 rating range. There is no restaurant with a rating below 2.0. The maximum rating is 5.0. The median rating is 3.5. The 25th percentile rating is also 3.5; the 75th percentile is 4.0. At least 50% of our restaurants are thus in the 3.5-4.0 rating range. Let's try looking at a boxplot."
   ]
  },
  {
   "cell_type": "code",
   "execution_count": 39,
   "id": "0549b2da",
   "metadata": {},
   "outputs": [
    {
     "data": {
      "text/plain": [
       "<AxesSubplot:>"
      ]
     },
     "execution_count": 39,
     "metadata": {},
     "output_type": "execute_result"
    },
    {
     "data": {
      "image/png": "[encoded data removed]",
      "text/plain": [
       "<Figure size 864x144 with 1 Axes>"
      ]
     },
     "metadata": {},
     "output_type": "display_data"
    }
   ],
   "source": [
    "plt.figure(figsize=(12,2))\n",
    "sb.boxplot(data=dataset['rating'], orient=\"h\", linewidth=2.5, width=16, medianprops={'color': 'red', 'ls': ':', 'lw': 5})"
   ]
  },
  {
   "cell_type": "markdown",
   "id": "71c9cabc",
   "metadata": {},
   "source": [
    "Our boxplot again shows our median to coincide with the 25th percentile. We also know it to be left of the mean, which is 3.6; we are thus seeing a heavy positive skew.  Furthermore, our boxplot's 1.5 IQR whiskers extend from 3.0 to 4.5; it thus seems to be the case that ratings of 2.0, 2.5 and 5.0 are outliers."
   ]
  },
  {
   "cell_type": "markdown",
   "id": "23957cbb",
   "metadata": {},
   "source": [
    "Let's try investigating our data further with a histogram of ratings."
   ]
  },
  {
   "cell_type": "code",
   "execution_count": 30,
   "id": "71332de5",
   "metadata": {},
   "outputs": [
    {
     "data": {
      "text/plain": [
       "<AxesSubplot:xlabel='rating', ylabel='Count'>"
      ]
     },
     "execution_count": 30,
     "metadata": {},
     "output_type": "execute_result"
    },
    {
     "data": {
      "image/png": "[encoded data removed]",
      "text/plain": [
       "<Figure size 432x288 with 1 Axes>"
      ]
     },
     "metadata": {},
     "output_type": "display_data"
    }
   ],
   "source": [
    "sb.histplot(data=dataset['rating'])"
   ]
  },
  {
   "cell_type": "markdown",
   "id": "a1f6ee3b",
   "metadata": {},
   "source": [
    "This confirms our understanding that the vast majority of ratings are in the 3.0-4.5 range, and that our distribution is a discrete approximation of a positively skewed normal distribution. A KDE or violin plot would be inappropriate due to the discrete nature of our ratings data, as it would show us a false smoothness. We are thus left with the last thing of interest, which is to find out how the exact percentiles of all our rating values."
   ]
  },
  {
   "cell_type": "code",
   "execution_count": 43,
   "id": "f9abbb0f",
   "metadata": {},
   "outputs": [
    {
     "name": "stdout",
     "output_type": "stream",
     "text": [
      "Percentile <= 2.0 is 0.04, > is 99.96\n",
      "Percentile <= 2.5 is 0.60, > is 99.40\n",
      "Percentile <= 3.0 is 5.15, > is 94.85\n",
      "Percentile <= 3.5 is 73.07, > is 26.93\n",
      "Percentile <= 4.0 is 96.75, > is 3.25\n",
      "Percentile <= 4.5 is 99.79, > is 0.21\n",
      "Percentile <= 5.0 is 100.00, > is 0.00\n"
     ]
    }
   ],
   "source": [
    "from scipy import stats\n",
    "for i in [2.0, 2.5, 3.0, 3.5, 4.0, 4.5, 5.0]:\n",
    "    print(\"Percentile <= {} is {:.2f}, > is {:.2f}\"\n",
    "          .format(i,\n",
    "                  below:=stats.percentileofscore(dataset['rating'],i, kind='weak'),\n",
    "                  100-below))"
   ]
  },
  {
   "cell_type": "markdown",
   "id": "49e9f9bc",
   "metadata": {},
   "source": [
    "0.04% percent of our data is 2.0 or lower. 0.60% of our data is 2.5 or lower. 5.15% of our data is 3.0 or lower. We can thus say that low ratings in the 2.0-3.0 range are exceedingly rare, and restaurants have to be either really terrible or really unlucky to get them."
   ]
  },
  {
   "cell_type": "markdown",
   "id": "7a70b86b",
   "metadata": {},
   "source": [
    "26.93% of restaurants score 4.0 or higher. 3.25% of restaurants score 4.5 or higher. Only 0.21% of restaurants score a perfect 5.0. We can thus conclude that very high ratings of 4.5-5.0 are likewise very rare."
   ]
  },
  {
   "cell_type": "markdown",
   "id": "5ba3aa85",
   "metadata": {},
   "source": [
    "### Univariate analysis of `latitude`."
   ]
  },
  {
   "cell_type": "code",
   "execution_count": 44,
   "id": "4a44901d",
   "metadata": {},
   "outputs": [
    {
     "data": {
      "text/plain": [
       "count    2833.000000\n",
       "mean        1.317245\n",
       "std         0.036561\n",
       "min         1.243262\n",
       "25%         1.292364\n",
       "50%         1.305143\n",
       "75%         1.337066\n",
       "max         1.466940\n",
       "Name: latitude, dtype: float64"
      ]
     },
     "execution_count": 44,
     "metadata": {},
     "output_type": "execute_result"
    }
   ],
   "source": [
    "dataset['latitude'].describe()"
   ]
  },
  {
   "cell_type": "markdown",
   "id": "f927be58",
   "metadata": {},
   "source": [
    "Looks like our standard deviation and min-max range are numerically really small compared to our mean. That makes sense; these are GPS coordinates which give absolute positions on the surface of the Earth, and all of ours are local in a single city (Singapore). It does mean we will need to normalise it to do much with it, though."
   ]
  },
  {
   "cell_type": "code",
   "execution_count": 51,
   "id": "66a15e47",
   "metadata": {},
   "outputs": [
    {
     "data": {
      "text/plain": [
       "<AxesSubplot:>"
      ]
     },
     "execution_count": 51,
     "metadata": {},
     "output_type": "execute_result"
    },
    {
     "data": {
      "image/png": "[encoded data removed]",
      "text/plain": [
       "<Figure size 864x144 with 1 Axes>"
      ]
     },
     "metadata": {},
     "output_type": "display_data"
    }
   ],
   "source": [
    "plt.figure(figsize=(12,2))\n",
    "sb.boxplot(data=dataset['latitude'], orient=\"h\", linewidth=2.5, width=16, medianprops={'color': 'red', 'ls': ':', 'lw': 5})"
   ]
  },
  {
   "cell_type": "markdown",
   "id": "d1b23edf",
   "metadata": {},
   "source": [
    "Looks like we've got positive skew, with median (1.305N) significantly towards the left of the box. This seems to correspond with Singapore having a high density of restaurants and other businesses in the south, with a slow taper as you go north.\n",
    "\n",
    "There are also a lot of outlier values clustered to the far north, past 1.40N latitude."
   ]
  },
  {
   "cell_type": "code",
   "execution_count": 70,
   "id": "6306e611",
   "metadata": {},
   "outputs": [
    {
     "data": {
      "text/plain": [
       "<AxesSubplot:>"
      ]
     },
     "execution_count": 70,
     "metadata": {},
     "output_type": "execute_result"
    },
    {
     "data": {
      "image/png": "[encoded data removed]",
      "text/plain": [
       "<Figure size 864x288 with 1 Axes>"
      ]
     },
     "metadata": {},
     "output_type": "display_data"
    },
    {
     "data": {
      "image/png": "[encoded data removed]",
      "text/plain": [
       "<Figure size 864x288 with 1 Axes>"
      ]
     },
     "metadata": {},
     "output_type": "display_data"
    }
   ],
   "source": [
    "fig, ax = plt.subplots(figsize=(12,4))\n",
    "sb.histplot(data=dataset['latitude'], kde=True, ax=ax)\n",
    "fig, ax = plt.subplots(figsize=(12,4))\n",
    "sb.violinplot(data=dataset['latitude'], orient=\"h\", ax=ax)"
   ]
  },
  {
   "cell_type": "markdown",
   "id": "647dd335",
   "metadata": {},
   "source": [
    "Our histogram/KDE and violin plots confirm that our latitude data is roughly normal, but with abnormalities somewhat to the right of the peak which make it rather positively skewed and give it a minor second peak far to the left, in latitude 1.40-1.45, corresponding with the cluster of northern outliers we previously saw. Later on we will more clearly see what could cause this through a geographic visualisation."
   ]
  },
  {
   "cell_type": "markdown",
   "id": "21691f68",
   "metadata": {},
   "source": [
    "### Univariate analysis of `longitude`."
   ]
  },
  {
   "cell_type": "code",
   "execution_count": 71,
   "id": "4a4bf7f2",
   "metadata": {},
   "outputs": [
    {
     "data": {
      "text/plain": [
       "count    2833.000000\n",
       "mean      103.843154\n",
       "std         0.051567\n",
       "min       103.679230\n",
       "25%       103.828089\n",
       "50%       103.844895\n",
       "75%       103.856858\n",
       "max       103.990648\n",
       "Name: longitude, dtype: float64"
      ]
     },
     "execution_count": 71,
     "metadata": {},
     "output_type": "execute_result"
    }
   ],
   "source": [
    "dataset['longitude'].describe()"
   ]
  },
  {
   "cell_type": "markdown",
   "id": "f9bc1914",
   "metadata": {},
   "source": [
    "Looks like our standard deviation and min-max range are numerically really small compared to our mean. That makes sense; these are GPS coordinates which give absolute positions on the surface of the Earth, and all of ours are local in a single city (Singapore). It does mean we will need to normalise it to do much with it, though."
   ]
  },
  {
   "cell_type": "code",
   "execution_count": 72,
   "id": "39c32d24",
   "metadata": {},
   "outputs": [
    {
     "data": {
      "text/plain": [
       "<AxesSubplot:>"
      ]
     },
     "execution_count": 72,
     "metadata": {},
     "output_type": "execute_result"
    },
    {
     "data": {
      "image/png": "[encoded data removed]",
      "text/plain": [
       "<Figure size 864x144 with 1 Axes>"
      ]
     },
     "metadata": {},
     "output_type": "display_data"
    }
   ],
   "source": [
    "plt.figure(figsize=(12,2))\n",
    "sb.boxplot(data=dataset['longitude'], orient=\"h\", linewidth=2.5, width=16, medianprops={'color': 'red', 'ls': ':', 'lw': 5})"
   ]
  },
  {
   "cell_type": "markdown",
   "id": "2b5050a6",
   "metadata": {},
   "source": [
    "Looks like we've got slight negative skew, with median (103.844E) somewhat towards the right of the box.\n",
    "\n",
    "We also seem to have a lot of outliers past the whiskers, this time to both the east and the west of our median."
   ]
  },
  {
   "cell_type": "code",
   "execution_count": 73,
   "id": "4c182a0b",
   "metadata": {},
   "outputs": [
    {
     "data": {
      "text/plain": [
       "<AxesSubplot:>"
      ]
     },
     "execution_count": 73,
     "metadata": {},
     "output_type": "execute_result"
    },
    {
     "data": {
      "image/png": "[encoded data removed]",
      "text/plain": [
       "<Figure size 864x288 with 1 Axes>"
      ]
     },
     "metadata": {},
     "output_type": "display_data"
    },
    {
     "data": {
      "image/png": "[encoded data removed]",
      "text/plain": [
       "<Figure size 864x288 with 1 Axes>"
      ]
     },
     "metadata": {},
     "output_type": "display_data"
    }
   ],
   "source": [
    "fig, ax = plt.subplots(figsize=(12,4))\n",
    "sb.histplot(data=dataset['longitude'], kde=True, ax=ax)\n",
    "fig, ax = plt.subplots(figsize=(12,4))\n",
    "sb.violinplot(data=dataset['longitude'], orient=\"h\", ax=ax)"
   ]
  },
  {
   "cell_type": "markdown",
   "id": "7b95bf88",
   "metadata": {},
   "source": [
    "Our histogram/KDE and violin plots confirm that our latitude data is roughly a normal distribution with slight skew. However, the tail on both the left and the right tapers slowly and is rather thick, with many outlier values. Let's actually count our outliers."
   ]
  },
  {
   "cell_type": "code",
   "execution_count": 79,
   "id": "1a8aab39",
   "metadata": {},
   "outputs": [
    {
     "name": "stdout",
     "output_type": "stream",
     "text": [
      "347 outliers to the left/west, 340 to the right/east\n",
      "687 outliers in total, out of 2833 data points\n",
      "24.2% of our data points are outliers wrt longitude\n"
     ]
    }
   ],
   "source": [
    "df = dataset['longitude']\n",
    "Q1 = df.quantile(0.25)\n",
    "Q3 = df.quantile(0.75)\n",
    "IQR = Q3 - Q1\n",
    "print(\"{} outliers to the left/west, {} to the right/east\\n\"\\\n",
    "      \"{} outliers in total, out of {} data points\\n\"\\\n",
    "      \"{:.1f}% of our data points are outliers wrt longitude\"\n",
    "      .format(left := (df < (Q1 - 1.5 * IQR)).sum(),\n",
    "              right := (df > (Q3 + 1.5 * IQR)).sum(),\n",
    "              total := left+right,\n",
    "              lendf := len(df), 100 * total/lendf))"
   ]
  },
  {
   "cell_type": "markdown",
   "id": "09fd9942",
   "metadata": {},
   "source": [
    "24.2% of our data points are outliers by the 1.5\\*IQR metric, roughly equally split between outliers to the left and outliers to the right of the media. That's quite a lot and indicates that longitude-wise restaurants are pretty smoothly distributed throughout Singapore, with a peak in the middle."
   ]
  },
  {
   "cell_type": "markdown",
   "id": "015d3ab8",
   "metadata": {},
   "source": [
    "### Univariate analysis of `cuisine_cats`\n",
    "\n",
    "This will be interesting and challenging, due to the data type (lists of cuisines) and it being categorical data with a high number of categories."
   ]
  },
  {
   "cell_type": "code",
   "execution_count": null,
   "id": "4bb20788",
   "metadata": {},
   "outputs": [],
   "source": []
  }
 ],
 "metadata": {
  "kernelspec": {
   "display_name": "Python 3 (ipykernel)",
   "language": "python",
   "name": "python3"
  },
  "language_info": {
   "codemirror_mode": {
    "name": "ipython",
    "version": 3
   },
   "file_extension": ".py",
   "mimetype": "text/x-python",
   "name": "python",
   "nbconvert_exporter": "python",
   "pygments_lexer": "ipython3",
   "version": "3.9.7"
  }
 },
 "nbformat": 4,
 "nbformat_minor": 5
}
